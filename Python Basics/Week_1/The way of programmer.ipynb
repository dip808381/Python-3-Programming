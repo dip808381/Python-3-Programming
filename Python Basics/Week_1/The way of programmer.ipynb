{
 "cells": [
  {
   "cell_type": "markdown",
   "metadata": {},
   "source": [
    "# Syntax errors\n",
    "Python can only execute a program if the program is syntactically correct; otherwise, the process fails and returns an error message. Syntax refers to the structure of a program and the rules about that structure. For example, in English, a sentence must begin with a capital letter and end with a period. this sentence contains a syntax error. So does this one\n",
    "\n",
    "For most readers, a few syntax errors are not a significant problem, which is why we can read the poetry of e. e. cummings without problems. Python is not so forgiving. If there is a single syntax error anywhere in your program, Python will display an error message and quit. You will not be able to complete the execution of your program. During the first few weeks of your programming career, you will probably spend a lot of time tracking down syntax errors. However, as you gain experience, you will make fewer errors and you will also be able to find your errors faster.\n",
    "\n",
    "Can you spot the syntax error in the code below?"
   ]
  },
  {
   "cell_type": "code",
   "execution_count": 1,
   "metadata": {},
   "outputs": [
    {
     "ename": "SyntaxError",
     "evalue": "unexpected EOF while parsing (<ipython-input-1-0219726117bb>, line 1)",
     "output_type": "error",
     "traceback": [
      "\u001b[1;36m  File \u001b[1;32m\"<ipython-input-1-0219726117bb>\"\u001b[1;36m, line \u001b[1;32m1\u001b[0m\n\u001b[1;33m    print(\"Hello World!\"\u001b[0m\n\u001b[1;37m                        ^\u001b[0m\n\u001b[1;31mSyntaxError\u001b[0m\u001b[1;31m:\u001b[0m unexpected EOF while parsing\n"
     ]
    }
   ],
   "source": [
    "print(\"Hello World!\""
   ]
  },
  {
   "cell_type": "markdown",
   "metadata": {},
   "source": [
    "Which of the following is a syntax error?\n",
    "\n",
    "A. Attempting to divide by 0.\n",
    "\n",
    "B. Forgetting a colon at the end of a statement where one is required.\n",
    "\n",
    "C. Forgetting to divide by 100 when printing a percentage amount.\n"
   ]
  },
  {
   "cell_type": "markdown",
   "metadata": {},
   "source": [
    " Who or what typically finds syntax errors?\n",
    "\n",
    "A. The programmer.\n",
    "\n",
    "B. The compiler / interpreter.\n",
    "\n",
    "C. The computer.\n",
    "\n",
    "D. The teacher / instructor."
   ]
  },
  {
   "cell_type": "markdown",
   "metadata": {},
   "source": [
    "# Runtime Errors\n",
    "The second type of error is a runtime error, so called because the error does not appear until you run the program. These errors are also called exceptions because they usually indicate that something exceptional (and bad) has happened.\n",
    "\n",
    "Runtime errors are rare in the simple programs you will see in the first few chapters, so it might be a while before you encounter one.\n",
    "\n",
    "Check your understanding\n",
    "\n",
    "debug-51: Which of the following is a run-time error?\n",
    "\n",
    "A. Attempting to divide by 0.\n",
    "\n",
    "B. Forgetting a colon at the end of a statement where one is required.\n",
    "\n",
    "C. Forgetting to divide by 100 when printing a percentage amount."
   ]
  },
  {
   "cell_type": "markdown",
   "metadata": {},
   "source": [
    " Who or what typically finds runtime errors?\n",
    "\n",
    "A. The programmer.\n",
    "\n",
    "B. The interpreter.\n",
    "\n",
    "C. The computer.\n",
    "\n",
    "D. The teacher / instructor."
   ]
  },
  {
   "cell_type": "markdown",
   "metadata": {},
   "source": [
    "## Semantic Errors\n",
    "The third type of error is the semantic error. If there is a semantic error in your program, it will run successfully in the sense that the computer will not generate any error messages. However, your program will not do the right thing. It will do something else. Specifically, it will do what you told it to do.\n",
    "\n",
    "The problem is that the program you wrote is not the program you wanted to write. The meaning of the program (its semantics) is wrong. Identifying semantic errors can be tricky because it requires you to work backward by looking at the output of the program and trying to figure out what it is doing.\n",
    "\n",
    "Check your understanding\n",
    "\n",
    "debug-6-1: Which of the following is a semantic error?\n",
    "\n",
    "A. Attempting to divide by 0.\n",
    "\n",
    "B. Forgetting a semi-colon at the end of a statement where one is required.\n",
    "\n",
    "C. Forgetting to divide by 100 when printing a percentage amount.\n",
    "\n",
    "\n",
    "debug-6-2: Who or what typically finds semantic errors?\n",
    "\n",
    "A. The programmer.\n",
    "\n",
    "B. The compiler / interpreter.\n",
    "\n",
    "C. The computer.\n",
    "\n",
    "D. The teacher / instructor."
   ]
  },
  {
   "cell_type": "markdown",
   "metadata": {},
   "source": [
    "# TypeError\n",
    "TypeErrors occur when you you try to combine two objects that are not compatible. For example you try to add together an integer and a string. Usually type errors can be isolated to lines that are using mathematical operators, and usually the line number given by the error message is an accurate indication of the line.\n",
    "\n",
    "Here’s an example of a type error created by a Polish learner. See if you can find and fix the error."
   ]
  },
  {
   "cell_type": "code",
   "execution_count": null,
   "metadata": {},
   "outputs": [],
   "source": [
    "a = input('wpisz godzine')\n",
    "x = input('wpisz liczbe godzin')\n",
    "int(x)\n",
    "int(a)\n",
    "h = x // 24\n",
    "s = x % 24\n",
    "print (h, s)\n",
    "a = a + s\n",
    "print ('godzina teraz', a)"
   ]
  },
  {
   "cell_type": "markdown",
   "metadata": {},
   "source": [
    "# NameError\n",
    "Name errors almost always mean that you have used a variable before it has a value. Often NameErrors are simply caused by typos in your code. They can be hard to spot if you don’t have a good eye for catching spelling mistakes. Other times you may simply mis-remember the name of a variable or even a function you want to call. You have seen one example of a NameError at the beginning of this section. Here is another one. See if you can get this program to run successfully:\n",
    "\n"
   ]
  },
  {
   "cell_type": "code",
   "execution_count": null,
   "metadata": {},
   "outputs": [],
   "source": [
    "str_time = input(\"What time is it now?\")\n",
    "str_wait_time = input(\"What is the number of hours to wait?\")\n",
    "time = int(str_time)\n",
    "wai_time = int(str_wait_time)\n",
    "\n",
    "time_when_alarm_go_off = time + wait_time\n",
    "print(time_when_alarm_go_off)"
   ]
  },
  {
   "cell_type": "code",
   "execution_count": null,
   "metadata": {},
   "outputs": [],
   "source": [
    "str_time = input(\"What time is it now?\")\n",
    "str_wait_time = input(\"What is the number of hours to wait?\")\n",
    "time = int(str_time)\n",
    "wai_time = int(str_wait_time)\n",
    "\n",
    "time_when_alarm_go_off = time + wait_time\n",
    "print(time_when_alarm_go_off)"
   ]
  },
  {
   "cell_type": "code",
   "execution_count": null,
   "metadata": {},
   "outputs": [],
   "source": [
    "present_time = input(\"Enter the present timein hours:\")\n",
    "set_alarm = input(\"Set the hours for alarm:\")\n",
    "int (present_time, set_time, alarm_time)\n",
    "alarm_time = present_time + set_alarm\n",
    "print(alarm_time)"
   ]
  },
  {
   "cell_type": "markdown",
   "metadata": {},
   "source": [
    "# ValueError\n",
    "Value errors occur when you pass a parameter to a function and the function is expecting a certain limitations on the values, and the value passed is not compatible. We can illustrate that with this particular program in two different ways.\n",
    "\n"
   ]
  },
  {
   "cell_type": "code",
   "execution_count": null,
   "metadata": {},
   "outputs": [],
   "source": [
    "current_time_str = input(\"What is the current time (in hours 0-23)?\")\n",
    "current_time_int = int(current_time_str)\n",
    "\n",
    "wait_time_str = input(\"How many hours do you want to wait\")\n",
    "wait_time_int = int(wait_time_int)\n",
    "\n",
    "final_time_int = current_time_int + wait_time_int\n",
    "print(final_time_int)"
   ]
  }
 ],
 "metadata": {
  "kernelspec": {
   "display_name": "Python 3",
   "language": "python",
   "name": "python3"
  },
  "language_info": {
   "codemirror_mode": {
    "name": "ipython",
    "version": 3
   },
   "file_extension": ".py",
   "mimetype": "text/x-python",
   "name": "python",
   "nbconvert_exporter": "python",
   "pygments_lexer": "ipython3",
   "version": "3.7.6"
  }
 },
 "nbformat": 4,
 "nbformat_minor": 4
}
