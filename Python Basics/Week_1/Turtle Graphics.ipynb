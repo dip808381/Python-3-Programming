{
 "cells": [
  {
   "cell_type": "markdown",
   "metadata": {},
   "source": [
    "# Hello Little Turtles!"
   ]
  },
  {
   "cell_type": "markdown",
   "metadata": {},
   "source": [
    "### Our First Turtle Program\n",
    "Let’s try a couple of lines of Python code to create a new turtle and start drawing a simple figure like a rectangle. We will refer to our first turtle using the variable name alex, but remember that you can choose any name you wish as long as you follow the naming rules from the previous chapter.\n",
    "\n",
    "The program as shown will only draw the first two sides of the rectangle. After line 4 you will have a straight line going from the center of the drawing canvas towards the right. After line 6, you will have a canvas with a turtle and a half drawn rectangle. Press the run button to try it and see.\n",
    "\n"
   ]
  },
  {
   "cell_type": "code",
   "execution_count": 1,
   "metadata": {},
   "outputs": [],
   "source": [
    "import turtle             # allows us to use the turtles library\n",
    "wn = turtle.Screen()      # creates a graphics window\n",
    "alex = turtle.Turtle()    # create a turtle named alex\n",
    "alex.forward(150)         # tell alex to move forward by 150 units\n",
    "alex.left(90)             # turn by 90 degrees\n",
    "alex.forward(75)          # complete the second side of a rectangle"
   ]
  },
  {
   "cell_type": "markdown",
   "metadata": {},
   "source": [
    "An object can have various methods — things it can do — and it can also have attributes — (sometimes called properties). For example, each turtle has a color attribute. The method invocation alex.color(\"red\") will make alex red and the line that it draws will be red too.\n",
    "\n",
    "The color of the turtle, the width of its pen(tail), the position of the turtle within the window, which way it is facing, and so on are all part of its current state. Similarly, the window object has a background color which is part of its state.\n",
    "\n",
    "Quite a number of methods exist that allow us to modify the turtle and window objects. In the example below, we show just show a couple and have only commented those lines that are different from the previous example. Note also that we have decided to call our turtle object tess."
   ]
  },
  {
   "cell_type": "code",
   "execution_count": 2,
   "metadata": {},
   "outputs": [],
   "source": [
    "import turtle\n",
    "\n",
    "wn = turtle.Screen()\n",
    "wn.bgcolor(\"lightgreen\")        # set the window background color\n",
    "\n",
    "tess = turtle.Turtle()\n",
    "tess.color(\"blue\")              # make tess blue\n",
    "tess.pensize(3)                 # set the width of her pen\n",
    "\n",
    "tess.forward(50)\n",
    "tess.left(120)\n",
    "tess.forward(50)\n",
    "\n",
    "wn.exitonclick()                # wait for a user click on the canvas\n"
   ]
  },
  {
   "cell_type": "markdown",
   "metadata": {},
   "source": [
    "The last line plays a very important role. The wn variable refers to the window shown above. When we invoke its exitonclick method, the program pauses execution and waits for the user to click the mouse somewhere in the window. When this click event occurs, the response is to close the turtle window and exit (stop execution of) the Python program.\n",
    "\n",
    "Each time we run this program, a new drawing window pops up, and will remain on the screen until we click on it."
   ]
  },
  {
   "cell_type": "code",
   "execution_count": null,
   "metadata": {},
   "outputs": [],
   "source": [
    "# Consider the following code:\n",
    "import turtle\n",
    "wn = turtle.Screen()\n",
    "alex = turtle.Turtle()\n",
    "alex.forward(150)\n",
    "alex.left(90)\n",
    "alex.forward(75)"
   ]
  },
  {
   "cell_type": "markdown",
   "metadata": {},
   "source": [
    "What does the line “import turtle” do?\n",
    "\n",
    "A. It creates a new turtle object that can be used for drawing.\n",
    "\n",
    "B. It defines the module turtle which will allow you to create a Turtle object and draw with it.\n",
    "\n",
    "C. It makes the turtle draw half of a rectangle on the screen.\n",
    "\n",
    "D. Nothing, it is unnecessary.\n"
   ]
  },
  {
   "cell_type": "markdown",
   "metadata": {},
   "source": [
    "# Instances: A Herd of Turtles\n",
    "Just like we can have many different integers in a program, we can have many turtles. Each of them is an independent object and we call each one an instance of the Turtle type (class). Each instance has its own attributes and methods — so alex might draw with a thin pink pen and be at some position, while tess might be going in her own direction with a fat black pen. So here is what happens when alex completes a square and tess completes her triangle:\n",
    "\n"
   ]
  },
  {
   "cell_type": "code",
   "execution_count": null,
   "metadata": {},
   "outputs": [],
   "source": [
    "import turtle\n",
    "wn = turtle.Screen()             # Set up the window and its attributes\n",
    "wn.bgcolor(\"lightgreen\")\n",
    "\n",
    "\n",
    "tess = turtle.Turtle()           # create tess and set his pen width\n",
    "tess.pensize(5)\n",
    "\n",
    "alex = turtle.Turtle()           # create alex\n",
    "alex.color(\"hotpink\")            # set his color\n",
    "\n",
    "tess.forward(80)                 # Let tess draw an equilateral triangle\n",
    "tess.left(120)\n",
    "tess.forward(80)\n",
    "tess.left(120)\n",
    "tess.forward(80)\n",
    "tess.left(120)                   # complete the triangle\n",
    "\n",
    "tess.right(180)                  # turn tess around\n",
    "tess.forward(80)                 # move her away from the origin so we can see alex\n",
    "\n",
    "alex.forward(50)                 # make alex draw a square\n",
    "alex.left(90)\n",
    "alex.forward(50)\n",
    "alex.left(90)\n",
    "alex.forward(50)\n",
    "alex.left(90)\n",
    "alex.forward(50)\n",
    "alex.left(90)\n",
    "\n",
    "wn.exitonclick()"
   ]
  },
  {
   "cell_type": "markdown",
   "metadata": {},
   "source": [
    "# Object Oriented Concepts\n",
    "It’s been fun drawing things with the turtles. In the process, we’ve slipped in some new concepts and terms. Let’s pull them out and examine them a little more carefully.\n",
    "\n",
    "# User-defined Classes\n",
    "First, just as Python provides a way to define new functions in your programs, it also provides a way to define new classes of objects. Later in the book you will learn how to define functions, and much later, new classes of objects. For now, you just need to understand how to use them.\n",
    "\n",
    "# Instances\n",
    "Given a class like Turtle or Screen, we create a new instance with a syntax that looks like a function call, Turtle(). The Python interpreter figures out that Turtle is a class rather than a function, and so it creates a new instance of the class and returns it. Since the Turtle class was defined in a separate module, (confusingly, also named turtle), we had to refer to the class as turtle.Turtle. Thus, in the programs we wrote turtle.Turtle() to make a new turtle. We could also write turtle.Screen() to make a new window for our turtles to paint in.\n",
    "\n",
    "# Attributes\n",
    "Each instance can have attributes, sometimes called instance variables. These are just like other variables in Python. We use assignment statements, with an =, to assign values to them. Thus, if alex and tess are variables bound to two instances of the class Turtle, we can assign values to an attribute, and we can look up those attributes. For example, the following code would print out 1100.\n",
    "\n",
    "alex.price = 500\n",
    "tess.price = 600\n",
    "print(alex.price + tess.price)\n",
    "5.4.4. Methods\n",
    "Classes have associated methods, which are just a special kind of function. Consider the expression alex.forward(50) The interpreter first looks up alex and finds that it is an instance of the class Turtle. Then it looks up the attribute forward and finds that it is a method. Since there is a left parenthesis directly following, the interpreter invokes the method, passing 50 as a parameter.\n",
    "\n",
    "The only difference between a method invocation and other function calls is that the object instance itself is also passed as a parameter. Thus alex.forward(50) moves alex, while tess.forward(50) moves tess.\n",
    "\n",
    "Some of the methods of the Turtle class set attributes that affect the actions of other methods. For example, the method pensize changes the width of the drawing pen, and the color method changes the pen’s color.\n",
    "\n",
    "Methods return values, just as functions do. However, none of the methods of the Turtle class that you have used return useful values the way the len function does. Thus, it would not make sense to build a complex expression like tess.forward(50) + 75. It could make sense, however to put a complex expression inside the parentheses: tess.forward(x + y)"
   ]
  },
  {
   "cell_type": "markdown",
   "metadata": {},
   "source": [
    "# Repetition with a For Loop\n",
    "Some of the programs we’ve seen so far are a bit tedious to type. If we want to make a repetitive pattern in our drawings, then it can take many lines of code. Thankfully, Python has a few ways for making this kind of task easier. For now you’ll get a brief preview of a helpful control structure and function in Python which you will learn about later.\n",
    "\n",
    "The control structure is called a for loop. If you’ve learned other programming languages then you may be familiar with what it does but the structure may be new. A for loop allows Python to execute a program in a non-linear fashion. Instead of evaluating the code line by line until it reaches the end, once the program reaches a for loop, it will tell the program to execute a set of lines repeatedly. After doing all that, the program will then continue to evaluate and execute whatever is below the for loop.\n",
    "\n",
    "In the code below, we make use of the range function to specify how many times the code inside the for loop will execute. In a later chapter, we will explain exactly what the range function is doing and how it works with the for loop. For now, just try to understand what happens when the following code executes."
   ]
  },
  {
   "cell_type": "code",
   "execution_count": 3,
   "metadata": {},
   "outputs": [
    {
     "name": "stdout",
     "output_type": "stream",
     "text": [
      "This will execute first\n",
      "This line will execute three times\n",
      "This line will also execute three times\n",
      "This line will execute three times\n",
      "This line will also execute three times\n",
      "This line will execute three times\n",
      "This line will also execute three times\n",
      "Now we are outside of the for loop!\n"
     ]
    }
   ],
   "source": [
    "print(\"This will execute first\")\n",
    "\n",
    "for _ in range(3):\n",
    "    print(\"This line will execute three times\")\n",
    "    print(\"This line will also execute three times\")\n",
    "\n",
    "print(\"Now we are outside of the for loop!\")"
   ]
  },
  {
   "cell_type": "markdown",
   "metadata": {},
   "source": [
    "There are a few things to notice here for when you use this later on. First, is that the two print statements on line 4 and 5 are executed three times, but we don’t print line 4 three times and then print line 5 three times. Instead, we print line 4, then line 5. Once that is done the for loop iterates, or brings the program back to the beginning of the for loop, and continues to print out lines 4 and 5 again until it has printed them both a total of three times.\n",
    "\n",
    "Second, these lines were printed the same number of times as is inside the range function. If we wanted to print them more or fewer times, then we would just need to change the number inside of the parentheses on line 3.\n",
    "\n",
    "Finally, the indentation is important here. All of the statements that were printed out multiple times were indented under the for loop. Once we stopped indenting those lines, then the program was outside of the for loop and it would continue to execute linearly. If you’d like to watch the execution, checkout the code above in codelens!\n",
    "\n",
    "Now it’s time to combine this with the Turtle module. We can do a lot of cool stuff if we combine these two things! Below is code to do just that. Try to predict what the program will do before running it."
   ]
  },
  {
   "cell_type": "code",
   "execution_count": null,
   "metadata": {},
   "outputs": [],
   "source": [
    "import turtle\n",
    "wn = turtle.Screen()\n",
    "\n",
    "elan = turtle.Turtle()\n",
    "\n",
    "distance = 50\n",
    "for _ in range(10):\n",
    "    elan.forward(distance)\n",
    "    elan.right(90)\n",
    "    distance = distance + 10"
   ]
  },
  {
   "cell_type": "markdown",
   "metadata": {},
   "source": [
    "Try it out yourself in the space below. What can you make?"
   ]
  },
  {
   "cell_type": "code",
   "execution_count": null,
   "metadata": {},
   "outputs": [],
   "source": [
    "import turtle\n",
    "wn = turtle.Screen()\n",
    "dip = turtle.Turtle()\n",
    "distance = 150\n",
    "angle = 145\n",
    "\n",
    "for i in range(5):\n",
    "    dip.forward(distance)\n",
    "    dip.right(angle)"
   ]
  },
  {
   "cell_type": "markdown",
   "metadata": {},
   "source": [
    "### A Few More turtle Methods and Observations\n",
    "Here are a few more things that you might find useful as you write programs that use turtles.\n",
    "\n",
    "Turtle methods can use negative angles or distances. So tess.forward(-100) will move tess backwards, and tess.left(-30) turns her to the right. Additionally, because there are 360 degrees in a circle, turning 30 to the left will leave you facing in the same direction as turning 330 to the right! (The on-screen animation will differ, though — you will be able to tell if tess is turning clockwise or counter-clockwise!)\n",
    "\n",
    "This suggests that we don’t need both a left and a right turn method — we could be minimalists, and just have one method. There is also a backward method. (If you are very nerdy, you might enjoy saying alex.backward(-100) to move alex forward!)\n",
    "\n",
    "Reviewing a few basic facts about geometry and number lines, like we’ve done here is a good start if we’re going to play with turtles.\n",
    "\n",
    "A turtle’s pen can be picked up or put down. This allows us to move a turtle to a different place without drawing a line. The methods are up and down. Note that the methods penup and pendown do the same thing.\n",
    "\n",
    "alex.up()\n",
    "alex.forward(100)     # this moves alex, but no line is drawn\n",
    "alex.down()\n",
    "Every turtle can have its own shape. The ones available “out of the box” are arrow, blank, circle, classic, square, triangle, turtle.\n",
    "\n",
    "...\n",
    "alex.shape(\"turtle\")\n",
    "...\n",
    "You can speed up or slow down the turtle’s animation speed. (Animation controls how quickly the turtle turns and moves forward). Speed settings can be set between 1 (slowest) to 10 (fastest). But if you set the speed to 0, it has a special meaning — turn off animation and go as fast as possible.\n",
    "\n",
    "alex.speed(10)\n",
    "A turtle can “stamp” its footprint onto the canvas, and this will remain after the turtle has moved somewhere else. Stamping works even when the pen is up.\n",
    "\n",
    "Let’s do an example that shows off some of these new features."
   ]
  },
  {
   "cell_type": "code",
   "execution_count": null,
   "metadata": {},
   "outputs": [],
   "source": [
    "import turtle\n",
    "wn = turtle.Screen()\n",
    "wn.bgcolor(\"lightgreen\")\n",
    "tess = turtle.Turtle()\n",
    "tess.color(\"blue\")\n",
    "tess.shape(\"turtle\")\n",
    "\n",
    "dist = 5\n",
    "tess.up()                     # this is new\n",
    "for _ in range(30):    # start with size = 5 and grow by 2\n",
    "    tess.stamp()                # leave an impression on the canvas\n",
    "    tess.forward(dist)          # move tess along\n",
    "    tess.right(24)              # and turn her\n",
    "    dist = dist + 2\n",
    "wn.exitonclick()\n"
   ]
  },
  {
   "cell_type": "markdown",
   "metadata": {},
   "source": [
    "# The random module\n",
    "We often want to use random numbers in programs. Here are a few typical uses:\n",
    "\n",
    "To play a game of chance where the computer needs to throw some dice, pick a number, or flip a coin,\n",
    "\n",
    "To shuffle a deck of playing cards randomly,\n",
    "\n",
    "To randomly allow a new enemy spaceship to appear and shoot at you,\n",
    "\n",
    "To simulate possible rainfall when we make a computerized model for estimating the environmental impact of building a dam,\n",
    "\n",
    "For encrypting your banking session on the Internet.\n",
    "\n",
    "Python provides a module random that helps with tasks like this. You can take a look at it in the documentation. Here are the key things we can do with it.\n",
    "\n"
   ]
  },
  {
   "cell_type": "code",
   "execution_count": 4,
   "metadata": {},
   "outputs": [
    {
     "name": "stdout",
     "output_type": "stream",
     "text": [
      "0.2283137135876827\n",
      "6\n"
     ]
    }
   ],
   "source": [
    "import random\n",
    "\n",
    "prob = random.random()\n",
    "print(prob)\n",
    "\n",
    "diceThrow = random.randrange(1,7)       # return an int, one of 1,2,3,4,5,6\n",
    "print(diceThrow)"
   ]
  },
  {
   "cell_type": "markdown",
   "metadata": {},
   "source": [
    "Press the run button a number of times. Note that the values change each time. These are random numbers.\n",
    "\n",
    "The randrange function generates an integer between its lower and upper argument where the lower bound is included, but the upper bound is excluded. So, randrange(1,7) will include numbers from 1-6. If you omit the first parameter it is assumed to be 0 so randrange(10) will give you numbers from 0-9. All the values have an equal probability of occurring (i.e. the results are uniformly distributed).\n",
    "\n",
    "The random() function returns a floating point number in the range [0.0, 1.0) — the square bracket means “closed interval on the left” and the round parenthesis means “open interval on the right”. In other words, 0.0 is possible, but all returned numbers will be strictly less than 1.0. It is usual to scale the results after calling this method, to get them into a range suitable for your application.\n",
    "\n",
    "In the case shown below, we’ve converted the result of the method call to a number in the range [0.0, 5.0). Once more, these are uniformly distributed numbers — numbers close to 0 are just as likely to occur as numbers close to 3, or numbers close to 5. If you continue to press the run button you will see random values between 0.0 and up to but not including 5.0."
   ]
  },
  {
   "cell_type": "code",
   "execution_count": 5,
   "metadata": {},
   "outputs": [
    {
     "name": "stdout",
     "output_type": "stream",
     "text": [
      "4.306408421340817\n"
     ]
    }
   ],
   "source": [
    "import random\n",
    "\n",
    "prob = random.random()\n",
    "result = prob * 5\n",
    "print(result)"
   ]
  },
  {
   "cell_type": "markdown",
   "metadata": {},
   "source": [
    "# Common turtle Errors\n",
    "Below we’ll describe common errors that beginning programmers encounter when writing turtle code. Some of these errors can be applied to other instances as well!\n",
    "\n",
    "Forgetting a Parenthesis"
   ]
  },
  {
   "cell_type": "code",
   "execution_count": null,
   "metadata": {},
   "outputs": [],
   "source": [
    "import turtle\n",
    "wn = turtle.Screen()\n",
    "alex = turtle.Turtle()\n",
    "\n",
    "alex.forward(50\n",
    "alex.right(90)"
   ]
  },
  {
   "cell_type": "markdown",
   "metadata": {},
   "source": [
    "When you run the example above you’ll see how an error occurs. This is because we accidentally left off the “)” when we tell alex to move forward. This is a common error for programmers of any skill level - it’s easy to miss one and not notice! If you get a syntax error like this or - expecially in this textbook - one that says there was bad syntax on a line that isn’t visible to you then likely you’re missing a parenthesis, quotation, or bracket.\n",
    "\n",
    "Issues with Variable Names\n",
    "\n",
    "Sometimes we misspell a variable name, either by making it capitalized when it wasn’t previously capitalized or swiching letters around. Other times we accidentally refer to the wrong variable name. Checkout the code below for some examples."
   ]
  },
  {
   "cell_type": "code",
   "execution_count": null,
   "metadata": {},
   "outputs": [],
   "source": [
    "import turtle\n",
    "wn = turtle.Screen()\n",
    "alex = Turtle.turtle()      #switched turtle and Turtle\n",
    "\n",
    "alex.forward(50)\n",
    "alex.right(90)"
   ]
  },
  {
   "cell_type": "code",
   "execution_count": null,
   "metadata": {},
   "outputs": [],
   "source": [
    "import turtle\n",
    "wn = turtle.Screen()\n",
    "june = turtle.Turtle()\n",
    "\n",
    "june.forward(50)\n",
    "right.june(90)"
   ]
  },
  {
   "cell_type": "code",
   "execution_count": null,
   "metadata": {},
   "outputs": [],
   "source": []
  }
 ],
 "metadata": {
  "kernelspec": {
   "display_name": "Python 3",
   "language": "python",
   "name": "python3"
  },
  "language_info": {
   "codemirror_mode": {
    "name": "ipython",
    "version": 3
   },
   "file_extension": ".py",
   "mimetype": "text/x-python",
   "name": "python",
   "nbconvert_exporter": "python",
   "pygments_lexer": "ipython3",
   "version": "3.7.6"
  }
 },
 "nbformat": 4,
 "nbformat_minor": 4
}
