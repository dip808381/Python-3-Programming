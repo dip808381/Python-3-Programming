{
 "cells": [
  {
   "cell_type": "markdown",
   "metadata": {},
   "source": [
    "## Assignment_1"
   ]
  },
  {
   "cell_type": "markdown",
   "metadata": {},
   "source": [
    "1.There is a function we are providing in for you in this problem called square. It takes one integer and returns the square of that integer value. Write code to assign a variable called xyz the value 5*5 (five squared). Use the square function, rather than just multiplying with *."
   ]
  },
  {
   "cell_type": "code",
   "execution_count": 2,
   "metadata": {},
   "outputs": [
    {
     "name": "stdout",
     "output_type": "stream",
     "text": [
      "The square value is 25\n"
     ]
    }
   ],
   "source": [
    "xyz = 5 *5\n",
    "\n",
    "print(\"The square value is\", xyz)"
   ]
  },
  {
   "cell_type": "markdown",
   "metadata": {},
   "source": [
    "2. Write code to assign the number of characters in the string rv to a variable num_chars."
   ]
  },
  {
   "cell_type": "code",
   "execution_count": 4,
   "metadata": {},
   "outputs": [
    {
     "name": "stdout",
     "output_type": "stream",
     "text": [
      "348\n"
     ]
    }
   ],
   "source": [
    "rv = \"\"\"Once upon a midnight dreary, while I pondered, weak and weary,\n",
    "    Over many a quaint and curious volume of forgotten lore,\n",
    "    While I nodded, nearly napping, suddenly there came a tapping,\n",
    "    As of some one gently rapping, rapping at my chamber door.\n",
    "    'Tis some visitor, I muttered, tapping at my chamber door;\n",
    "    Only this and nothing more.\"\"\"\n",
    "\n",
    "# Write your code here!\n",
    "num_chars = 0\n",
    "for c in rv:\n",
    "    num_chars += 1\n",
    "print(num_chars)"
   ]
  },
  {
   "cell_type": "markdown",
   "metadata": {},
   "source": [
    "# Exercises"
   ]
  },
  {
   "cell_type": "code",
   "execution_count": 5,
   "metadata": {},
   "outputs": [
    {
     "data": {
      "text/plain": [
       "0"
      ]
     },
     "execution_count": 5,
     "metadata": {},
     "output_type": "execute_result"
    }
   ],
   "source": [
    "#Evaluate the following numerical expressions in your head, then use the active code window to check your results:\n",
    "\n",
    "5 ** 2\n",
    "\n",
    "9 * 5\n",
    "\n",
    "15 / 12\n",
    "\n",
    "12 / 15\n",
    "\n",
    "15 // 12\n",
    "\n",
    "12 // 15\n",
    "\n",
    "5 % 2\n",
    "\n",
    "9 % 5\n",
    "\n",
    "15 % 12\n",
    "\n",
    "12 % 15\n",
    "\n",
    "6 % 6\n",
    "\n",
    "0 % 7\n",
    "\n"
   ]
  },
  {
   "cell_type": "code",
   "execution_count": 7,
   "metadata": {},
   "outputs": [
    {
     "data": {
      "text/plain": [
       "22.0"
      ]
     },
     "execution_count": 7,
     "metadata": {},
     "output_type": "execute_result"
    }
   ],
   "source": [
    "#What is the order of the arithmetic operations in the following expression. Evaluate the expression by hand and then check your work.\n",
    "2 + (3 - 1) * 10 / 5 * (2 + 3)"
   ]
  },
  {
   "cell_type": "markdown",
   "metadata": {},
   "source": [
    "Challenge: Many people keep time using a 24 hour clock (11 is 11am and 23 is 11pm, 0 is midnight). If it is currently 13 and you set your alarm to go off in 50 hours, it will be 15 (3pm). Write a Python program to solve the general version of the above problem. Ask the user for the time now (in hours), and then ask for the number of hours to wait for the alarm. Your program should output what the time will be on the clock when the alarm goes off."
   ]
  },
  {
   "cell_type": "code",
   "execution_count": 8,
   "metadata": {},
   "outputs": [
    {
     "name": "stdout",
     "output_type": "stream",
     "text": [
      "What is the current time (in hours)? 58\n",
      "How many hours do you have to wait? 558\n",
      "16\n"
     ]
    }
   ],
   "source": [
    "current_time_string = input(\"What is the current time (in hours)? \")\n",
    "waiting_time_string = input(\"How many hours do you have to wait? \")\n",
    "\n",
    "current_time_int = int(current_time_string)\n",
    "waiting_time_int = int(waiting_time_string)\n",
    "\n",
    "hours = current_time_int + waiting_time_int\n",
    "\n",
    "timeofday = hours % 24\n",
    "\n",
    "print(timeofday)"
   ]
  },
  {
   "cell_type": "markdown",
   "metadata": {},
   "source": [
    "It is possible to name the days 0 thru 6 where day 0 is Sunday and day 6 is Saturday. If you go on a wonderful holiday leaving on day number 3 (a Wednesday) and you return home after 10 nights you would return home on a Saturday (day 6). Write a general version of the program which asks for the starting day number, and the length of your stay, and it will tell you the number of day of the week you will return on."
   ]
  },
  {
   "cell_type": "code",
   "execution_count": null,
   "metadata": {},
   "outputs": [],
   "source": [
    "current_time_string = input(\"What is the current day (in number)? \")\n",
    "waiting_time_string = input(\"How many hours do you have to wait? \")\n",
    "\n",
    "current_time_int = int(current_time_string)\n",
    "waiting_time_int = int(waiting_time_string)\n",
    "\n",
    "hours = current_time_int + waiting_time_int\n",
    "\n",
    "timeofday = hours % 7\n",
    "\n",
    "print(timeofday)"
   ]
  },
  {
   "cell_type": "markdown",
   "metadata": {},
   "source": [
    "Challenge: Take the sentence: All work and no play makes Jack a dull boy. Store each word in a separate variable, then print out the sentence on one line using print.\n",
    "\n"
   ]
  },
  {
   "cell_type": "code",
   "execution_count": 9,
   "metadata": {},
   "outputs": [
    {
     "name": "stdout",
     "output_type": "stream",
     "text": [
      "All work and no play makes Jack a dull boy.\n"
     ]
    }
   ],
   "source": [
    "## question 7 solution ##\n",
    "\n",
    "word1 = \"All\"\n",
    "word2 = \"work\"\n",
    "word3 = \"and\"\n",
    "word4 = \"no\"\n",
    "word5 = \"play\"\n",
    "word6 = \"makes\"\n",
    "word7 = \"Jack\"\n",
    "word8 = \"a\"\n",
    "word9 = \"dull\"\n",
    "word10 = \"boy.\"\n",
    "\n",
    "print(word1 + ' ' +  word2 + ' ' + word3 + ' ' +  word4 + ' ' +  word5 + ' ' +  word6 + ' ' +  word7 + ' ' +  word8 + ' ' +  word9 + ' ' +  word10)\n"
   ]
  },
  {
   "cell_type": "markdown",
   "metadata": {},
   "source": [
    "Add parentheses to the expression 6 * 1 - 2 to change its value from 4 to -6.\n",
    "\n"
   ]
  },
  {
   "cell_type": "code",
   "execution_count": 10,
   "metadata": {},
   "outputs": [
    {
     "name": "stdout",
     "output_type": "stream",
     "text": [
      "4\n"
     ]
    }
   ],
   "source": [
    "print(6 * 1 -2)"
   ]
  },
  {
   "cell_type": "markdown",
   "metadata": {},
   "source": [
    "Challenge: The formula for computing the final amount if one is earning compound interest is given on Wikipedia as\n",
    "\n",
    "formula for compound interest\n",
    "Write a Python program that assigns the principal amount of 10000 to variable P, assign to n the value 12, and assign to r the interest rate of 8% (0.08). Then have the program prompt the user for the number of years, t, that the money will be compounded for. Calculate and print the final amount after t years.\n",
    "\n"
   ]
  },
  {
   "cell_type": "code",
   "execution_count": 11,
   "metadata": {},
   "outputs": [
    {
     "name": "stdout",
     "output_type": "stream",
     "text": [
      "Compound for how many years? 25\n",
      "The final amount after 25 years is 73401.75963739285\n"
     ]
    }
   ],
   "source": [
    "P = 10000\n",
    "n = 12\n",
    "r = 0.08\n",
    "\n",
    "t = int(input(\"Compound for how many years? \"))\n",
    "\n",
    "final = P * ( ((1 + (r/n)) ** (n * t)) )\n",
    "\n",
    "print(\"The final amount after\", t, \"years is\", final)"
   ]
  },
  {
   "cell_type": "markdown",
   "metadata": {},
   "source": [
    "Write a program that will compute the area of a circle. Prompt the user to enter the radius and save it to avariable called radius. Print a nice message back to the user with the answer."
   ]
  },
  {
   "cell_type": "code",
   "execution_count": 12,
   "metadata": {},
   "outputs": [
    {
     "name": "stdout",
     "output_type": "stream",
     "text": [
      " Enter the radius5\n",
      "The area of circle is 78.5\n"
     ]
    }
   ],
   "source": [
    "pi = 3.14\n",
    "\n",
    "radius = int(input(\" Enter the radius\"))\n",
    "a = pi*(radius**2)\n",
    "print(\"The area of circle is\", str(a))"
   ]
  },
  {
   "cell_type": "markdown",
   "metadata": {},
   "source": [
    "Challenge: Write a program that will compute the area of a rectangle. Prompt the user to enter the width and height of the rectangle and store the values in variables called width and height. Print a nice message with the answer..\n",
    "\n"
   ]
  },
  {
   "cell_type": "code",
   "execution_count": 14,
   "metadata": {},
   "outputs": [
    {
     "name": "stdout",
     "output_type": "stream",
     "text": [
      "Width? 32\n",
      "Height? 32\n",
      "The area of the rectangle is 1024\n"
     ]
    }
   ],
   "source": [
    "width = int(input(\"Width? \"))\n",
    "height = int(input(\"Height? \"))\n",
    "\n",
    "area = width * height\n",
    "\n",
    "print(\"The area of the rectangle is\", area)"
   ]
  },
  {
   "cell_type": "markdown",
   "metadata": {},
   "source": [
    "Challenge: Write a program that will convert degrees celsius to degrees fahrenheit.\n",
    "\n"
   ]
  },
  {
   "cell_type": "code",
   "execution_count": 15,
   "metadata": {},
   "outputs": [
    {
     "name": "stdout",
     "output_type": "stream",
     "text": [
      "What is the temperature in Celsius? 25\n",
      "25  degrees Celsius is 77.0  degrees Farenheit.\n"
     ]
    }
   ],
   "source": [
    "deg_c = int(input(\"What is the temperature in Celsius? \"))\n",
    "\n",
    "# formula to convert C to F is: (degrees Celcius) times (9/5) plus (32)\n",
    "deg_f = deg_c * (9 / 5) + 32\n",
    "\n",
    "print(deg_c, \" degrees Celsius is\", deg_f, \" degrees Farenheit.\")"
   ]
  },
  {
   "cell_type": "markdown",
   "metadata": {},
   "source": [
    "Ask the user for the temperature in Fahrenheit and store it in a variable call deg_f. Calculate the equivalent temperature in degrees Celsius and store it in def_c. Output a message to the user giving the temperature in Celsius."
   ]
  },
  {
   "cell_type": "code",
   "execution_count": 16,
   "metadata": {},
   "outputs": [
    {
     "name": "stdout",
     "output_type": "stream",
     "text": [
      "What is the temperature in Celsius? 25\n",
      "25  degrees Celsius is -3.8888888888888893  degrees Farenheit.\n"
     ]
    }
   ],
   "source": [
    "deg_f = int(input(\"What is the temperature in Celsius? \"))\n",
    "\n",
    "# formula to convert C to F is: (degrees Celcius) times (9/5) plus (32)\n",
    "deg_c = (deg_f - 32)*(5/9)\n",
    "\n",
    "print(deg_f, \" degrees Celsius is\", deg_c, \" degrees Farenheit.\")"
   ]
  },
  {
   "cell_type": "code",
   "execution_count": null,
   "metadata": {},
   "outputs": [],
   "source": []
  }
 ],
 "metadata": {
  "kernelspec": {
   "display_name": "Python 3",
   "language": "python",
   "name": "python3"
  },
  "language_info": {
   "codemirror_mode": {
    "name": "ipython",
    "version": 3
   },
   "file_extension": ".py",
   "mimetype": "text/x-python",
   "name": "python",
   "nbconvert_exporter": "python",
   "pygments_lexer": "ipython3",
   "version": "3.7.6"
  }
 },
 "nbformat": 4,
 "nbformat_minor": 4
}
