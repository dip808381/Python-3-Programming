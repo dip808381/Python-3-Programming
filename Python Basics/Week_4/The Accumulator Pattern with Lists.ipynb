{
 "cells": [
  {
   "cell_type": "markdown",
   "metadata": {},
   "source": [
    "# The Accumulator Pattern with Lists\n",
    "We can accumulate values into a list rather than accumulating a single numeric value. Consider, for example, the following program which transforms a list into a new list by squaring each of the values."
   ]
  },
  {
   "cell_type": "code",
   "execution_count": 1,
   "metadata": {},
   "outputs": [
    {
     "name": "stdout",
     "output_type": "stream",
     "text": [
      "[9, 25, 64]\n"
     ]
    }
   ],
   "source": [
    "nums = [3, 5, 8]\n",
    "accum = []\n",
    "for w in nums:\n",
    "    x = w**2\n",
    "    accum.append(x)\n",
    "print(accum)"
   ]
  },
  {
   "cell_type": "markdown",
   "metadata": {},
   "source": [
    "Here, we initialize the accumulator variable to be an empty list, on line 2.\n",
    "\n",
    "We iterate through the sequence (line 3). On each iteration we transform the item by squaring it (line 4).\n",
    "\n",
    "The update step appends the new item to the list which is stored in the accumulator variable (line 5). The update happens using the .append(), which mutates the list rather than using a reassignment. Instead, we could have written accum = accum + [x], or accum += [x]. In either case, we’d need to concatenate a list containing x, not just x itself.\n",
    "\n",
    "At the end, we have accumulated a new list of the same length as the original, but with each item transformed into a new item. This is called a mapping operation, and we will revisit it in a later chapter.\n",
    "\n",
    "Note how this differs from mutating the original list, as you saw in a previous section."
   ]
  },
  {
   "cell_type": "code",
   "execution_count": 3,
   "metadata": {},
   "outputs": [
    {
     "name": "stdout",
     "output_type": "stream",
     "text": [
      "[9, 7, 13, 11, 10]\n"
     ]
    }
   ],
   "source": [
    "#What is printed by the following statements?\n",
    "\n",
    "alist = [4,2,8,6,5]\n",
    "blist = [ ]\n",
    "for item in alist:\n",
    "    blist.append(item+5)\n",
    "print(blist)"
   ]
  },
  {
   "cell_type": "code",
   "execution_count": 4,
   "metadata": {},
   "outputs": [
    {
     "name": "stdout",
     "output_type": "stream",
     "text": [
      "[8, 5, 14, 9, 6, 12]\n"
     ]
    }
   ],
   "source": [
    "#What is printed by the following statements?\n",
    "\n",
    "lst= [3,0,9,4,1,7]\n",
    "new_list=[]\n",
    "for i in range(len(lst)):\n",
    "    new_list.append(lst[i]+5)\n",
    "print(new_list)"
   ]
  },
  {
   "cell_type": "code",
   "execution_count": 5,
   "metadata": {},
   "outputs": [
    {
     "name": "stdout",
     "output_type": "stream",
     "text": [
      "['kayaking', 'crying', 'walking', 'eating', 'drinking', 'flying']\n"
     ]
    }
   ],
   "source": [
    "# For each word in the list verbs, add an -ing ending. Save this new list in a new list, ing.\n",
    "verbs = [\"kayak\", \"cry\", \"walk\", \"eat\", \"drink\", \"fly\"]\n",
    "ing = []\n",
    "for i in verbs:\n",
    "    ing.append(i + \"ing\")\n",
    "print(ing)"
   ]
  },
  {
   "cell_type": "code",
   "execution_count": 6,
   "metadata": {},
   "outputs": [
    {
     "name": "stdout",
     "output_type": "stream",
     "text": [
      "[10, 15, 20, 25, 30]\n"
     ]
    }
   ],
   "source": [
    "# Given the list of numbers, numbs, create a new list of those same numbers increased by 5. Save this new list to the variable newlist.\n",
    "numbs = [5, 10, 15, 20, 25]\n",
    "newlist = []\n",
    "for num in numbs:\n",
    "    newlist.append(num + 5)\n",
    "print(newlist)"
   ]
  },
  {
   "cell_type": "code",
   "execution_count": 8,
   "metadata": {},
   "outputs": [
    {
     "name": "stdout",
     "output_type": "stream",
     "text": [
      "[8, 58, 10.6, 20, 4, 3634, 3934, 18, 62.64]\n"
     ]
    }
   ],
   "source": [
    "#For each number in lst_nums, multiply that number by 2 and append it to a new list called larger_nums.\n",
    "lst_nums = [4, 29, 5.3, 10, 2, 1817, 1967, 9, 31.32]\n",
    "larger_nums = []\n",
    "for num in lst_nums:\n",
    "    larger_nums.append(num*2)\n",
    "print(larger_nums)"
   ]
  },
  {
   "cell_type": "markdown",
   "metadata": {},
   "source": [
    "# The Accumulator Pattern with Strings\n",
    "We can also accumulate strings rather than accumulating numbers, as you’ve seen before. The following program isn’t particularly useful for data processing, but we will see more useful things later that accumulate strings."
   ]
  },
  {
   "cell_type": "code",
   "execution_count": 9,
   "metadata": {},
   "outputs": [
    {
     "name": "stdout",
     "output_type": "stream",
     "text": [
      "Enter some textki\n",
      "k-k-i-i-\n"
     ]
    }
   ],
   "source": [
    "s = input(\"Enter some text\")\n",
    "ac = \"\"\n",
    "for c in s:\n",
    "    ac = ac + c + \"-\" + c + \"-\"\n",
    "\n",
    "print(ac)"
   ]
  },
  {
   "cell_type": "markdown",
   "metadata": {},
   "source": [
    "Look carefully at line 4 in the above program (ac = ac + c + \"-\" + c + \"-\"). In words, it says that the new value of ac will be the old value of ac concatenated with the current character, a dash, then the current character and a dash again. We are building the result string character by character.\n",
    "\n",
    "Take a close look also at the initialization of ac. We start with an empty string and then begin adding new characters to the end. Also note that I have given it a different name this time, ac instead of accum. There’s nothing magical about these names. You could use any valid variable and it would work the same (try substituting x for ac everywhere in the above code)."
   ]
  },
  {
   "cell_type": "code",
   "execution_count": 10,
   "metadata": {},
   "outputs": [
    {
     "name": "stdout",
     "output_type": "stream",
     "text": [
      "LLAB\n"
     ]
    }
   ],
   "source": [
    "# What is printed by the following statements:\n",
    "\n",
    "s = \"ball\"\n",
    "r = \"\"\n",
    "for item in s:\n",
    "    r = item.upper() + r\n",
    "print(r)"
   ]
  },
  {
   "cell_type": "code",
   "execution_count": 11,
   "metadata": {},
   "outputs": [
    {
     "name": "stdout",
     "output_type": "stream",
     "text": [
      "['I', ' ', 'l', 'o', 'v', 'e', ' ', 'p', 'y', 't', 'h', 'o', 'n']\n"
     ]
    }
   ],
   "source": [
    "# For each character in the string already saved in the variable str1, add each character to a list called chars\n",
    "str1 = \"I love python\"\n",
    "# HINT: what's the accumulator? That should go here.\n",
    "chars = []\n",
    "for i in str1:\n",
    "    chars.append(i)\n",
    "print(chars)"
   ]
  },
  {
   "cell_type": "code",
   "execution_count": 12,
   "metadata": {},
   "outputs": [
    {
     "name": "stdout",
     "output_type": "stream",
     "text": [
      "aaaaaaaaaaaaaaaaaaaaaaaaaaaaaaaaaaa\n"
     ]
    }
   ],
   "source": [
    "#Assign an empty string to the variable output. Using the range function, write code to make it so that the variable output has 35 a s inside it (like \"aaaaaaaaaaaaaaaaaaaaaaaaaaaaaaaaaaa\"). Hint: use the accumulation pattern!\n",
    "output = \"\"\n",
    "for i in range(35):\n",
    "    output += \"a\"\n",
    "print(output)"
   ]
  },
  {
   "cell_type": "markdown",
   "metadata": {},
   "source": [
    "# Don’t Mutate A List That You Are Iterating Through\n",
    "So far we’ve shown you how to iterate through a list:"
   ]
  },
  {
   "cell_type": "code",
   "execution_count": 13,
   "metadata": {},
   "outputs": [
    {
     "name": "stdout",
     "output_type": "stream",
     "text": [
      "Red\n",
      "Orange\n",
      "Yellow\n",
      "Green\n",
      "Blue\n",
      "Indigo\n",
      "Violet\n"
     ]
    }
   ],
   "source": [
    "colors = [\"Red\", \"Orange\", \"Yellow\", \"Green\", \"Blue\", \"Indigo\", \"Violet\"]\n",
    "\n",
    "for color in colors:\n",
    "    print(color)"
   ]
  },
  {
   "cell_type": "code",
   "execution_count": 14,
   "metadata": {},
   "outputs": [
    {
     "name": "stdout",
     "output_type": "stream",
     "text": [
      "['R', 'O', 'Y', 'G', 'B', 'I', 'V']\n"
     ]
    }
   ],
   "source": [
    "# As well as accumulate a list by appending or deleting items!\n",
    "colors = [\"Red\", \"Orange\", \"Yellow\", \"Green\", \"Blue\", \"Indigo\", \"Violet\"]\n",
    "initials = []\n",
    "\n",
    "for color in colors:\n",
    "    initials.append(color[0])\n",
    "\n",
    "print(initials)\n"
   ]
  },
  {
   "cell_type": "code",
   "execution_count": 39,
   "metadata": {},
   "outputs": [
    {
     "name": "stdout",
     "output_type": "stream",
     "text": [
      "Red\n",
      "Orange\n",
      "Yellow\n",
      "Green\n",
      "Blue\n",
      "Violet\n",
      "Purple\n",
      "Brown\n",
      "Turquois\n",
      "Beige\n",
      "['Red', 'Orange', 'Yellow', 'Green', 'Indigo', 'Violet', 'Pink', 'Teal', 'Peach']\n"
     ]
    }
   ],
   "source": [
    "#You may be tempted now to iterate through a list and accumulate some data into it or delete data from it, however that often becomes very confusing. In the following code we will filter out all words that begin with P, B, or T\n",
    "colors = [\"Red\", \"Orange\", \"Yellow\", \"Green\", \"Blue\", \"Indigo\", \"Violet\", \"Purple\", \"Pink\", \"Brown\", \"Teal\", \"Turquois\", \"Peach\", \"Beige\"]\n",
    "#print(colors[13])\n",
    "#for position in range(len(colors)):\n",
    "for position in range(10):\n",
    "    color = colors[position]\n",
    "    print(color)\n",
    "    if color[0] in [\"P\", \"B\", \"T\"]:\n",
    "        del colors[position]\n",
    "\n",
    "print(colors)"
   ]
  },
  {
   "cell_type": "markdown",
   "metadata": {},
   "source": [
    "Starting with the list myList = [76, 92.3, ‘hello’, True, 4, 76], write Python statements to do the following:\n",
    "\n",
    "Append “apple” and 76 to the list.\n",
    "\n",
    "Insert the value “cat” at position 3.\n",
    "\n",
    "Insert the value 99 at the start of the list.\n",
    "\n",
    "Find the index of “hello”.\n",
    "\n",
    "Count the number of 76s in the list.\n",
    "\n",
    "Remove the first occurrence of 76 from the list.\n",
    "\n",
    "Remove True from the list using pop and index"
   ]
  },
  {
   "cell_type": "code",
   "execution_count": 40,
   "metadata": {},
   "outputs": [
    {
     "name": "stdout",
     "output_type": "stream",
     "text": [
      "3\n",
      "3\n",
      "[99, 92.3, 'hello', 'cat', 4, 76, 'apple', 76]\n"
     ]
    }
   ],
   "source": [
    "myList = [76, 92.3, 'hello', True, 4, 76]\n",
    "\n",
    "myList.append(\"apple\")         # a\n",
    "myList.append(76)              # a\n",
    "myList.insert(3, \"cat\")        # b\n",
    "myList.insert(0, 99)           # c\n",
    "\n",
    "print(myList.index(\"hello\"))   # d\n",
    "print(myList.count(76))        # e\n",
    "myList.remove(76)              # f\n",
    "myList.pop(myList.index(True)) # g\n",
    "\n",
    "print (myList)\n"
   ]
  },
  {
   "cell_type": "code",
   "execution_count": null,
   "metadata": {},
   "outputs": [],
   "source": []
  }
 ],
 "metadata": {
  "kernelspec": {
   "display_name": "Python 3",
   "language": "python",
   "name": "python3"
  },
  "language_info": {
   "codemirror_mode": {
    "name": "ipython",
    "version": 3
   },
   "file_extension": ".py",
   "mimetype": "text/x-python",
   "name": "python",
   "nbconvert_exporter": "python",
   "pygments_lexer": "ipython3",
   "version": "3.7.6"
  }
 },
 "nbformat": 4,
 "nbformat_minor": 4
}
