{
 "cells": [
  {
   "cell_type": "code",
   "execution_count": 1,
   "metadata": {},
   "outputs": [
    {
     "name": "stdout",
     "output_type": "stream",
     "text": [
      "5\n"
     ]
    }
   ],
   "source": [
    "#rainfall_mi is a string that contains the average number of inches of rainfall in Michigan for every month (in inches) with every month separated by a comma. Write code to compute the number of months that have more than 3 inches of rainfall. Store the result in the variable num_rainy_months. In other words, count the number of items with values > 3.0.\n",
    "\n",
    "rainfall_mi = \"1.65, 1.46, 2.05, 3.03, 3.35, 3.46, 2.83, 3.23, 3.5, 2.52, 2.8, 1.85\"\n",
    "rainfall_mi = rainfall_mi.split(\",\")\n",
    "num_rainy_months = 0\n",
    "for i in rainfall_mi:\n",
    "    if float(i) > 3.0:\n",
    "        num_rainy_months += 1\n",
    "print(num_rainy_months)"
   ]
  },
  {
   "cell_type": "code",
   "execution_count": 2,
   "metadata": {},
   "outputs": [
    {
     "name": "stdout",
     "output_type": "stream",
     "text": [
      "2\n"
     ]
    }
   ],
   "source": [
    "#The variable sentence stores a string. Write code to determine how many words in sentence start and end with the same letter, including one-letter words. Store the result in the variable same_letter_count.\n",
    "sentence = \"students flock to the arb for a variety of outdoor activities such as jogging and picnicking\"\n",
    "sentence = sentence.split(\" \")\n",
    "same_letter_count = 0\n",
    "# Write your code here.\n",
    "for i in sentence:\n",
    "    if i[0] == i[-1]:\n",
    "        same_letter_count += 1\n",
    "print(same_letter_count)"
   ]
  },
  {
   "cell_type": "code",
   "execution_count": 3,
   "metadata": {},
   "outputs": [
    {
     "name": "stdout",
     "output_type": "stream",
     "text": [
      "4\n"
     ]
    }
   ],
   "source": [
    "#Write code to count the number of strings in list items that have the character w in it. Assign that number to the variable acc_num.\n",
    "#HINT 1: Use the accumulation pattern!\n",
    "#HINT 2: the in operator checks whether a substring is present in a string.\n",
    "#Hard-coded answers will receive no credit.\n",
    "items = [\"whirring\", \"wow!\", \"calendar\", \"wry\", \"glass\", \"\", \"llama\",\"tumultuous\",\"owing\"]\n",
    "acc_num = 0\n",
    "for i in items:\n",
    "    if \"w\" in i:\n",
    "        acc_num += 1\n",
    "print(acc_num)"
   ]
  },
  {
   "cell_type": "code",
   "execution_count": 4,
   "metadata": {},
   "outputs": [
    {
     "name": "stdout",
     "output_type": "stream",
     "text": [
      "14\n"
     ]
    }
   ],
   "source": [
    "#Write code that counts the number of words in sentence that contain either an “a” or an “e”. Store the result in the variable num_a_or_e.\n",
    "#Note 1: be sure to not double-count words that contain both an a and an e.\n",
    "#HINT 1: Use the in operator.\n",
    "#HINT 2: You can either use or or elif.\n",
    "#Hard-coded answers will receive no credit.\n",
    "sentence = \"python is a high level general purpose programming language that can be applied to many different classes of problems.\"\n",
    "sentence = sentence.split(\" \")\n",
    "num_a_or_e = 0\n",
    "for i in sentence:\n",
    "    if \"a\" in i or \"e\" in i:\n",
    "        num_a_or_e += 1\n",
    "print(num_a_or_e)"
   ]
  },
  {
   "cell_type": "code",
   "execution_count": 5,
   "metadata": {},
   "outputs": [
    {
     "name": "stdout",
     "output_type": "stream",
     "text": [
      "32\n"
     ]
    }
   ],
   "source": [
    "#Write code that will count the number of vowels in the sentence s and assign the result to the variable num_vowels. For this problem, vowels are only a, e, i, o, and u. Hint: use the in operator with vowels.\n",
    "s = \"singing in the rain and playing in the rain are two entirely different situations but both can be fun\"\n",
    "vowels = ['a','e','i','o','u']\n",
    "\n",
    "# Write your code here.\n",
    "\n",
    "num_vowels = 0\n",
    "for val in s:\n",
    "    if val in vowels:\n",
    "        num_vowels += 1\n",
    "print(num_vowels) "
   ]
  },
  {
   "cell_type": "code",
   "execution_count": null,
   "metadata": {},
   "outputs": [],
   "source": []
  }
 ],
 "metadata": {
  "kernelspec": {
   "display_name": "Python 3",
   "language": "python",
   "name": "python3"
  },
  "language_info": {
   "codemirror_mode": {
    "name": "ipython",
    "version": 3
   },
   "file_extension": ".py",
   "mimetype": "text/x-python",
   "name": "python",
   "nbconvert_exporter": "python",
   "pygments_lexer": "ipython3",
   "version": "3.7.6"
  }
 },
 "nbformat": 4,
 "nbformat_minor": 4
}
