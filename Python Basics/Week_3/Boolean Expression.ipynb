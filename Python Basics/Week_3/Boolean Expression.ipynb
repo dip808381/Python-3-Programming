{
 "cells": [
  {
   "cell_type": "markdown",
   "metadata": {},
   "source": [
    "# What we can do with Turtles and Conditionals\n",
    "So far, our programs have either been a series of statements which always execute sequentially or operations that are applied to each item in an iterable. Yet programs frequently need to be more subtle with their behavior. For example, a messaging app might only set a message’s title bold if it has not been read by the user. Or a video game needs to update the position of all the characters that are not asleep. This is done with something called a selection or a conditional statement.\n",
    "\n",
    "In the context of turtle drawings, using this kind of statement will allow us to check conditions and change the behavior of the program accordingly"
   ]
  },
  {
   "cell_type": "code",
   "execution_count": null,
   "metadata": {},
   "outputs": [],
   "source": [
    "import turtle\n",
    "wn = turtle.Screen()\n",
    "\n",
    "amy = turtle.Turtle()\n",
    "amy.pencolor(\"Pink\")\n",
    "amy.forward(50)\n",
    "if amy.pencolor() == \"Pink\":\n",
    "    amy.right(60)\n",
    "    amy.forward(100)\n",
    "else:\n",
    "    amy.left(60)\n",
    "    amy.forward(100)\n",
    "\n",
    "kenji = turtle.Turtle()\n",
    "kenji.forward(60)\n",
    "if kenji.pencolor() == \"Pink\":\n",
    "    kenji.right(60)\n",
    "    kenji.forward(100)\n",
    "else:\n",
    "    kenji.left(60)\n",
    "    kenji.forward(100)\n"
   ]
  },
  {
   "cell_type": "markdown",
   "metadata": {},
   "source": [
    "In the above code, we first set amy’s pen color to be “Pink” and then move her forward. Next we want one of two actions to happen, either amy should move right and then forward, or left and then forward. The direction that we want her to go in depends on her pen color. If her pen color is set to pink - which is determined by writing amy.pencolor() == \"Pink\" which checks to see if the value returned by amy.pencolor() is the equivalent to the string “Pink” - then we should have her move right and forward. Else (or otherwise) she should move left and forward. Both things can’t happen though. She can’t move right, forward and left, forward. We then do the same thing for kenji, though in this case, we didn’t change kenji’s pen color.\n",
    "\n",
    "It might seem a bit odd to add the conditionals in this example. Wouldn’t we already know that we set up amy and kenji’s colors, so why would we need a conditional? While it’s true that this isn’t the best place to use a conditional, we can combine conditional statements with for loops to make something pretty cool!"
   ]
  },
  {
   "cell_type": "code",
   "execution_count": null,
   "metadata": {},
   "outputs": [],
   "source": [
    "import turtle\n",
    "wn = turtle.Screen()\n",
    "\n",
    "amy = turtle.Turtle()\n",
    "amy.pencolor(\"Pink\")\n",
    "amy.right(170)\n",
    "\n",
    "colors = [\"Purple\", \"Yellow\", \"Orange\", \"Pink\", \"Orange\", \"Yellow\", \"Purple\", \"Orange\", \"Pink\", \"Pink\", \"Orange\", \"Yellow\", \"Purple\", \"Orange\", \"Purple\", \"Yellow\", \"Orange\", \"Pink\", \"Orange\", \"Purple\", \"Purple\", \"Yellow\", \"Orange\", \"Pink\", \"Orange\", \"Yellow\", \"Purple\", \"Yellow\"]\n",
    "\n",
    "\n",
    "for color in colors:\n",
    "    if amy.pencolor() == \"Purple\":\n",
    "        amy.forward(50)\n",
    "        amy.right(59)\n",
    "    elif amy.pencolor() == \"Yellow\":\n",
    "        amy.forward(65)\n",
    "        amy.left(98)\n",
    "    elif amy.pencolor() == \"Orange\":\n",
    "        amy.forward(30)\n",
    "        amy.left(60)\n",
    "    elif amy.pencolor() == \"Pink\":\n",
    "        amy.forward(50)\n",
    "        amy.right(57)\n",
    "\n",
    "    amy.pencolor(color)\n"
   ]
  },
  {
   "cell_type": "markdown",
   "metadata": {},
   "source": [
    "# Boolean Values and Boolean Expressions\n",
    "The Python type for storing true and false values is called bool, named after the British mathematician, George Boole. George Boole created Boolean Algebra, which is the basis of all modern computer arithmetic.\n",
    "\n",
    "There are only two boolean values. They are True and False. Capitalization is important, since true and false are not boolean values (remember Python is case sensitive)."
   ]
  },
  {
   "cell_type": "code",
   "execution_count": 1,
   "metadata": {},
   "outputs": [
    {
     "name": "stdout",
     "output_type": "stream",
     "text": [
      "True\n",
      "<class 'bool'>\n",
      "<class 'bool'>\n"
     ]
    }
   ],
   "source": [
    "print(True)\n",
    "print(type(True))\n",
    "print(type(False))"
   ]
  },
  {
   "cell_type": "code",
   "execution_count": 2,
   "metadata": {},
   "outputs": [
    {
     "name": "stdout",
     "output_type": "stream",
     "text": [
      "<class 'bool'>\n",
      "<class 'str'>\n"
     ]
    }
   ],
   "source": [
    "print(type(True))\n",
    "print(type(\"True\"))"
   ]
  },
  {
   "cell_type": "markdown",
   "metadata": {},
   "source": [
    "A boolean expression is an expression that evaluates to a boolean value. The equality operator, ==, compares two values and produces a boolean value related to whether the two values are equal to one another."
   ]
  },
  {
   "cell_type": "code",
   "execution_count": 3,
   "metadata": {},
   "outputs": [
    {
     "name": "stdout",
     "output_type": "stream",
     "text": [
      "True\n",
      "False\n"
     ]
    }
   ],
   "source": [
    "print(5 == 5)\n",
    "print(5 == 6)"
   ]
  },
  {
   "cell_type": "markdown",
   "metadata": {},
   "source": [
    "In the first statement, the two operands are equal, so the expression evaluates to True. In the second statement, 5 is not equal to 6, so we get False.\n",
    "\n",
    "The == operator is one of six common comparison operators; the others are:\n",
    "\n",
    "x != y               # x is not equal to y\n",
    "\n",
    "x > y                # x is greater than y\n",
    "\n",
    "x < y                # x is less than y\n",
    "\n",
    "x >= y               # x is greater than or equal to y\n",
    "\n",
    "x <= y               # x is less than or equal to y\n",
    "\n",
    "Although these operations are probably familiar to you, the Python symbols are different from the mathematical symbols. A common error is to use a single equal sign (=) instead of a double equal sign (==). Remember that = is an assignment operator and == is a comparison operator. Also, there is no such thing as =< or =>.\n",
    "\n",
    "Note too that an equality test is symmetric, but assignment is not. For example, if a == 7 then 7 == a. But in Python, the statement a = 7 is legal and 7 = a is not."
   ]
  },
  {
   "cell_type": "markdown",
   "metadata": {},
   "source": [
    "# Logical operators\n",
    "There are three logical operators: and, or, and not. The semantics (meaning) of these operators is similar to their meaning in English. For example, x > 0 and x < 10 is true only if x is greater than 0 and at the same time, x is less than 10. How would you describe this in words? You would say that x is between 0 and 10, not including the endpoints.\n",
    "\n",
    "n % 2 == 0 or n % 3 == 0 is true if either of the conditions is true, that is, if the number is divisible by 2 or divisible by 3. In this case, one, or the other, or both of the parts has to be true for the result to be true.\n",
    "\n",
    "Finally, the not operator negates a boolean expression, so not  x > y is true if x > y is false, that is, if x is less than or equal to y.\n",
    "\n"
   ]
  },
  {
   "cell_type": "code",
   "execution_count": 4,
   "metadata": {},
   "outputs": [
    {
     "name": "stdout",
     "output_type": "stream",
     "text": [
      "True\n",
      "False\n"
     ]
    }
   ],
   "source": [
    "x = 5\n",
    "print(x>0 and x<10)\n",
    "\n",
    "n = 25\n",
    "print(n%2 == 0 or n%3 == 0)"
   ]
  },
  {
   "cell_type": "markdown",
   "metadata": {},
   "source": [
    "# The in and not in operators\n",
    "The in operator tests if one string is a substring of another:"
   ]
  },
  {
   "cell_type": "code",
   "execution_count": 5,
   "metadata": {},
   "outputs": [
    {
     "name": "stdout",
     "output_type": "stream",
     "text": [
      "True\n",
      "False\n",
      "True\n",
      "False\n"
     ]
    }
   ],
   "source": [
    "print('p' in 'apple')\n",
    "print('i' in 'apple')\n",
    "print('ap' in 'apple')\n",
    "print('pa' in 'apple')"
   ]
  },
  {
   "cell_type": "markdown",
   "metadata": {},
   "source": [
    "Note that a string is a substring of itself, and the empty string is a substring of any other string. (Also note that computer scientists like to think about these edge cases quite carefully!)"
   ]
  },
  {
   "cell_type": "code",
   "execution_count": 6,
   "metadata": {},
   "outputs": [
    {
     "name": "stdout",
     "output_type": "stream",
     "text": [
      "True\n",
      "True\n",
      "True\n",
      "True\n"
     ]
    }
   ],
   "source": [
    "print('a' in 'a')\n",
    "print('apple' in 'apple')\n",
    "print('' in 'a')\n",
    "print('' in 'apple')"
   ]
  },
  {
   "cell_type": "markdown",
   "metadata": {},
   "source": [
    "The not in operator returns the logical opposite result of in."
   ]
  },
  {
   "cell_type": "code",
   "execution_count": 7,
   "metadata": {},
   "outputs": [
    {
     "name": "stdout",
     "output_type": "stream",
     "text": [
      "True\n"
     ]
    }
   ],
   "source": [
    "print('x' not in 'apple')"
   ]
  },
  {
   "cell_type": "code",
   "execution_count": 8,
   "metadata": {},
   "outputs": [
    {
     "name": "stdout",
     "output_type": "stream",
     "text": [
      "True\n",
      "True\n",
      "False\n"
     ]
    }
   ],
   "source": [
    "#We can also use the in and not in operators on lists!\n",
    "print(\"a\" in [\"a\", \"b\", \"c\", \"d\"])\n",
    "print(9 in [3, 2, 9, 10, 9.0])\n",
    "print('wow' not in ['gee wiz', 'gosh golly', 'wow', 'amazing'])"
   ]
  },
  {
   "cell_type": "code",
   "execution_count": 9,
   "metadata": {},
   "outputs": [
    {
     "name": "stdout",
     "output_type": "stream",
     "text": [
      "False\n"
     ]
    }
   ],
   "source": [
    "#However, remember how you were able to check to see if an “a” was in “apple”? Let’s try that again to see if there’s an “a” somewhere in the following list.\n",
    "print(\"a\" in [\"apple\", \"absolutely\", \"application\", \"nope\"])"
   ]
  },
  {
   "cell_type": "markdown",
   "metadata": {},
   "source": [
    "# Precedence of Operators\n",
    "Arithmetic operators take precedence over logical operators. Python will always evaluate the arithmetic operators first (** is highest, then multiplication/division, then addition/subtraction). Next comes the relational operators. Finally, the logical operators are done last. This means that the expression x*5 >= 10 and y-6 <= 20 will be evaluated so as to first perform the arithmetic and then check the relationships. The and will be done last. Many programmers might place parentheses around the two relational expressions, (x*5 >= 10) and (y-6 <= 20). It is not necessary to do so, but causes no harm and may make it easier for people to read and understand the code."
   ]
  },
  {
   "cell_type": "code",
   "execution_count": 11,
   "metadata": {},
   "outputs": [
    {
     "data": {
      "text/plain": [
       "False"
      ]
     },
     "execution_count": 11,
     "metadata": {},
     "output_type": "execute_result"
    }
   ],
   "source": [
    "# Which of the following properly expresses the precedence of operators (using parentheses) in the following expression: 5*3 > 10 and 4+6==11\n",
    "\n",
    "((5*3) > 10) and ((4+6) == 11)\n",
    "(5*(3 > 10)) and (4 + (6 == 11))\n",
    "((((5*3) > 10) and 4)+6) == 11\n",
    "((5*3) > (10 and (4+6))) == 11"
   ]
  },
  {
   "cell_type": "markdown",
   "metadata": {},
   "source": [
    "# Conditional Execution: Binary Selection\n",
    "In order to write useful programs, we almost always need the ability to check conditions and change the behavior of the program accordingly. Selection statements, sometimes also referred to as conditional statements, give us this ability. The simplest form of selection is the if statement. This is sometimes referred to as binary selection since there are two possible paths of execution.\n",
    "\n"
   ]
  },
  {
   "cell_type": "code",
   "execution_count": 12,
   "metadata": {},
   "outputs": [
    {
     "name": "stdout",
     "output_type": "stream",
     "text": [
      "15 is odd\n"
     ]
    }
   ],
   "source": [
    "x = 15\n",
    "\n",
    "if x % 2 == 0:\n",
    "    print(x, \"is even\")\n",
    "else:\n",
    "    print(x, \"is odd\")"
   ]
  },
  {
   "cell_type": "markdown",
   "metadata": {},
   "source": [
    "The syntax for an if statement looks like this:\n",
    "\n",
    "if BOOLEAN EXPRESSION:\n",
    "\n",
    "    STATEMENTS_1        # executed if condition evaluates to True\n",
    "    \n",
    "else:\n",
    "\n",
    "    STATEMENTS_2        # executed if condition evaluates to False\n",
    "    \n",
    "The boolean expression after the if statement is called the condition. If it is true, then the indented statements get executed. If not, then the statements indented under the else clause get executed.\n",
    "\n",
    "Flowchart of a if statement with an else\n",
    "\n",
    "../_images/flowchart_if_else.png\n",
    "As with the function definition from the last chapter and other compound statements like for, the if statement consists of a header line and a body. The header line begins with the keyword if followed by a boolean expression and ends with a colon (:).\n",
    "\n",
    "The indented statements that follow are called a block. The first unindented statement marks the end of the block.\n",
    "\n",
    "Each of the statements inside the first block of statements is executed in order if the boolean expression evaluates to True. The entire first block of statements is skipped if the boolean expression evaluates to False, and instead all the statements under the else clause are executed.\n",
    "\n",
    "There is no limit on the number of statements that can appear under the two clauses of an if statement, but there has to be at least one statement in each block."
   ]
  },
  {
   "cell_type": "code",
   "execution_count": 13,
   "metadata": {},
   "outputs": [
    {
     "name": "stdout",
     "output_type": "stream",
     "text": [
      "FALSE\n"
     ]
    }
   ],
   "source": [
    "#What does the following code print? (choose from output a, b, c or nothing)\n",
    "\n",
    "if (4 + 5 == 10):\n",
    "    print(\"TRUE\")\n",
    "else:\n",
    "    print(\"FALSE\")"
   ]
  },
  {
   "cell_type": "code",
   "execution_count": 14,
   "metadata": {},
   "outputs": [
    {
     "name": "stdout",
     "output_type": "stream",
     "text": [
      "FALSE\n",
      "TRUE\n"
     ]
    }
   ],
   "source": [
    "#What does the following code print?\n",
    "\n",
    "if (4 + 5 == 10):\n",
    "    print(\"TRUE\")\n",
    "else:\n",
    "    print(\"FALSE\")\n",
    "print(\"TRUE\")"
   ]
  },
  {
   "cell_type": "code",
   "execution_count": 15,
   "metadata": {},
   "outputs": [
    {
     "name": "stdout",
     "output_type": "stream",
     "text": [
      "You can apply to SI!\n"
     ]
    }
   ],
   "source": [
    "#Write code to assign the string \"You can apply to SI!\" to output if the string \"SI 106\" is in the list courses. If it is not in courses, assign the value \"Take SI 106!\" to the variable output.\n",
    "courses = [\"ENGR 101\", \"SI 110\", \"ENG 125\", \"SI 106\", \"CHEM 130\"]\n",
    "\n",
    "if \"SI 106\" in courses:\n",
    "    output = \"You can apply to SI!\"\n",
    "else:\n",
    "    output = \"Take SI 106!\"\n",
    "print(output)"
   ]
  },
  {
   "cell_type": "code",
   "execution_count": 17,
   "metadata": {},
   "outputs": [
    {
     "data": {
      "text/plain": [
       "35"
      ]
     },
     "execution_count": 17,
     "metadata": {},
     "output_type": "execute_result"
    }
   ],
   "source": [
    "#Create a variable, b, and assign it the value of 15. Then, write code to see if the value b is greater than that of a. If it is, a’s value should be multiplied by 2. If the value of b is less than or equal to a, nothing should happen. Finally, create variable c and assign it the value of the sum of a and b.\n",
    "a = 20\n",
    "b = 15\n",
    "\n",
    "if b > a:\n",
    "    a = a *2\n",
    "c = a + b\n",
    "c"
   ]
  },
  {
   "cell_type": "markdown",
   "metadata": {},
   "source": [
    "# Omitting the else Clause: Unary Selection\n",
    "Flowchart of an if with no else\n",
    "\n",
    "Another form of the if statement is one in which the else clause is omitted entirely. This creates what is sometimes called unary selection. In this case, when the condition evaluates to True, the statements are executed. Otherwise the flow of execution continues to the statement after the body of the if."
   ]
  },
  {
   "cell_type": "code",
   "execution_count": 18,
   "metadata": {},
   "outputs": [
    {
     "name": "stdout",
     "output_type": "stream",
     "text": [
      "This is always printed\n"
     ]
    }
   ],
   "source": [
    "x = 10\n",
    "if x < 0:\n",
    "    print(\"The negative number \",  x, \" is not valid here.\")\n",
    "print(\"This is always printed\")"
   ]
  },
  {
   "cell_type": "code",
   "execution_count": 19,
   "metadata": {},
   "outputs": [
    {
     "name": "stdout",
     "output_type": "stream",
     "text": [
      "The negative number  -10  is not valid here.\n",
      "This is always printed\n"
     ]
    }
   ],
   "source": [
    "#What does the following code print?\n",
    "\n",
    "x = -10\n",
    "if x < 0:\n",
    "    print(\"The negative number \",  x, \" is not valid here.\")\n",
    "print(\"This is always printed\")"
   ]
  },
  {
   "cell_type": "code",
   "execution_count": null,
   "metadata": {},
   "outputs": [],
   "source": [
    "#Will the following code cause an error?\n",
    "\n",
    "x = -10\n",
    "if x < 0:\n",
    "    print(\"The negative number \",  x, \" is not valid here.\")\n",
    "else:\n",
    "    print(x, \" is a positive number\")\n",
    "else:\n",
    "    print(\"This is always printed\")"
   ]
  },
  {
   "cell_type": "markdown",
   "metadata": {},
   "source": [
    "# Nested conditionals\n",
    "One conditional can also be nested within another. For example, assume we have two integer variables, x and y. The following pattern of selection shows how we might decide how they are related to each other.\n",
    "\n",
    "if x < y:\n",
    "\n",
    "    print(\"x is less than y\")\n",
    "    \n",
    "else:\n",
    "\n",
    "    if x > y:\n",
    "    \n",
    "        print(\"x is greater than y\")\n",
    "        \n",
    "    else:\n",
    "    \n",
    "        print(\"x and y must be equal\")\n",
    "        \n",
    "The outer conditional contains two branches. The second branch (the else from the outer) contains another if statement, which has two branches of its own. Those two branches could contain conditional statements as well.\n",
    "\n",
    "The flow of control for this example can be seen in this flowchart illustration.\n",
    "\n",
    "Here is a complete program that defines values for x and y. Run the program and see the result. Then change the values of the variables to change the flow of control.\n",
    "\n"
   ]
  },
  {
   "cell_type": "code",
   "execution_count": 22,
   "metadata": {},
   "outputs": [
    {
     "name": "stdout",
     "output_type": "stream",
     "text": [
      "x and y must be equal\n"
     ]
    }
   ],
   "source": [
    "x = 10\n",
    "y = 10\n",
    "\n",
    "if x < y:\n",
    "    print(\"x is less than y\")\n",
    "else:\n",
    "    if x > y:\n",
    "        print(\"x is greater than y\")\n",
    "    else:\n",
    "        print(\"x and y must be equal\")"
   ]
  },
  {
   "cell_type": "code",
   "execution_count": 23,
   "metadata": {},
   "outputs": [
    {
     "name": "stdout",
     "output_type": "stream",
     "text": [
      "The negative number  -10  is not valid here.\n"
     ]
    }
   ],
   "source": [
    "#Will the following code cause an error?\n",
    "\n",
    "x = -10\n",
    "if x < 0:\n",
    "    print(\"The negative number \",  x, \" is not valid here.\")\n",
    "else:\n",
    "    if x > 0:\n",
    "        print(x, \" is a positive number\")\n",
    "    else:\n",
    "        print(x,\" is 0\")"
   ]
  },
  {
   "cell_type": "markdown",
   "metadata": {},
   "source": [
    "# Chained conditionals\n",
    "Python provides an alternative way to write nested selection such as the one shown in the previous section. This is sometimes referred to as a chained conditional.\n",
    "\n",
    "if x < y:\n",
    "\n",
    "    print(\"x is less than y\")\n",
    "    \n",
    "elif x > y:\n",
    "\n",
    "    print(\"x is greater than y\")\n",
    "    \n",
    "else:\n",
    "\n",
    "    print(\"x and y must be equal\")\n",
    "    \n",
    "The flow of control can be drawn in a different orientation but the resulting pattern is identical to the one shown above.\n",
    "\n",
    "\n",
    "elif is an abbreviation of else if. Again, exactly one branch will be executed. There is no limit of the number of elif statements but only a single (and optional) final else statement is allowed and it must be the last branch in the statement."
   ]
  },
  {
   "cell_type": "code",
   "execution_count": 24,
   "metadata": {},
   "outputs": [
    {
     "name": "stdout",
     "output_type": "stream",
     "text": [
      "x and y must be equal\n"
     ]
    }
   ],
   "source": [
    "x = 10\n",
    "y = 10\n",
    "\n",
    "if x < y:\n",
    "    print(\"x is less than y\")\n",
    "elif x > y:\n",
    "    print(\"x is greater than y\")\n",
    "else:\n",
    "    print(\"x and y must be equal\")"
   ]
  },
  {
   "cell_type": "code",
   "execution_count": 25,
   "metadata": {},
   "outputs": [
    {
     "name": "stdout",
     "output_type": "stream",
     "text": [
      "c\n"
     ]
    }
   ],
   "source": [
    "#What will the following code print if x = 3, y = 5, and z = 2?\n",
    "\n",
    "if x < y and x < z:\n",
    "    print(\"a\")\n",
    "elif y < x and y < z:\n",
    "    print(\"b\")\n",
    "else:\n",
    "    print(\"c\")"
   ]
  },
  {
   "cell_type": "code",
   "execution_count": 26,
   "metadata": {},
   "outputs": [
    {
     "name": "stdout",
     "output_type": "stream",
     "text": [
      "True! You are you!\n"
     ]
    }
   ],
   "source": [
    "#Create one conditional to find whether “false” is in string str1. If so, assign variable output the string “False. You aren’t you?”. Check to see if “true” is in string str1 and if it is then assign “True! You are you!” to the variable output. If neither are in str1, assign “Neither true nor false!” to output.\n",
    "str1 = \"Today you are you! That is truer than true! There is no one alive who is you-er than you!\"\n",
    "\n",
    "if \"false\" in str1:\n",
    "    output = \"False. You aren’t you?\"\n",
    "elif \"true\" in str1:\n",
    "    output = \"True! You are you!\"\n",
    "else:\n",
    "    output =  \"Neither true nor false!\"\n",
    "print(output)"
   ]
  },
  {
   "cell_type": "code",
   "execution_count": 27,
   "metadata": {},
   "outputs": [
    {
     "name": "stdout",
     "output_type": "stream",
     "text": [
      "['Bring an umbrella.', 'Nice day!', 'Bring an umbrella.', 'Watch out for clouds!', 'Nice day!', 'Nice day!', 'Watch out for clouds!', 'Good for the flowers?']\n"
     ]
    }
   ],
   "source": [
    "#Create an empty list called resps. Using the list percent_rain, for each percent, if it is above 90, add the string ‘Bring an umbrella.’ to resps, otherwise if it is above 80, add the string ‘Good for the flowers?’ to resps, otherwise if it is above 50, add the string ‘Watch out for clouds!’ to resps, otherwise, add the string ‘Nice day!’ to resps. Note: if you’re sure you’ve got the problem right but it doesn’t pass, then check that you’ve matched up the strings exactly.\n",
    "\n",
    "percent_rain = [94.3, 45, 100, 78, 16, 5.3, 79, 86]\n",
    "resps = []\n",
    "for i in percent_rain:\n",
    "    if i > 90:\n",
    "        resps.append('Bring an umbrella.')\n",
    "    elif i > 80:\n",
    "        resps.append('Good for the flowers?')\n",
    "    elif i > 50:\n",
    "        resps.append('Watch out for clouds!')\n",
    "    else:\n",
    "        resps.append('Nice day!')\n",
    "print(resps)"
   ]
  },
  {
   "cell_type": "code",
   "execution_count": 29,
   "metadata": {},
   "outputs": [
    {
     "data": {
      "text/plain": [
       "[True, None]"
      ]
     },
     "execution_count": 29,
     "metadata": {},
     "output_type": "execute_result"
    }
   ],
   "source": [
    "#We have created conditionals for you to use. Do not change the provided conditional statements. Find an integer value for x that will cause output to hold the values True and None. (Drawing diagrams or flow charts for yourself may help!)\n",
    "x = 64\n",
    "output = []\n",
    "\n",
    "if x > 63:\n",
    "    output.append(True)\n",
    "elif x > 55:\n",
    "    output.append(False)\n",
    "else:\n",
    "    output.append(\"Neither\")\n",
    "\n",
    "if x > 67:\n",
    "    output.append(True)\n",
    "else:\n",
    "    output.append(None)\n",
    "output"
   ]
  },
  {
   "cell_type": "markdown",
   "metadata": {},
   "source": [
    "# The Accumulator Pattern with Conditionals\n",
    "Sometimes when we’re accumulating, we don’t want to add to our accumulator every time we iterate. Consider, for example, the following program which counts the number of letters in a phrase.\n",
    "\n"
   ]
  },
  {
   "cell_type": "code",
   "execution_count": 30,
   "metadata": {},
   "outputs": [
    {
     "name": "stdout",
     "output_type": "stream",
     "text": [
      "26\n"
     ]
    }
   ],
   "source": [
    "phrase = \"What a wonderful day to program\"\n",
    "tot = 0\n",
    "for char in phrase:\n",
    "    if char != \" \":\n",
    "        tot = tot + 1\n",
    "print(tot)\n"
   ]
  },
  {
   "cell_type": "markdown",
   "metadata": {},
   "source": [
    "Here, we initialize the accumulator variable to be zero on line two.\n",
    "\n",
    "We iterate through the sequence (line 3).\n",
    "\n",
    "The update step happens in two parts. First, we check to see if the value of char is not a space. If it is not a space, then we update the value of our accumulator variable tot (on line 6) by adding one to it. If that conditional proves to be False, which means that char is a space, then we don’t update tot and continue the for loop. We could have written tot = tot + 1 or tot += 1, either is fine.\n",
    "\n",
    "At the end, we have accumulated a the total number of letters in the phrase. Without using the conditional, we would have only been able to count how many characters there are in the string and not been able to differentiate between spaces and non-spaces.\n",
    "\n",
    "We can use conditionals to also count if particular items are in a string or list. The following code finds all occurrences of vowels in the following string."
   ]
  },
  {
   "cell_type": "code",
   "execution_count": 31,
   "metadata": {},
   "outputs": [
    {
     "name": "stdout",
     "output_type": "stream",
     "text": [
      "8\n"
     ]
    }
   ],
   "source": [
    "s = \"what if we went to the zoo\"\n",
    "x = 0\n",
    "for i in s:\n",
    "    if i in ['a', 'e', 'i', 'o', 'u']:\n",
    "        x += 1\n",
    "print(x)"
   ]
  },
  {
   "cell_type": "markdown",
   "metadata": {},
   "source": [
    "#  Accumulating the Max Value\n",
    "We can also use the accumulation pattern with conditionals to find the maximum or minimum value. Instead of continuing to build up the accumulator value like we have when counting or finding a sum, we can reassign the accumulator variable to a different value.\n",
    "\n",
    "The following example shows how we can get the maximum value from a list of integers.\n",
    "\n"
   ]
  },
  {
   "cell_type": "code",
   "execution_count": 32,
   "metadata": {},
   "outputs": [
    {
     "name": "stdout",
     "output_type": "stream",
     "text": [
      "29\n"
     ]
    }
   ],
   "source": [
    "nums = [9, 3, 8, 11, 5, 29, 2]\n",
    "best_num = 0\n",
    "for n in nums:\n",
    "    if n > best_num:\n",
    "        best_num = n\n",
    "print(best_num)"
   ]
  },
  {
   "cell_type": "markdown",
   "metadata": {},
   "source": [
    "Here, we initialize best_num to zero, assuming that there are no negative numbers in the list.\n",
    "\n",
    "In the for loop, we check to see if the current value of n is greater than the current value of best_num. If it is, then we want to update best_num so that it now is assigned the higher number. Otherwise, we do nothing and continue the for loop.\n",
    "\n",
    "You may notice that the current structure could be a problem. If the numbers were all negative what would happen to our code? What if we were looking for the smallest number but we initialized best_num with zero? To get around this issue, we can initialize the accumulator variable using one of the numbers in the list."
   ]
  },
  {
   "cell_type": "code",
   "execution_count": 33,
   "metadata": {},
   "outputs": [
    {
     "name": "stdout",
     "output_type": "stream",
     "text": [
      "29\n"
     ]
    }
   ],
   "source": [
    "nums = [9, 3, 8, 11, 5, 29, 2]\n",
    "best_num = nums[0]\n",
    "for n in nums:\n",
    "    if n > best_num:\n",
    "        best_num = n\n",
    "print(best_num)"
   ]
  },
  {
   "cell_type": "code",
   "execution_count": 34,
   "metadata": {},
   "outputs": [
    {
     "name": "stdout",
     "output_type": "stream",
     "text": [
      "5\n"
     ]
    }
   ],
   "source": [
    "#What is printed by the following statements?\n",
    "\n",
    "s = \"We are learning!\"\n",
    "x = 0\n",
    "for i in s:\n",
    "    if i in ['a', 'b', 'c', 'd', 'e']:\n",
    "        x += 1\n",
    "print(x)"
   ]
  },
  {
   "cell_type": "code",
   "execution_count": 36,
   "metadata": {},
   "outputs": [
    {
     "name": "stdout",
     "output_type": "stream",
     "text": [
      "0\n"
     ]
    }
   ],
   "source": [
    "#What is printed by the following statements?\n",
    "\n",
    "list= [5, 2, 1, 4, 9, 10]\n",
    "min_value = 0\n",
    "for item in list:\n",
    "    if item < min_value:\n",
    "        min_value = item\n",
    "print(min_value)"
   ]
  },
  {
   "cell_type": "code",
   "execution_count": 37,
   "metadata": {},
   "outputs": [
    {
     "name": "stdout",
     "output_type": "stream",
     "text": [
      "3\n"
     ]
    }
   ],
   "source": [
    "#For each string in the list words, find the number of characters in the string. If the number of characters in the string is greater than 3, add 1 to the variable num_words so that num_words should end up with the total number of words with more than 3 characters.\n",
    "words = [\"water\", \"chair\", \"pen\", \"basket\", \"hi\", \"car\"]\n",
    "num_words = 0\n",
    "for i in words:\n",
    "    if len(i) > 3:\n",
    "        num_words += 1\n",
    "print(num_words)"
   ]
  },
  {
   "cell_type": "code",
   "execution_count": 38,
   "metadata": {},
   "outputs": [
    {
     "name": "stdout",
     "output_type": "stream",
     "text": [
      "['adopted', 'baked', 'beamed', 'confided', 'grilled', 'planted', 'timed', 'waved', 'wished']\n"
     ]
    }
   ],
   "source": [
    "#Challenge For each word in words, add ‘d’ to the end of the word if the word ends in “e” to make it past tense. Otherwise, add ‘ed’ to make it past tense. Save these past tense words to a list called past_tense.\n",
    "words = [\"adopt\", \"bake\", \"beam\", \"confide\", \"grill\", \"plant\", \"time\", \"wave\", \"wish\"]\n",
    "past_tense = []\n",
    "for i in words:\n",
    "    if i[-1] == 'e':\n",
    "        past_tense.append(i + 'd')\n",
    "    else:\n",
    "        past_tense.append(i + 'ed')\n",
    "print(past_tense)"
   ]
  },
  {
   "cell_type": "code",
   "execution_count": null,
   "metadata": {},
   "outputs": [],
   "source": []
  }
 ],
 "metadata": {
  "kernelspec": {
   "display_name": "Python 3",
   "language": "python",
   "name": "python3"
  },
  "language_info": {
   "codemirror_mode": {
    "name": "ipython",
    "version": 3
   },
   "file_extension": ".py",
   "mimetype": "text/x-python",
   "name": "python",
   "nbconvert_exporter": "python",
   "pygments_lexer": "ipython3",
   "version": "3.7.6"
  }
 },
 "nbformat": 4,
 "nbformat_minor": 4
}
