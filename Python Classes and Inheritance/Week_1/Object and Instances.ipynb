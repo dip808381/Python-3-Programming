{
 "cells": [
  {
   "cell_type": "markdown",
   "metadata": {},
   "source": [
    "# Classes and Objects - the Basics\n",
    "### Object-oriented programming\n",
    "Python is an object-oriented programming language. That means it provides features that support object-oriented programming (OOP).\n",
    "\n",
    "Object-oriented programming has its roots in the 1960s, but it wasn’t until the mid 1980s that it became the main programming paradigm used in the creation of new software. It was developed as a way to handle the rapidly increasing size and complexity of software systems and to make it easier to modify these large and complex systems over time.\n",
    "\n",
    "Up to now, some of the programs we have been writing use a procedural programming paradigm. In procedural programming the focus is on writing functions or procedures which operate on data. In object-oriented programming the focus is on the creation of objects which contain both data and functionality together. Usually, each object definition corresponds to some object or concept in the real world and the functions that operate on that object correspond to the ways real-world objects interact."
   ]
  },
  {
   "cell_type": "markdown",
   "metadata": {},
   "source": [
    "# User Defined Classes\n",
    "We’ve already seen classes like str, int, float and list. These were defined by Python and made available for us to use. However, in many cases when we are solving problems we need to create data objects that are related to the problem we are trying to solve. We need to create our own classes.\n",
    "\n",
    "As an example, consider the concept of a mathematical point. In two dimensions, a point is two numbers (coordinates) that are treated collectively as a single object. Points are often written in parentheses with a comma separating the coordinates. For example, (0, 0) represents the origin, and (x, y) represents the point x units to the right and y units up from the origin. This (x,y) is the state of the point.\n",
    "\n",
    "Thinking about our diagram above, we could draw a point object as shown here.\n",
    "\n",
    "A point has an x and a y\n",
    "Some of the typical operations that one associates with points might be to ask the point for its x coordinate, getX, or to ask for its y coordinate, getY. You would want these types of functions available to prevent accidental changes to these instance variables since doing so would allow you to view the values without accessing them directly. You may also wish to calculate the distance of a point from the origin, or the distance of a point from another point, or find the midpoint between two points, or answer the question as to whether a point falls within a given rectangle or circle. We’ll shortly see how we can organize these together with the data.\n",
    "\n",
    "A point also has methods\n",
    "Now that we understand what a point object might look like, we can define a new class. We’ll want our points to each have an x and a y attribute, so our first class definition looks like this.\n",
    "\n",
    "1\n",
    "2\n",
    "3\n",
    "4\n",
    "5\n",
    "6\n",
    "7\n",
    "class Point:\n",
    "    \"\"\" Point class for representing and manipulating x,y coordinates. \"\"\"\n",
    "\n",
    "    def __init__(self):\n",
    "        \"\"\" Create a new point at the origin \"\"\"\n",
    "        self.x = 0\n",
    "        self.y = 0\n",
    "Class definitions can appear anywhere in a program, but they are usually near the beginning (after the import statements). The syntax rules for a class definition are the same as for other compound statements. There is a header which begins with the keyword, class, followed by the name of the class, and ending with a colon.\n",
    "\n",
    "If the first line after the class header is a string, it becomes the docstring of the class, and will be recognized by various tools. (This is also the way docstrings work in functions.)\n",
    "\n",
    "Every class should have a method with the special name __init__. This initializer method, often referred to as the constructor, is automatically called whenever a new instance of Point is created. It gives the programmer the opportunity to set up the attributes required within the new instance by giving them their initial state values. The self parameter (you could choose any other name, but nobody ever does!) is automatically set to reference the newly created object that needs to be initialized.\n",
    "\n",
    "So let’s use our new Point class now. This next part should look a little familiar, if you remember some of the syntax for how we created instances of the Turtle class, in the chapter on Turtle graphics.\n",
    "\n"
   ]
  },
  {
   "cell_type": "code",
   "execution_count": 1,
   "metadata": {},
   "outputs": [
    {
     "name": "stdout",
     "output_type": "stream",
     "text": [
      "Nothing seems to have happened with the points\n"
     ]
    }
   ],
   "source": [
    "class Point:\n",
    "    \"\"\" Point class for representing and manipulating x,y coordinates. \"\"\"\n",
    "\n",
    "    def __init__(self):\n",
    "\n",
    "        self.x = 0\n",
    "        self.y = 0\n",
    "\n",
    "p = Point()         # Instantiate an object of type Point\n",
    "q = Point()         # and make a second point\n",
    "\n",
    "print(\"Nothing seems to have happened with the points\")"
   ]
  },
  {
   "cell_type": "markdown",
   "metadata": {},
   "source": [
    "The following program adds a few print statements. You can see that the output suggests that each one is a Point object. However, notice that the is operator returns False meaning that they are different objects (we will have more to say about this in a later section)"
   ]
  },
  {
   "cell_type": "code",
   "execution_count": 3,
   "metadata": {},
   "outputs": [
    {
     "name": "stdout",
     "output_type": "stream",
     "text": [
      "<__main__.Point object at 0x000002405C92A8C8>\n",
      "<__main__.Point object at 0x000002405C92A908>\n",
      "False\n"
     ]
    }
   ],
   "source": [
    "class Point:\n",
    "    \"\"\" Point class for representing and manipulating x,y coordinates. \"\"\"\n",
    "\n",
    "    def __init__(self):\n",
    "\n",
    "        self.x = 0\n",
    "        self.y = 0\n",
    "\n",
    "p = Point()         # Instantiate an object of type Point\n",
    "q = Point()         # and make a second point\n",
    "\n",
    "print(p)\n",
    "print(q)\n",
    "\n",
    "print(p is q)"
   ]
  },
  {
   "cell_type": "markdown",
   "metadata": {},
   "source": [
    "# Adding Parameters to the Constructor\n",
    "Our constructor so far can only create points at location (0,0). To create a point at position (7, 6) requires that we provide some additional capability for the user to pass information to the constructor. Since constructors are simply specially named functions, we can use parameters (as we’ve seen before) to provide the specific information.\n",
    "\n",
    "We can make our class constructor more generally usable by putting extra parameters into the __init__ method, as shown in this example.\n",
    "\n",
    "class Point:\n",
    "    \"\"\" Point class for representing and manipulating x,y coordinates. \"\"\"\n",
    "\n",
    "    def __init__(self, initX, initY):\n",
    "\n",
    "        self.x = initX\n",
    "        self.y = initY\n",
    "\n",
    "p = Point(7,6)\n",
    "Now when we create new points, we supply the x and y coordinates as parameters. When the point is created, the values of initX and initY are assigned to the state of the object, in the instance variables x and y.\n",
    "\n",
    "This is a common thing to do in the __init__ method for a class: take in some parameters and save them as instance variables. Why is this useful? Keep in mind that the parameter variables will go away when the method is finished executing. The instance variables, however, will still be accessible anywhere that you have a handle on the object instance. This is a way of saving those initial values that are provided when the class constructor is invoked.\n",
    "\n",
    "Later on, you will see classes where the __init__ method does more than just save parameters as instance variables. For example, it might parse the contents of those variables and do some computation on them, storing the results in instance variables. It might even make an Internet connection, download some content, and store that in instance variables.\n",
    "\n"
   ]
  },
  {
   "cell_type": "code",
   "execution_count": 4,
   "metadata": {},
   "outputs": [
    {
     "name": "stdout",
     "output_type": "stream",
     "text": [
      "6\n"
     ]
    }
   ],
   "source": [
    "# Create a class called NumberSet that accepts 2 integers as input, and defines two instance variables: num1 and num2, which hold each of the input integers. Then, create an instance of NumberSet where its num1 is 6 and its num2 is 10. Save this instance to a variable t.\n",
    "class NumberSet:\n",
    "    def __init__(self, num1, num2):\n",
    "        self.num1 = num1\n",
    "        self.num2 = num2\n",
    "t = NumberSet(6, 10)\n",
    "\n",
    "print(t.num1)"
   ]
  },
  {
   "cell_type": "markdown",
   "metadata": {},
   "source": [
    "# Adding Other Methods to a Class\n",
    "The key advantage of using a class like Point rather than something like a simple tuple (7, 6) now becomes apparent. We can add methods to the Point class that are sensible operations for points. Had we chosen to use a tuple to represent the point, we would not have this capability. Creating a class like Point brings an exceptional amount of “organizational power” to our programs, and to our thinking. We can group together the sensible operations, and the kinds of data they apply to, and each instance of the class can have its own state.\n",
    "\n",
    "A method behaves like a function but it is invoked on a specific instance. For example, with a list bound to variable L, L.append(7) calls the function append, with the list itself as the first parameter and 7 as the second parameter. Methods are accessed using dot notation. This is why L.append(7) has 2 parameters even though you may think it only has one: the list stored in the variable L is the first parameter value and 7 is the second.\n",
    "\n",
    "Let’s add two simple methods to allow a point to give us information about its state. The getX method, when invoked, will return the value of the x coordinate.\n",
    "\n",
    "The implementation of this method is straight forward since we already know how to write functions that return values. One thing to notice is that even though the getX method does not need any other parameter information to do its work, there is still one formal parameter, self. As we stated earlier, all methods defined in a class that operate on objects of that class will have self as their first parameter. Again, this serves as a reference to the object itself which in turn gives access to the state data inside the object."
   ]
  },
  {
   "cell_type": "code",
   "execution_count": 5,
   "metadata": {},
   "outputs": [
    {
     "name": "stdout",
     "output_type": "stream",
     "text": [
      "7\n",
      "6\n"
     ]
    }
   ],
   "source": [
    "class Point:\n",
    "    \"\"\" Point class for representing and manipulating x,y coordinates. \"\"\"\n",
    "\n",
    "    def __init__(self, initX, initY):\n",
    "\n",
    "        self.x = initX\n",
    "        self.y = initY\n",
    "\n",
    "    def getX(self):\n",
    "        return self.x\n",
    "\n",
    "    def getY(self):\n",
    "        return self.y\n",
    "\n",
    "\n",
    "p = Point(7,6)\n",
    "print(p.getX())\n",
    "print(p.getY())"
   ]
  },
  {
   "cell_type": "markdown",
   "metadata": {},
   "source": [
    "Note that the getX method simply returns the value of the instance variable x from the object self. In other words, the implementation of the method is to go to the state of the object itself and get the value of x. Likewise, the getY method looks almost the same.\n",
    "\n",
    "Let’s add another method, distanceFromOrigin, to see better how methods work. This method will again not need any additional information to do its work, beyond the data stored in the instance variables. It will perform a more complex task."
   ]
  },
  {
   "cell_type": "code",
   "execution_count": 7,
   "metadata": {},
   "outputs": [
    {
     "name": "stdout",
     "output_type": "stream",
     "text": [
      "9.219544457292887\n"
     ]
    }
   ],
   "source": [
    "class Point:\n",
    "    \"\"\" Point class for representing and manipulating x,y coordinates. \"\"\"\n",
    "\n",
    "    def __init__(self, initX, initY):\n",
    "\n",
    "        self.x = initX\n",
    "        self.y = initY\n",
    "\n",
    "    def getX(self):\n",
    "        return self.x\n",
    "\n",
    "    def getY(self):\n",
    "        return self.y\n",
    "\n",
    "    def distanceFromOrigin(self):\n",
    "        return ((self.x ** 2) + (self.y ** 2)) ** 0.5\n",
    "\n",
    "\n",
    "p = Point(7,6)\n",
    "print(p.distanceFromOrigin())"
   ]
  },
  {
   "cell_type": "code",
   "execution_count": 12,
   "metadata": {},
   "outputs": [
    {
     "name": "stdout",
     "output_type": "stream",
     "text": [
      "8\n"
     ]
    }
   ],
   "source": [
    "# Create a class called Animal that accepts two numbers as inputs and assigns them respectively to two instance variables: arms and legs. Create an instance method called limbs that, when called, returns the total number of limbs the animal has. To the variable name spider, assign an instance of Animal that has 4 arms and 4 legs. Call the limbs method on the spider instance and save the result to the variable name spidlimbs.\n",
    "class Animal:\n",
    "    def __init__(self, arms, legs):\n",
    "        self.arms = arms\n",
    "        self.legs = legs\n",
    "    def limbs(self):\n",
    "        return self.arms + self.legs \n",
    "spider = Animal(4, 4)\n",
    "spidlimbs = spider.limbs()\n",
    "print(spidlimbs)"
   ]
  },
  {
   "cell_type": "markdown",
   "metadata": {},
   "source": [
    "# Objects as Arguments and Parameters\n",
    "You can pass an object as an argument to a function, in the usual way.\n",
    "\n",
    "Here is a simple function called distance involving our new Point objects. The job of this function is to figure out the distance between two points."
   ]
  },
  {
   "cell_type": "code",
   "execution_count": 13,
   "metadata": {},
   "outputs": [
    {
     "name": "stdout",
     "output_type": "stream",
     "text": [
      "5.0\n"
     ]
    }
   ],
   "source": [
    "import math\n",
    "\n",
    "class Point:\n",
    "    \"\"\" Point class for representing and manipulating x,y coordinates. \"\"\"\n",
    "\n",
    "    def __init__(self, initX, initY):\n",
    "\n",
    "        self.x = initX\n",
    "        self.y = initY\n",
    "\n",
    "    def getX(self):\n",
    "        return self.x\n",
    "\n",
    "    def getY(self):\n",
    "        return self.y\n",
    "\n",
    "    def distanceFromOrigin(self):\n",
    "        return ((self.x ** 2) + (self.y ** 2)) ** 0.5\n",
    "\n",
    "def distance(point1, point2):\n",
    "    xdiff = point2.getX()-point1.getX()\n",
    "    ydiff = point2.getY()-point1.getY()\n",
    "\n",
    "    dist = math.sqrt(xdiff**2 + ydiff**2)\n",
    "    return dist\n",
    "\n",
    "p = Point(4,3)\n",
    "q = Point(0,0)\n",
    "print(distance(p,q))"
   ]
  },
  {
   "cell_type": "markdown",
   "metadata": {},
   "source": [
    "distance takes two points and returns the distance between them. Note that distance is not a method of the Point class. You can see this by looking at the indentation pattern. It is not inside the class definition. The other way we can know that distance is not a method of Point is that self is not included as a formal parameter. In addition, we do not invoke distance using the dot notation.\n",
    "\n",
    "We could have made distance be a method of the Point class. Then, we would have called the first parameter self, and would have invoked it using the dot notation, as in the following code. Which way to implement it is a matter of coding style. Both work correctly. Most programmers choose whether to make functions be stand-alone or methods of a class based on whether the function semantically seems to be an operation that is performed on instances of the class. In this case, because distance is really a property of a pair of points and is symmetric (the distance from a to b is the same as that from b to a) it makes more sense to have it be a standalone function and not a method. Many heated discussions have occurred between programmers about such style decisions."
   ]
  },
  {
   "cell_type": "code",
   "execution_count": 14,
   "metadata": {},
   "outputs": [
    {
     "name": "stdout",
     "output_type": "stream",
     "text": [
      "5.0\n"
     ]
    }
   ],
   "source": [
    "import math\n",
    "\n",
    "class Point:\n",
    "    \"\"\" Point class for representing and manipulating x,y coordinates. \"\"\"\n",
    "\n",
    "    def __init__(self, initX, initY):\n",
    "\n",
    "        self.x = initX\n",
    "        self.y = initY\n",
    "\n",
    "    def getX(self):\n",
    "        return self.x\n",
    "\n",
    "    def getY(self):\n",
    "        return self.y\n",
    "\n",
    "    def distanceFromOrigin(self):\n",
    "        return ((self.x ** 2) + (self.y ** 2)) ** 0.5\n",
    "\n",
    "    def distance(self, point2):\n",
    "        xdiff = point2.getX()-self.getX()\n",
    "        ydiff = point2.getY()-self.getY()\n",
    "\n",
    "        dist = math.sqrt(xdiff**2 + ydiff**2)\n",
    "        return dist\n",
    "\n",
    "p = Point(4,3)\n",
    "q = Point(0,0)\n",
    "print(p.distance(q))"
   ]
  },
  {
   "cell_type": "markdown",
   "metadata": {},
   "source": [
    "# Converting an Object to a String\n",
    "When we’re working with classes and objects, it is often necessary to print an object (that is, to print the state of an object). Consider the example below."
   ]
  },
  {
   "cell_type": "code",
   "execution_count": 15,
   "metadata": {},
   "outputs": [
    {
     "name": "stdout",
     "output_type": "stream",
     "text": [
      "<__main__.Point object at 0x000002405C9849C8>\n"
     ]
    }
   ],
   "source": [
    "class Point:\n",
    "    \"\"\" Point class for representing and manipulating x,y coordinates. \"\"\"\n",
    "\n",
    "    def __init__(self, initX, initY):\n",
    "\n",
    "        self.x = initX\n",
    "        self.y = initY\n",
    "\n",
    "    def getX(self):\n",
    "        return self.x\n",
    "\n",
    "    def getY(self):\n",
    "        return self.y\n",
    "\n",
    "    def distanceFromOrigin(self):\n",
    "        return ((self.x ** 2) + (self.y ** 2)) ** 0.5\n",
    "\n",
    "\n",
    "p = Point(7,6)\n",
    "print(p)\n"
   ]
  },
  {
   "cell_type": "markdown",
   "metadata": {},
   "source": [
    "The print function shown above produces a string representation of the Point p. The default functionality provided by Python tells you that p is an object of type Point. However, it does not tell you anything about the specific state of the point.\n",
    "\n",
    "We can improve on this representation if we include a special method call __str__. Notice that this method uses the same naming convention as the constructor, that is two underscores before and after the name. It is common that Python uses this naming technique for special methods.\n",
    "\n",
    "The __str__ method is responsible for returning a string representation as defined by the class creator. In other words, you as the programmer, get to choose what a Point should look like when it gets printed. In this case, we have decided that the string representation will include the values of x and y as well as some identifying text. It is required that the __str__ method create and return a string.\n",
    "\n",
    "Whatever string the __str__ method for a class returns, that is the string that will print when you put any instance of that class in a print statement. For that reason, the string that a class’s __str__ method returns should usually include values of instance variables. If a point has x value 3 and y value 4, but another point has x value 5 and y value 9, those two Point objects should probably look different when you print them, right?\n",
    "\n",
    "Take a look at the code below."
   ]
  },
  {
   "cell_type": "code",
   "execution_count": 16,
   "metadata": {},
   "outputs": [
    {
     "name": "stdout",
     "output_type": "stream",
     "text": [
      "x = 7, y = 6\n"
     ]
    }
   ],
   "source": [
    "class Point:\n",
    "    \"\"\" Point class for representing and manipulating x,y coordinates. \"\"\"\n",
    "\n",
    "    def __init__(self, initX, initY):\n",
    "\n",
    "        self.x = initX\n",
    "        self.y = initY\n",
    "\n",
    "    def getX(self):\n",
    "        return self.x\n",
    "\n",
    "    def getY(self):\n",
    "        return self.y\n",
    "\n",
    "    def distanceFromOrigin(self):\n",
    "        return ((self.x ** 2) + (self.y ** 2)) ** 0.5\n",
    "\n",
    "    def __str__(self):\n",
    "        return \"x = {}, y = {}\".format(self.x, self.y)\n",
    "\n",
    "p = Point(7,6)\n",
    "print(p)\n"
   ]
  },
  {
   "cell_type": "code",
   "execution_count": 17,
   "metadata": {},
   "outputs": [
    {
     "name": "stdout",
     "output_type": "stream",
     "text": [
      "Corn Flakes cereal is produced by Kellogg's and has 2 grams of fiber in every serving!\n"
     ]
    }
   ],
   "source": [
    "# Create a class called Cereal that accepts three inputs: 2 strings and 1 integer, and assigns them to 3 instance variables in the constructor: name, brand, and fiber. When an instance of Cereal is printed, the user should see the following: “[name] cereal is produced by [brand] and has [fiber integer] grams of fiber in every serving!” To the variable name c1, assign an instance of Cereal whose name is \"Corn Flakes\", brand is \"Kellogg's\", and fiber is 2. To the variable name c2, assign an instance of Cereal whose name is \"Honey Nut Cheerios\", brand is \"General Mills\", and fiber is 3. Practice printing both!\n",
    "class Cereal:\n",
    "    def __init__(self, name, brand, fiber):\n",
    "        self.name = name\n",
    "        self.brand = brand\n",
    "        self.fiber = fiber\n",
    "    def __str__(self):\n",
    "        return  \"{} cereal is produced by {} and has {} grams of fiber in every serving!\".format(self.name, self.brand, self.fiber)\n",
    "c1 = Cereal(\"Corn Flakes\", \"Kellogg's\", 2)\n",
    "c2 = Cereal(\"Honey Nut Cheerios\", \"General Mills\", 3)\n",
    "print(c1)        "
   ]
  },
  {
   "cell_type": "markdown",
   "metadata": {},
   "source": [
    "# Instances as Return Values\n",
    "Functions and methods can return objects. This is actually nothing new since everything in Python is an object and we have been returning values for quite some time. (You can also have lists or tuples of object instances, etc.) The difference here is that we want to have the method create an object using the constructor and then return it as the value of the method.\n",
    "\n",
    "Suppose you have a point object and wish to find the midpoint halfway between it and some other target point. We would like to write a method, let’s call it halfway, which takes another Point as a parameter and returns the Point that is halfway between the point and the target point it accepts as input."
   ]
  },
  {
   "cell_type": "code",
   "execution_count": 18,
   "metadata": {},
   "outputs": [
    {
     "name": "stdout",
     "output_type": "stream",
     "text": [
      "x = 4.0, y = 8.0\n",
      "4.0\n",
      "8.0\n"
     ]
    }
   ],
   "source": [
    "class Point:\n",
    "\n",
    "    def __init__(self, initX, initY):\n",
    "\n",
    "        self.x = initX\n",
    "        self.y = initY\n",
    "\n",
    "    def getX(self):\n",
    "        return self.x\n",
    "\n",
    "    def getY(self):\n",
    "        return self.y\n",
    "\n",
    "    def distanceFromOrigin(self):\n",
    "        return ((self.x ** 2) + (self.y ** 2)) ** 0.5\n",
    "\n",
    "    def __str__(self):\n",
    "        return \"x = {}, y = {}\".format(self.x, self.y)\n",
    "\n",
    "    def halfway(self, target):\n",
    "        mx = (self.x + target.x)/2\n",
    "        my = (self.y + target.y)/2\n",
    "        return Point(mx, my)\n",
    "\n",
    "p = Point(3,4)\n",
    "q = Point(5,12)\n",
    "mid = p.halfway(q)\n",
    "# note that you would have exactly the same result if you instead wrote\n",
    "# mid = q.halfway(p)\n",
    "# because they are both Point objects, and the middle is the same no matter what\n",
    "\n",
    "print(mid)\n",
    "print(mid.getX())\n",
    "print(mid.getY())"
   ]
  },
  {
   "cell_type": "markdown",
   "metadata": {},
   "source": [
    "# Sorting Lists of Instances\n",
    "You previously learned how to sort lists. Sorting lists of instances of a class is not fundamentally different from sorting lists of objects of any other type. There is a way to define a default sort order for instances, right in the class definition, but it requires defining a bunch of methods or one complicated method, so we won’t bother with that. Instead, you should just provide a key function as a parameter to sorted (or sort).\n",
    "\n",
    "Previously, you have seen how to provide such a function when sorting lists of other kinds of objects. For example, given a list of strings, you can sort them in ascending order of their lengths by passing a key parameter. Note that if you refer to a function by name, you give the name of the function without parentheses after it, because you want the function object itself. The sorted function will take care of calling the function, passing the current item in the list. Thus, in the example below, we write key=len and not key=len().\n",
    "\n"
   ]
  },
  {
   "cell_type": "code",
   "execution_count": 19,
   "metadata": {},
   "outputs": [
    {
     "name": "stdout",
     "output_type": "stream",
     "text": [
      "['Apple', 'Cherry', 'Blueberry']\n",
      "['Apple', 'Cherry', 'Blueberry']\n"
     ]
    }
   ],
   "source": [
    "L = [\"Cherry\", \"Apple\", \"Blueberry\"]\n",
    "\n",
    "print(sorted(L, key=len))\n",
    "#alternative form using lambda, if you find that easier to understand\n",
    "print(sorted(L, key= lambda x: len(x)))"
   ]
  },
  {
   "cell_type": "markdown",
   "metadata": {},
   "source": [
    "When each of the items in a list is an instance of a class, you need to provide a function that takes one instance as an input, and returns a number. The instances will be sorted by their numbers."
   ]
  },
  {
   "cell_type": "code",
   "execution_count": 20,
   "metadata": {},
   "outputs": [
    {
     "name": "stdout",
     "output_type": "stream",
     "text": [
      "Apple\n",
      "Cherry\n",
      "Blueberry\n"
     ]
    }
   ],
   "source": [
    "class Fruit():\n",
    "    def __init__(self, name, price):\n",
    "        self.name = name\n",
    "        self.price = price\n",
    "\n",
    "L = [Fruit(\"Cherry\", 10), Fruit(\"Apple\", 5), Fruit(\"Blueberry\", 20)]\n",
    "for f in sorted(L, key=lambda x: x.price):\n",
    "    print(f.name)"
   ]
  },
  {
   "cell_type": "markdown",
   "metadata": {},
   "source": [
    "Sometimes you will find it convenient to define a method for the class that does some computation on the data in an instance. In this case, our class is too simple to really illustrate that. But to simulate it, I’ve defined a method sort_priority that just returns the price that’s stored in the instance. Now, that method, sort_priority takes one instance as input and returns a number. So it is exactly the kind of function we need to provide as the key parameter for sorted. Here it can get a little confusing: to refer to that method, without actually invoking it, you can refer to Fruit.sort_priority. This is analogous to the code above that referred to len rather than invoking len()."
   ]
  },
  {
   "cell_type": "code",
   "execution_count": 21,
   "metadata": {},
   "outputs": [
    {
     "name": "stdout",
     "output_type": "stream",
     "text": [
      "-----sorted by price, referencing a class method-----\n",
      "Apple\n",
      "Cherry\n",
      "Blueberry\n",
      "---- one more way to do the same thing-----\n",
      "Apple\n",
      "Cherry\n",
      "Blueberry\n"
     ]
    }
   ],
   "source": [
    "class Fruit():\n",
    "    def __init__(self, name, price):\n",
    "        self.name = name\n",
    "        self.price = price\n",
    "\n",
    "    def sort_priority(self):\n",
    "        return self.price\n",
    "\n",
    "L = [Fruit(\"Cherry\", 10), Fruit(\"Apple\", 5), Fruit(\"Blueberry\", 20)]\n",
    "print(\"-----sorted by price, referencing a class method-----\")\n",
    "for f in sorted(L, key=Fruit.sort_priority):\n",
    "    print(f.name)\n",
    "\n",
    "print(\"---- one more way to do the same thing-----\")\n",
    "for f in sorted(L, key=lambda x: x.sort_priority()):\n",
    "    print(f.name)\n"
   ]
  },
  {
   "cell_type": "markdown",
   "metadata": {},
   "source": [
    "# Class Variables and Instance Variables\n",
    "You have already seen that each instance of a class has its own namespace with its own instance variables. Two instances of the Point class each have their own instance variable x. Setting x in one instance doesn’t affect the other instance.\n",
    "\n",
    "A class can also have class variables. A class variable is set as part of the class definition.\n",
    "\n",
    "For example, consider the following version of the Point class. Here we have added a graph method that generates a string representing a little text-based graph with the Point plotted on the graph. It’s not a very pretty graph, in part because the y-axis is stretched like a rubber band, but you can get the idea from this.\n",
    "\n",
    "Note that there is an assignment to the variable printed_rep on line 4. It is not inside any method. That makes it a class variable. It is accessed in the same way as instance variables. For example, on line 16, there is a reference to self.printed_rep. If you change line 4, you have it print a different character at the x,y coordinates of the Point in the graph."
   ]
  },
  {
   "cell_type": "code",
   "execution_count": 22,
   "metadata": {},
   "outputs": [
    {
     "name": "stdout",
     "output_type": "stream",
     "text": [
      "4\n",
      "3 *\n",
      "2\n",
      "1\n",
      "01234\n",
      "\n",
      "3\n",
      "2  *\n",
      "1\n",
      "0\n",
      "9\n",
      "8\n",
      "7\n",
      "6\n",
      "5\n",
      "4\n",
      "3\n",
      "2\n",
      "1\n",
      "01234567890123\n"
     ]
    }
   ],
   "source": [
    "class Point:\n",
    "    \"\"\" Point class for representing and manipulating x,y coordinates. \"\"\"\n",
    "\n",
    "    printed_rep = \"*\"\n",
    "\n",
    "    def __init__(self, initX, initY):\n",
    "\n",
    "        self.x = initX\n",
    "        self.y = initY\n",
    "\n",
    "    def graph(self):\n",
    "        rows = []\n",
    "        size = max(int(self.x), int(self.y)) + 2\n",
    "        for j in range(size-1) :\n",
    "            if (j+1) == int(self.y):\n",
    "                special_row = str((j+1) % 10) + (\" \"*(int(self.x) -1)) + self.printed_rep\n",
    "                rows.append(special_row)\n",
    "            else:\n",
    "                rows.append(str((j+1) % 10))\n",
    "        rows.reverse()  # put higher values of y first\n",
    "        x_axis = \"\"\n",
    "        for i in range(size):\n",
    "            x_axis += str(i % 10)\n",
    "        rows.append(x_axis)\n",
    "\n",
    "        return \"\\n\".join(rows)\n",
    "\n",
    "\n",
    "p1 = Point(2, 3)\n",
    "p2 = Point(3, 12)\n",
    "print(p1.graph())\n",
    "print()\n",
    "print(p2.graph())"
   ]
  },
  {
   "cell_type": "markdown",
   "metadata": {},
   "source": [
    "# A Tamagotchi Game\n",
    "There are also a lot of interesting ways to put user-defined classes to use that don’t involve data from the internet. Let’s pull all these mechanics together in a slightly more interesting way than we got with the Point class. Remember Tamagotchis, the little electronic pets? As time passed, they would get hungry or bored. You had to clean up after them or they would get sick. And you did it all with a few buttons on the device.\n",
    "\n",
    "We are going to make a simplified, text-based version of that. In your problem set and in the chapter on Inheritance <chap_inheritance> we will extend this further.\n",
    "\n",
    "First, let’s start with a class Pet. Each instance of the class will be one electronic pet for the user to take care of. Each instance will have a current state, consisting of three instance variables:\n",
    "hunger, an integer\n",
    "\n",
    "boredom, an integer\n",
    "\n",
    "sounds, a list of strings, each a word that the pet has been taught to say\n",
    "\n",
    "In the __init__ method, hunger and boredom are initialized to random values between 0 and the threshold for being hungry or bored. The sounds instance variable is initialized to be a copy of the class variable with the same name. The reason we make a copy of the list is that we will perform destructive operations (appending new sounds to the list). If we didn’t make a copy, then those destructive operations would affect the list that the class variable points to, and thus teaching a sound to any of the pets would teach it to all instances of the class!\n",
    "\n",
    "There is a clock_tick method which just increments the boredom and hunger instance variables, simulating the idea that as time passes, the pet gets more bored and hungry.\n",
    "\n",
    "The __str__ method produces a string representation of the pet’s current state, notably whether it is bored or hungry or whether it is happy. It’s bored if the boredom instance variable is larger than the threshold, which is set as a class variable.\n",
    "\n",
    "To relieve boredom, the pet owner can either teach the pet a new word, using the teach() method, or interact with the pet, using the hi() method. In response to teach(), the pet adds the new word to its list of words. In response to the hi() method, it prints out one of the words it knows, randomly picking one from its list of known words. Both hi() and teach() cause an invocation of the reduce_boredom() method. It decrements the boredom state by an amount that it reads from the class variable boredom_decrement. The boredom state can never go below 0.\n",
    "\n",
    "To relieve hunger, we call the feed() method."
   ]
  },
  {
   "cell_type": "code",
   "execution_count": 23,
   "metadata": {},
   "outputs": [],
   "source": [
    "from random import randrange\n",
    "\n",
    "class Pet():\n",
    "    boredom_decrement = 4\n",
    "    hunger_decrement = 6\n",
    "    boredom_threshold = 5\n",
    "    hunger_threshold = 10\n",
    "    sounds = ['Mrrp']\n",
    "    def __init__(self, name = \"Kitty\"):\n",
    "        self.name = name\n",
    "        self.hunger = randrange(self.hunger_threshold)\n",
    "        self.boredom = randrange(self.boredom_threshold)\n",
    "        self.sounds = self.sounds[:]  # copy the class attribute, so that when we make changes to it, we won't affect the other Pets in the class\n",
    "\n",
    "    def clock_tick(self):\n",
    "        self.boredom += 1\n",
    "        self.hunger += 1\n",
    "\n",
    "    def mood(self):\n",
    "        if self.hunger <= self.hunger_threshold and self.boredom <= self.boredom_threshold:\n",
    "            return \"happy\"\n",
    "        elif self.hunger > self.hunger_threshold:\n",
    "            return \"hungry\"\n",
    "        else:\n",
    "            return \"bored\"\n",
    "\n",
    "    def __str__(self):\n",
    "        state = \"     I'm \" + self.name + \". \"\n",
    "        state += \" I feel \" + self.mood() + \". \"\n",
    "        # state += \"Hunger {} Boredom {} Words {}\".format(self.hunger, self.boredom, self.sounds)\n",
    "        return state\n",
    "\n",
    "    def hi(self):\n",
    "        print(self.sounds[randrange(len(self.sounds))])\n",
    "        self.reduce_boredom()\n",
    "\n",
    "    def teach(self, word):\n",
    "        self.sounds.append(word)\n",
    "        self.reduce_boredom()\n",
    "\n",
    "    def feed(self):\n",
    "        self.reduce_hunger()\n",
    "\n",
    "    def reduce_hunger(self):\n",
    "        self.hunger = max(0, self.hunger - self.hunger_decrement)\n",
    "\n",
    "    def reduce_boredom(self):\n",
    "        self.boredom = max(0, self.boredom - self.boredom_decrement)\n"
   ]
  },
  {
   "cell_type": "code",
   "execution_count": 24,
   "metadata": {},
   "outputs": [
    {
     "name": "stdout",
     "output_type": "stream",
     "text": [
      "     I'm Fido.  I feel happy. \n",
      "     I'm Fido.  I feel happy. \n",
      "     I'm Fido.  I feel happy. \n",
      "     I'm Fido.  I feel happy. \n",
      "     I'm Fido.  I feel happy. \n",
      "     I'm Fido.  I feel happy. \n",
      "     I'm Fido.  I feel bored. \n",
      "     I'm Fido.  I feel bored. \n",
      "     I'm Fido.  I feel bored. \n",
      "     I'm Fido.  I feel bored. \n",
      "     I'm Fido.  I feel bored. \n",
      "Mrrp\n",
      "Boo\n",
      "Mrrp\n",
      "Boo\n",
      "Boo\n",
      "Boo\n",
      "Boo\n",
      "Boo\n",
      "Mrrp\n",
      "Mrrp\n",
      "Mrrp\n",
      "     I'm Fido.  I feel happy. \n"
     ]
    }
   ],
   "source": [
    "# Let’s try making a pet and playing with it a little. Add some of your own commands, too, and keep printing p1 to see what the effects are. If you want to directly inspect the state, try printing p1.boredom or p1.hunger.\n",
    "p1 = Pet(\"Fido\")\n",
    "print(p1)\n",
    "for i in range(10):\n",
    "    p1.clock_tick()\n",
    "    print(p1)\n",
    "p1.feed()\n",
    "p1.hi()\n",
    "p1.teach(\"Boo\")\n",
    "for i in range(10):\n",
    "    p1.hi()\n",
    "print(p1)"
   ]
  },
  {
   "cell_type": "markdown",
   "metadata": {},
   "source": [
    "That’s all great if you want to interact with the pet by writing python code. Let’s make a game that non-programmers can play.\n",
    "\n",
    "We will use the Listener Loop <chap_listener> pattern. At each iteration, we will display a text prompt reminding the user of what commands are available.\n",
    "\n",
    "The user will have a list of pets, each with a name. The user can issue a command to adopt a new pet, which will create a new instance of Pet. Or the user can interact with an existing pet, with a Greet, Teach, or Feed command.\n",
    "\n",
    "No matter what the user does, with each command entered, the clock ticks for all their pets. Watch out, if you have too many pets, you won’t be able to keep them all satisfied!"
   ]
  },
  {
   "cell_type": "code",
   "execution_count": null,
   "metadata": {},
   "outputs": [],
   "source": [
    "import sys\n",
    "sys.setExecutionLimit(60000)\n",
    "\n",
    "def whichone(petlist, name):\n",
    "    for pet in petlist:\n",
    "        if pet.name == name:\n",
    "            return pet\n",
    "    return None # no pet matched\n",
    "\n",
    "def play():\n",
    "    animals = []\n",
    "\n",
    "    option = \"\"\n",
    "    base_prompt = \"\"\"\n",
    "        Quit\n",
    "        Adopt <petname_with_no_spaces_please>\n",
    "        Greet <petname>\n",
    "        Teach <petname> <word>\n",
    "        Feed <petname>\n",
    "\n",
    "        Choice: \"\"\"\n",
    "    feedback = \"\"\n",
    "    while True:\n",
    "        action = input(feedback + \"\\n\" + base_prompt)\n",
    "        feedback = \"\"\n",
    "        words = action.split()\n",
    "        if len(words) > 0:\n",
    "            command = words[0]\n",
    "        else:\n",
    "            command = None\n",
    "        if command == \"Quit\":\n",
    "            print(\"Exiting...\")\n",
    "            return\n",
    "        elif command == \"Adopt\" and len(words) > 1:\n",
    "            if whichone(animals, words[1]):\n",
    "                feedback += \"You already have a pet with that name\\n\"\n",
    "            else:\n",
    "                animals.append(Pet(words[1]))\n",
    "        elif command == \"Greet\" and len(words) > 1:\n",
    "            pet = whichone(animals, words[1])\n",
    "            if not pet:\n",
    "                feedback += \"I didn't recognize that pet name. Please try again.\\n\"\n",
    "                print()\n",
    "            else:\n",
    "                pet.hi()\n",
    "        elif command == \"Teach\" and len(words) > 2:\n",
    "            pet = whichone(animals, words[1])\n",
    "            if not pet:\n",
    "                feedback += \"I didn't recognize that pet name. Please try again.\"\n",
    "            else:\n",
    "                pet.teach(words[2])\n",
    "        elif command == \"Feed\" and len(words) > 1:\n",
    "            pet = whichone(animals, words[1])\n",
    "            if not pet:\n",
    "                feedback += \"I didn't recognize that pet name. Please try again.\"\n",
    "            else:\n",
    "                pet.feed()\n",
    "        else:\n",
    "            feedback+= \"I didn't understand that. Please try again.\"\n",
    "\n",
    "        for pet in animals:\n",
    "            pet.clock_tick()\n",
    "            feedback += \"\\n\" + pet.__str__()\n",
    "\n",
    "\n",
    "\n",
    "play()"
   ]
  }
 ],
 "metadata": {
  "kernelspec": {
   "display_name": "Python 3",
   "language": "python",
   "name": "python3"
  },
  "language_info": {
   "codemirror_mode": {
    "name": "ipython",
    "version": 3
   },
   "file_extension": ".py",
   "mimetype": "text/x-python",
   "name": "python",
   "nbconvert_exporter": "python",
   "pygments_lexer": "ipython3",
   "version": "3.7.6"
  }
 },
 "nbformat": 4,
 "nbformat_minor": 4
}
