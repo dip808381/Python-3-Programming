{
 "cells": [
  {
   "cell_type": "markdown",
   "metadata": {},
   "source": [
    "# Introduction\n",
    "Computers are often used to automate repetitive tasks. Repeating identical or similar tasks without making errors is something that computers do well and people do poorly.\n",
    "\n",
    "Repeated execution of a sequence of statements is called iteration. Because iteration is so common, Python provides several language features to make it easier. We’ve already seen the for statement in a previous chapter. This is a very common form of iteration in Python. In this chapter we are going to look at the while statement — another way to have your program do iteration."
   ]
  },
  {
   "cell_type": "markdown",
   "metadata": {},
   "source": [
    "# The while Statement\n",
    "\n",
    "There is another Python statement that can also be used to build an iteration. It is called the while statement. The while statement provides a much more general mechanism for iterating. Similar to the if statement, it uses a boolean expression to control the flow of execution. The body of while will be repeated as long as the controlling boolean expression evaluates to True.\n",
    "\n",
    "The following two figures show the flow of control. The first focuses on the flow inside the while loop and the second shows the while loop in context.\n",
    "\n",
    "a diamond at the top has the phrase \"Is the condition True?\". Two arrows come out it with either the phrase yes or no on the arrows. The yes arrow points to a box that says \"evaluate the statemenets in the body of the loop\". It then has an arrow that unconditionally points back to \"Is the condition True?\" diamond. The no arrow escapes the loop and points down past the \"evaluate\" square.image showing a rectangle with \"code block\" written on it on top. Then, text that read \"while {condition}\": followed by an indented block with \"run if {condition} is True\" written on it. An arrow points from the bottom of the indented block to the top of the while loop and says \"run loop again\". At the bottom of the image is an unindented block that says the phrase \"code block.\"\n",
    "We can use the while loop to create any type of iteration we wish, including anything that we have previously done with a for loop. For example, the program in the previous section could be rewritten using while. Instead of relying on the range function to produce the numbers for our summation, we will need to produce them ourselves. To do this, we will create a variable called aNumber and initialize it to 1, the first number in the summation. Every iteration will add aNumber to the running total until all the values have been used. In order to control the iteration, we must create a boolean expression that evaluates to True as long as we want to keep adding values to our running total. In this case, as long as aNumber is less than or equal to the bound, we should keep going."
   ]
  },
  {
   "cell_type": "code",
   "execution_count": 1,
   "metadata": {},
   "outputs": [
    {
     "name": "stdout",
     "output_type": "stream",
     "text": [
      "10\n",
      "500500\n"
     ]
    }
   ],
   "source": [
    "# Here is a new version of the summation program that uses a while statement.\n",
    "def sumTo(aBound):\n",
    "    \"\"\" Return the sum of 1+2+3 ... n \"\"\"\n",
    "\n",
    "    theSum  = 0\n",
    "    aNumber = 1\n",
    "    while aNumber <= aBound:\n",
    "        theSum = theSum + aNumber\n",
    "        aNumber = aNumber + 1\n",
    "    return theSum\n",
    "\n",
    "print(sumTo(4))\n",
    "\n",
    "print(sumTo(1000))"
   ]
  },
  {
   "cell_type": "code",
   "execution_count": null,
   "metadata": {},
   "outputs": [],
   "source": [
    "# The following code contains an infinite loop. Which is the best explanation for why the loop does not terminate?\n",
    "\n",
    "n = 10\n",
    "answer = 1\n",
    "while ( n > 0 ):\n",
    "    answer = answer + n\n",
    "    n = n + 1\n",
    "print(answer)"
   ]
  },
  {
   "cell_type": "code",
   "execution_count": 2,
   "metadata": {},
   "outputs": [
    {
     "name": "stdout",
     "output_type": "stream",
     "text": [
      "[0, 2, 4, 6, 8, 10, 12, 14]\n"
     ]
    }
   ],
   "source": [
    "# Write a while loop that is initialized at 0 and stops at 15. If the counter is an even number, append the counter to a list called eve_nums.\n",
    "num = 0\n",
    "eve_nums = []\n",
    "while num < 15:\n",
    "    if num % 2 == 0:\n",
    "        eve_nums.append(num)\n",
    "    num = num + 1\n",
    "    \n",
    "print(eve_nums)"
   ]
  },
  {
   "cell_type": "code",
   "execution_count": 5,
   "metadata": {},
   "outputs": [
    {
     "name": "stdout",
     "output_type": "stream",
     "text": [
      "7 42\n",
      "42\n"
     ]
    }
   ],
   "source": [
    "# Below, we’ve provided a for loop that sums all the elements of list1. Write code that accomplishes the same task, but instead uses a while loop. Assign the accumulator variable to the name accum.\n",
    "list1 = [8, 3, 4, 5, 6, 7, 9]\n",
    "tot = 0\n",
    "for elem in list1:\n",
    "    tot = tot + elem\n",
    "idx = 0\n",
    "accum = 0\n",
    "while idx < len(list1):\n",
    "    accum += list1[idx]\n",
    "    idx += 1\n",
    "print(idx, accum)\n",
    "print(tot)"
   ]
  },
  {
   "cell_type": "code",
   "execution_count": 6,
   "metadata": {},
   "outputs": [
    {
     "name": "stdout",
     "output_type": "stream",
     "text": [
      "[0, 9, 4.5, 1, 7]\n"
     ]
    }
   ],
   "source": [
    "# Write a function called stop_at_four that iterates through a list of numbers. Using a while loop, append each number to a new list until the number 4 appears. The function should return the new list.\n",
    "def stop_at_four(list_):  \n",
    "    accum_lst=[]\n",
    "    accum_var=0\n",
    "    while list_[accum_var] !=4:\n",
    "        accum_lst.append(list_[accum_var])\n",
    "        accum_var+=1\n",
    "    return accum_lst\n",
    "list_=[0, 9, 4.5, 1, 7, 4, 8, 9, 3]\n",
    "print(stop_at_four(list_))"
   ]
  },
  {
   "cell_type": "markdown",
   "metadata": {},
   "source": [
    "# The Listener Loop\n",
    "At the end of the previous section, we advised using a for loop whenever it will be known at the beginning of the iteration process how many times the block of code needs to be executed. Usually, in python, you will use a for loop rather than a while loop. When is it not known at the beginning of the iteration how many times the code block needs to be executed? The answer is, when it depends on something that happens during the execution.\n",
    "\n",
    "One very common pattern is called a listener loop. Inside the while loop there is a function call to get user input. The loop repeats indefinitely, until a particular input is received."
   ]
  },
  {
   "cell_type": "code",
   "execution_count": 7,
   "metadata": {},
   "outputs": [
    {
     "name": "stdout",
     "output_type": "stream",
     "text": [
      "next number to add up (enter 0 if no more numbers): 5\n",
      "next number to add up (enter 0 if no more numbers): 6\n",
      "next number to add up (enter 0 if no more numbers): 2\n",
      "next number to add up (enter 0 if no more numbers): 0\n",
      "13\n"
     ]
    }
   ],
   "source": [
    "theSum = 0\n",
    "x = -1\n",
    "while (x != 0):\n",
    "    x = int(input(\"next number to add up (enter 0 if no more numbers): \"))\n",
    "    theSum = theSum + x\n",
    "\n",
    "print(theSum)"
   ]
  },
  {
   "cell_type": "markdown",
   "metadata": {},
   "source": [
    "# Sentinel Values\n",
    "Indefinite loops are much more common in the real world than definite loops.\n",
    "\n",
    "If you are selling tickets to an event, you don’t know in advance how many tickets you will sell. You keep selling tickets as long as people come to the door and there’s room in the hall.\n",
    "\n",
    "When the baggage crew unloads a plane, they don’t know in advance how many suitcases there are. They just keep unloading while there are bags left in the cargo hold. (Why your suitcase is always the last one is an entirely different problem.)\n",
    "\n",
    "When you go through the checkout line at the grocery, the clerks don’t know in advance how many items there are. They just keep ringing up items as long as there are more on the conveyor belt.\n",
    "\n",
    "Let’s implement the last of these in Python, by asking the user for prices and keeping a running total and count of items. When the last item is entered, the program gives the grand total, number of items, and average price. We’ll need these variables:\n",
    "\n",
    "total - this will start at zero\n",
    "\n",
    "count - the number of items, which also starts at zero\n",
    "\n",
    "moreItems - a boolean that tells us whether more items are waiting; this starts as True\n",
    "\n",
    "The pseudocode (code written half in English, half in Python) for the body of the loop looks something like this:\n",
    "\n",
    "while moreItems\n",
    "\n",
    "    ask for price\n",
    "    \n",
    "    add price to total\n",
    "    \n",
    "    add one to count\n",
    "    \n",
    "This pseudocode has no option to set moreItems to False, so it would run forever. In a grocery store, there’s a little plastic bar that you put after your last item to separate your groceries from those of the person behind you; that’s how the clerk knows you have no more items. We don’t have a “little plastic bar” data type in Python, so we’ll do the next best thing: we will use a price of zero to mean “this is my last item.” In this program, zero is a sentinel value, a value used to signal the end of the loop. Here’s the code:\n",
    "\n"
   ]
  },
  {
   "cell_type": "code",
   "execution_count": 8,
   "metadata": {},
   "outputs": [
    {
     "name": "stdout",
     "output_type": "stream",
     "text": [
      "Enter price of item (0 when done): 5\n",
      "Subtotal: $ 5.0\n",
      "Enter price of item (0 when done): 58\n",
      "Subtotal: $ 63.0\n",
      "Enter price of item (0 when done): 0\n",
      "Total items: 2\n",
      "Total $ 63.0\n",
      "Average price per item: $ 31.5\n"
     ]
    }
   ],
   "source": [
    "def checkout():\n",
    "    total = 0\n",
    "    count = 0\n",
    "    moreItems = True\n",
    "    while moreItems:\n",
    "        price = float(input('Enter price of item (0 when done): '))\n",
    "        if price != 0:\n",
    "            count = count + 1\n",
    "            total = total + price\n",
    "            print('Subtotal: $', total)\n",
    "        else:\n",
    "            moreItems = False\n",
    "    average = total / count\n",
    "    print('Total items:', count)\n",
    "    print('Total $', total)\n",
    "    print('Average price per item: $', average)\n",
    "\n",
    "checkout()"
   ]
  },
  {
   "cell_type": "markdown",
   "metadata": {},
   "source": [
    "# Validating Input\n",
    "You can also use a while loop when you want to validate input; when you want to make sure the user has entered valid input for a prompt. Let’s say you want a function that asks a yes-or-no question. In this case, you want to make sure that the person using your program enters either a Y for yes or N for no (in either upper or lower case). Here is a program that uses a while loop to keep asking until it receives a valid answer. As a preview of coming attractions, it uses the upper() method which is described in String Methods to convert a string to upper case. When you run the following code, try typing something other than Y or N to see how the code reacts:"
   ]
  },
  {
   "cell_type": "code",
   "execution_count": 9,
   "metadata": {},
   "outputs": [
    {
     "name": "stdout",
     "output_type": "stream",
     "text": [
      "Do you like lima beans? Y)es or N)o: 4\n",
      "Please enter Y for yes or N for no.\n",
      "Do you like lima beans? Y)es or N)o: 5\n",
      "Please enter Y for yes or N for no.\n",
      "Do you like lima beans? Y)es or N)o: 8\n",
      "Please enter Y for yes or N for no.\n",
      "Do you like lima beans? Y)es or N)o: 0\n",
      "Please enter Y for yes or N for no.\n",
      "Do you like lima beans? Y)es or N)o: N\n",
      "Too bad. If cooked right, they are quite tasty.\n"
     ]
    }
   ],
   "source": [
    "def get_yes_or_no(message):\n",
    "    valid_input = False\n",
    "    while not valid_input:\n",
    "        answer = input(message)\n",
    "        answer = answer.upper() # convert to upper case\n",
    "        if answer == 'Y' or answer == 'N':\n",
    "            valid_input = True\n",
    "        else:\n",
    "            print('Please enter Y for yes or N for no.')\n",
    "    return answer\n",
    "\n",
    "response = get_yes_or_no('Do you like lima beans? Y)es or N)o: ')\n",
    "if response == 'Y':\n",
    "    print('Great! They are very healthy.')\n",
    "else:\n",
    "    print('Too bad. If cooked right, they are quite tasty.')\n"
   ]
  },
  {
   "cell_type": "markdown",
   "metadata": {},
   "source": [
    "# Randomly Walking Turtles\n",
    "Suppose we want to entertain ourselves by watching a turtle wander around randomly inside the screen. When we run the program we want the turtle and program to behave in the following way:\n",
    "\n",
    "The turtle begins in the center of the screen.\n",
    "\n",
    "Flip a coin. If it’s heads then turn to the left 90 degrees. If it’s tails then turn to the right 90 degrees.\n",
    "\n",
    "Take 50 steps forward.\n",
    "\n",
    "If the turtle has moved outside the screen then stop, otherwise go back to step 2 and repeat.\n",
    "\n",
    "Notice that we cannot predict how many times the turtle will need to flip the coin before it wanders out of the screen, so we can’t use a for loop in this case. In fact, although very unlikely, this program might never end, that is why we call this indefinite iteration.\n",
    "\n",
    "So based on the problem description above, we can outline a program as follows:"
   ]
  },
  {
   "cell_type": "code",
   "execution_count": null,
   "metadata": {},
   "outputs": [],
   "source": [
    "create a window and a turtle\n",
    "\n",
    "while the turtle is still in the window:\n",
    "    generate a random number between 0 and 1\n",
    "    if the number == 0 (heads):\n",
    "        turn left\n",
    "    else:\n",
    "        turn right\n",
    "    move the turtle forward 50"
   ]
  },
  {
   "cell_type": "markdown",
   "metadata": {},
   "source": [
    "Now, probably the only thing that seems a bit confusing to you is the part about whether or not the turtle is still in the screen. But this is the nice thing about programming, we can delay the tough stuff and get something in our program working right away. The way we are going to do this is to delegate the work of deciding whether the turtle is still in the screen or not to a boolean function. Let’s call this boolean function isInScreen We can write a very simple version of this boolean function by having it always return True, or by having it decide randomly, the point is to have it do something simple so that we can focus on the parts we already know how to do well and get them working. Since having it always return True would not be a good idea we will write our version to decide randomly. Let’s say that there is a 90% chance the turtle is still in the window and 10% that the turtle has escaped."
   ]
  },
  {
   "cell_type": "code",
   "execution_count": null,
   "metadata": {},
   "outputs": [],
   "source": [
    "import random\n",
    "import turtle\n",
    "\n",
    "\n",
    "def isInScreen(w, t):\n",
    "    if random.random() > 0.1:\n",
    "        return True\n",
    "    else:\n",
    "        return False\n",
    "\n",
    "\n",
    "t = turtle.Turtle()\n",
    "wn = turtle.Screen()\n",
    "\n",
    "t.shape('turtle')\n",
    "while isInScreen(wn, t):\n",
    "    coin = random.randrange(0, 2)\n",
    "    if coin == 0:              # heads\n",
    "        t.left(90)\n",
    "    else:                      # tails\n",
    "        t.right(90)\n",
    "\n",
    "    t.forward(50)\n",
    "\n",
    "wn.exitonclick()"
   ]
  },
  {
   "cell_type": "code",
   "execution_count": null,
   "metadata": {},
   "outputs": [],
   "source": [
    "def isInScreen(wn,t):\n",
    "    leftBound = -(wn.window_width() / 2)\n",
    "    rightBound = wn.window_width() / 2\n",
    "    topBound = wn.window_height() / 2\n",
    "    bottomBound = -(wn.window_height() / 2)\n",
    "\n",
    "    turtleX = t.xcor()\n",
    "    turtleY = t.ycor()\n",
    "\n",
    "    stillIn = True\n",
    "    if turtleX > rightBound or turtleX < leftBound:\n",
    "        stillIn = False\n",
    "    if turtleY > topBound or turtleY < bottomBound:\n",
    "        stillIn = False\n",
    "\n",
    "    return stillIn"
   ]
  },
  {
   "cell_type": "markdown",
   "metadata": {},
   "source": [
    "There are lots of ways that the conditional could be written. In this case we have given stillIn the default value of True and use two if statements to possibly set the value to False. You could rewrite this to use nested conditionals or elif statements and set stillIn to True in an else clause.\n",
    "\n",
    "Here is the full version of our random walk program.\n",
    "\n"
   ]
  },
  {
   "cell_type": "code",
   "execution_count": 10,
   "metadata": {},
   "outputs": [],
   "source": [
    "import random\n",
    "import turtle\n",
    "\n",
    "def isInScreen(w,t):\n",
    "    leftBound = - w.window_width() / 2\n",
    "    rightBound = w.window_width() / 2\n",
    "    topBound = w.window_height() / 2\n",
    "    bottomBound = -w.window_height() / 2\n",
    "\n",
    "    turtleX = t.xcor()\n",
    "    turtleY = t.ycor()\n",
    "\n",
    "    stillIn = True\n",
    "    if turtleX > rightBound or turtleX < leftBound:\n",
    "        stillIn = False\n",
    "    if turtleY > topBound or turtleY < bottomBound:\n",
    "        stillIn = False\n",
    "\n",
    "    return stillIn\n",
    "\n",
    "t = turtle.Turtle()\n",
    "wn = turtle.Screen()\n",
    "\n",
    "t.shape('turtle')\n",
    "while isInScreen(wn,t):\n",
    "    coin = random.randrange(0, 2)\n",
    "    if coin == 0:\n",
    "        t.left(90)\n",
    "    else:\n",
    "        t.right(90)\n",
    "\n",
    "    t.forward(50)\n",
    "\n",
    "wn.exitonclick()\n"
   ]
  },
  {
   "cell_type": "markdown",
   "metadata": {},
   "source": [
    "# Break and Continue\n",
    "Python provides ways for us to control the flow of iteration with a two keywords: break and continue.\n",
    "\n",
    "break allows the program to immediately ‘break out’ of the loop, regardless of the loop’s conditional structure. This means that the program will then skip the rest of the iteration, without rechecking the condition, and just goes on to the next outdented code that exists after the whole while loop.\n",
    "\n"
   ]
  },
  {
   "cell_type": "code",
   "execution_count": 11,
   "metadata": {},
   "outputs": [
    {
     "name": "stdout",
     "output_type": "stream",
     "text": [
      "this phrase will always print\n",
      "We are done with the while loop.\n"
     ]
    }
   ],
   "source": [
    "while True:\n",
    "    print(\"this phrase will always print\")\n",
    "    break\n",
    "    print(\"Does this phrase print?\")\n",
    "\n",
    "print(\"We are done with the while loop.\")"
   ]
  },
  {
   "cell_type": "code",
   "execution_count": 17,
   "metadata": {},
   "outputs": [
    {
     "name": "stdout",
     "output_type": "stream",
     "text": [
      "Number2\n",
      "we are incrementing x\n",
      "we are incrementing x\n",
      "we are incrementing x\n",
      "we are incrementing x\n",
      "Done with our loop! X has the value: 15\n"
     ]
    }
   ],
   "source": [
    "x = int(input(\"Number\"))\n",
    "while x < 10:\n",
    "    print(\"we are incrementing x\")\n",
    "    if x % 2 == 0:\n",
    "        x += 3\n",
    "        continue\n",
    "    if x % 3 == 0:\n",
    "        x += 5\n",
    "    x += 1\n",
    "print(\"Done with our loop! X has the value: \" + str(x))"
   ]
  },
  {
   "cell_type": "markdown",
   "metadata": {},
   "source": [
    "# Infinite Loops\n",
    "Although the textbook has a time limit which prevents an active code window from running indefinitely, you’ll still have to wait a little while if your program has an ininite loop. If you accidentally make one outside of the textbook, you won’t have that same protection.\n",
    "\n",
    "So how can you recognize when you are in danger of making an infinite loop?\n",
    "\n",
    "First off, if the variable that you are using to determine if the while loop should continue is never reset inside the while loop, then your code will have an infinite loop. (Unless of course you use break to break out of the loop.)\n",
    "\n",
    "Additionally, if the while condition is while True: and there is no break, then that is another case of an infinite loop!"
   ]
  },
  {
   "cell_type": "code",
   "execution_count": null,
   "metadata": {},
   "outputs": [],
   "source": [
    "while True:\n",
    "    print(\"Will this stop?\")\n",
    "\n",
    "print(\"We have escaped.\")"
   ]
  },
  {
   "cell_type": "markdown",
   "metadata": {},
   "source": [
    "Another case where an infinite loop is likely to occur is when you have reassiged the value of the variable used in the while statement in a way that prevents the loop from completing. This is an example below (if it takes too long, try reloading the page and stepping through this example in codelens):"
   ]
  },
  {
   "cell_type": "code",
   "execution_count": 1,
   "metadata": {},
   "outputs": [
    {
     "name": "stdout",
     "output_type": "stream",
     "text": [
      "Bugs\n",
      "Bugs\n",
      "Bugs\n",
      "Bugs\n",
      "Bugs\n",
      "Bugs\n",
      "Bugs\n"
     ]
    }
   ],
   "source": [
    "b = 15\n",
    "\n",
    "while b < 60:\n",
    "    #b = 5\n",
    "    print(\"Bugs\")\n",
    "    b = b + 7"
   ]
  },
  {
   "cell_type": "markdown",
   "metadata": {},
   "source": [
    "# Advanced Functions"
   ]
  },
  {
   "cell_type": "markdown",
   "metadata": {},
   "source": [
    "# Introduction: Optional Parameters\n",
    "In the treatment of functions so far, each function definition specifies zero or more formal parameters and each function invocation provides exactly that many values. Sometimes it is convenient to have optional parameters that can be specified or omitted. When an optional parameter is omitted from a function invocation, the formal parameter is bound to a default value. When the optional parameter is included, then the formal parameter is bound to the value provided. Optional parameters are convenient when a function is almost always used in a simple way, but it’s nice to allow it to be used in a more complex way, with non-default values specified for the optional parameters.\n",
    "\n",
    "Consider, for example, the int function, which you have used previously. Its first parameter, which is required, specifies the object that you wish to convert to an integer. For example, if you call in on a string, int(\"100\"), the return value will be the integer 100.\n",
    "\n",
    "That’s the most common way programmers want to convert strings to integers. Sometimes, however, they are working with numbers in some other “base” rather than base 10. For example, in base 8, the rightmost digit is ones, the next digit to the left is 8s, and the one to the left of that is the 64s place (8**2).\n",
    "\n",
    "The int function provides an optional parameter for the base. When it is not specified, the number is converted to an integer assuming the original number was in base 10. We say that 10 is the default value. So int(\"100\") is the same as invoking int(\"100\", 10). We can override the default of 10 by supplying a different value."
   ]
  },
  {
   "cell_type": "code",
   "execution_count": 6,
   "metadata": {},
   "outputs": [
    {
     "name": "stdout",
     "output_type": "stream",
     "text": [
      "100\n",
      "100\n",
      "64\n"
     ]
    }
   ],
   "source": [
    "print(int(\"100\"))\n",
    "print(int(\"100\", 10))   # same thing, 10 is the default value for the base\n",
    "print(int(\"100\", 8))# now the base is 8, so the result is 1*64 = 64"
   ]
  },
  {
   "cell_type": "code",
   "execution_count": 8,
   "metadata": {},
   "outputs": [
    {
     "name": "stdout",
     "output_type": "stream",
     "text": [
      "x, y, z, are: 2, 3, 7\n",
      "x, y, z, are: 2, 5, 7\n",
      "x, y, z, are: 2, 5, 8\n"
     ]
    }
   ],
   "source": [
    "initial = 7\n",
    "def f(x, y =3, z=initial):\n",
    "    print(\"x, y, z, are: \" + str(x) + \", \" + str(y) + \", \" + str(z))\n",
    "\n",
    "f(2)\n",
    "f(2, 5)\n",
    "f(2, 5, 8)"
   ]
  },
  {
   "cell_type": "code",
   "execution_count": 9,
   "metadata": {},
   "outputs": [
    {
     "name": "stdout",
     "output_type": "stream",
     "text": [
      "[1]\n",
      "[1, 2]\n",
      "[1, 2, 3]\n",
      "['Hello', 4]\n",
      "['Hello', 5]\n"
     ]
    }
   ],
   "source": [
    "def f(a, L=[]):\n",
    "    L.append(a)\n",
    "    return L\n",
    "\n",
    "print(f(1))\n",
    "print(f(2))\n",
    "print(f(3))\n",
    "print(f(4, [\"Hello\"]))\n",
    "print(f(5, [\"Hello\"]))\n"
   ]
  },
  {
   "cell_type": "code",
   "execution_count": 10,
   "metadata": {},
   "outputs": [
    {
     "name": "stdout",
     "output_type": "stream",
     "text": [
      "0\n"
     ]
    }
   ],
   "source": [
    "#What will the following code print?\n",
    "\n",
    "def f(x = 0, y = 1):\n",
    "    return x * y\n",
    "\n",
    "print(f())"
   ]
  },
  {
   "cell_type": "code",
   "execution_count": 11,
   "metadata": {},
   "outputs": [
    {
     "name": "stdout",
     "output_type": "stream",
     "text": [
      "1\n"
     ]
    }
   ],
   "source": [
    "#What will the following code print?\n",
    "\n",
    "def f(x = 0, y = 1):\n",
    "    return x * y\n",
    "\n",
    "print(f(1))"
   ]
  },
  {
   "cell_type": "code",
   "execution_count": 14,
   "metadata": {},
   "outputs": [
    {
     "name": "stdout",
     "output_type": "stream",
     "text": [
      "12\n"
     ]
    }
   ],
   "source": [
    "# Write a function called str_mult that takes in a required string parameter and an optional integer parameter. The default value for the integer parameter should be 3. The function should return the string multiplied by the integer parameter.\n",
    "initial = 3\n",
    "def str_mult(a, b = 3):\n",
    "    return a * b\n",
    "print(str_mult(4))"
   ]
  },
  {
   "cell_type": "markdown",
   "metadata": {},
   "source": [
    "# Keyword Parameters\n",
    "In the previous section, on Optional Parameters you learned how to define default values for formal parameters, which made it optional to provide values for those parameters when invoking the functions.\n",
    "\n",
    "In this chapter, you’ll see one more way to invoke functions with optional parameters, with keyword-based parameter passing. This is particularly convenient when there are several optional parameters and you want to provide a value for one of the later parameters while not providing a value for the earlier ones.\n",
    "\n",
    "The online official python documentation includes a tutorial on optional parameters which covers the topic quite well. Please read the content there: Keyword arguments\n",
    "\n",
    "Don’t worry about the def cheeseshop(kind, *arguments, **keywords): example. You should be able to get by without understanding *parameters and **parameters in this course. But do make sure you understand the stuff above that.\n",
    "\n",
    "The basic idea of passing arguments by keyword is very simple. When invoking a function, inside the parentheses there are always 0 or more values, separated by commas. With keyword arguments, some of the values can be of the form paramname = <expr> instead of just <expr>. Note that when you have paramname = <expr> in a function definition, it is defining the default value for a parameter when no value is provided in the invocation; when you have paramname = <expr> in the invocation, it is supplying a value, overriding the default for that paramname."
   ]
  },
  {
   "cell_type": "code",
   "execution_count": 16,
   "metadata": {},
   "outputs": [
    {
     "name": "stdout",
     "output_type": "stream",
     "text": [
      "-- This parrot wouldn'tvoom\n",
      "if you put1000volts through it.\n",
      "-- Lovely plumage, theNorwegian Blue\n",
      "-- It's a stiff!\n",
      "-- This parrot wouldn'tvoom\n",
      "if you put1000volts through it.\n",
      "-- Lovely plumage, theNorwegian Blue\n",
      "-- It's a stiff!\n",
      "-- This parrot wouldn'tVOOOOOM\n",
      "if you put1000000volts through it.\n",
      "-- Lovely plumage, theNorwegian Blue\n",
      "-- It's a stiff!\n",
      "-- This parrot wouldn'tVOOOOOM\n",
      "if you put1000000volts through it.\n",
      "-- Lovely plumage, theNorwegian Blue\n",
      "-- It's a stiff!\n",
      "-- This parrot wouldn'tjump\n",
      "if you puta millionvolts through it.\n",
      "-- Lovely plumage, theNorwegian Blue\n",
      "-- It's bereft of life!\n",
      "-- This parrot wouldn'tvoom\n",
      "if you puta thousandvolts through it.\n",
      "-- Lovely plumage, theNorwegian Blue\n",
      "-- It's pushing up the daisies!\n"
     ]
    }
   ],
   "source": [
    "def parrot(voltage, state='a stiff', action='voom', type='Norwegian Blue'):\n",
    "    print(\"-- This parrot wouldn't\" + action,)\n",
    "    print(\"if you put\" + str(voltage) + \"volts through it.\")\n",
    "    print(\"-- Lovely plumage, the\" +  type)\n",
    "    print(\"-- It's \" + state + \"!\")\n",
    "\n",
    "parrot(1000)                                          # 1 positional argument\n",
    "parrot(voltage=1000)                                  # 1 keyword argument\n",
    "parrot(voltage=1000000, action='VOOOOOM')             # 2 keyword arguments\n",
    "parrot(action='VOOOOOM', voltage=1000000)             # 2 keyword arguments\n",
    "parrot('a million', 'bereft of life', 'jump')         # 3 positional arguments\n",
    "parrot('a thousand', state='pushing up the daisies')  # 1 positional, 1 keyword\n"
   ]
  },
  {
   "cell_type": "markdown",
   "metadata": {},
   "source": [
    "# Keyword Parameters with .format\n",
    "Earlier you learned how to use the format method for strings, which allows you to structure strings like fill-in-the-blank sentences. Now that you’ve learned about optional and keyword parameters, we can introduce a new way to use the format method.\n",
    "\n",
    "This other option is to specifically refer to keywords for interpolation values, like below.\n",
    "\n"
   ]
  },
  {
   "cell_type": "code",
   "execution_count": 17,
   "metadata": {},
   "outputs": [
    {
     "name": "stdout",
     "output_type": "stream",
     "text": [
      "The scores Jack got were: 67,89,91.\n",
      "The scores Emily got were: 72,95,42.\n",
      "The scores Taylor got were: 83,92,86.\n"
     ]
    }
   ],
   "source": [
    "names_scores = [(\"Jack\",[67,89,91]),(\"Emily\",[72,95,42]),(\"Taylor\",[83,92,86])]\n",
    "for name, scores in names_scores:\n",
    "    print(\"The scores {nm} got were: {s1},{s2},{s3}.\".format(nm=name,s1=scores[0],s2=scores[1],s3=scores[2]))\n"
   ]
  },
  {
   "cell_type": "markdown",
   "metadata": {},
   "source": [
    "Sometimes, you may want to use the .format method to insert the same value into a string multiple times. You can do this by simply passing the same string into the format method, assuming you have included {} s in the string everywhere you want to interpolate them. But you can also use positional passing references to do this! The order in which you pass arguments into the format method matters: the first one is argument 0, the second is argument 1, and so on.\n",
    "\n",
    "For example,"
   ]
  },
  {
   "cell_type": "code",
   "execution_count": 18,
   "metadata": {},
   "outputs": [
    {
     "name": "stdout",
     "output_type": "stream",
     "text": [
      "'Jack!' she yelled. 'Jack! Jack, say hello!'\n",
      "'Jill!' she yelled. 'Jill! Jill, say hello!'\n",
      "'Mary!' she yelled. 'Mary! Mary, say hello!'\n",
      "'Jack!' she yelled. 'Jack! Jack, say hello!'\n",
      "'Jill!' she yelled. 'Jill! Jill, say hello!'\n",
      "'Mary!' she yelled. 'Mary! Mary, say hello!'\n"
     ]
    }
   ],
   "source": [
    "# this works\n",
    "names = [\"Jack\",\"Jill\",\"Mary\"]\n",
    "for n in names:\n",
    "    print(\"'{}!' she yelled. '{}! {}, {}!'\".format(n,n,n,\"say hello\"))\n",
    "\n",
    "# but this also works!\n",
    "names = [\"Jack\",\"Jill\",\"Mary\"]\n",
    "for n in names:\n",
    "    print(\"'{0}!' she yelled. '{0}! {0}, {1}!'\".format(n,\"say hello\"))"
   ]
  },
  {
   "cell_type": "code",
   "execution_count": 19,
   "metadata": {},
   "outputs": [
    {
     "name": "stdout",
     "output_type": "stream",
     "text": [
      "x, y, z are: 2 5 7\n"
     ]
    }
   ],
   "source": [
    "# What value will be printed for z?\n",
    "\n",
    "initial = 7\n",
    "def f(x, y = 3, z = initial):\n",
    "    print(\"x, y, z are:\", x, y, z)\n",
    "\n",
    "f(2, 5)"
   ]
  },
  {
   "cell_type": "code",
   "execution_count": 20,
   "metadata": {},
   "outputs": [
    {
     "name": "stdout",
     "output_type": "stream",
     "text": [
      "x, y, z are: 2 3 10\n"
     ]
    }
   ],
   "source": [
    "# What value will be printed for y?\n",
    "\n",
    "initial = 7\n",
    "def f(x, y = 3, z = initial):\n",
    "    print(\"x, y, z are:\", x, y, z)\n",
    "\n",
    "f(2, z = 10)"
   ]
  },
  {
   "cell_type": "code",
   "execution_count": 21,
   "metadata": {},
   "outputs": [
    {
     "name": "stdout",
     "output_type": "stream",
     "text": [
      "x, y, z are: 2 3 7\n"
     ]
    }
   ],
   "source": [
    "# What value will be printed for z?\n",
    "\n",
    "initial = 7\n",
    "def f(x, y = 3, z = initial):\n",
    "    print (\"x, y, z are:\", x, y, z)\n",
    "initial = 0\n",
    "f(2)"
   ]
  },
  {
   "cell_type": "code",
   "execution_count": 22,
   "metadata": {},
   "outputs": [
    {
     "name": "stdout",
     "output_type": "stream",
     "text": [
      "'Catalina!' she yelled. 'Come here, Catalina! Alexey, Misuki, and Pablo are here!'\n"
     ]
    }
   ],
   "source": [
    "#  What value will be printed below?\n",
    "\n",
    "names = [\"Alexey\", \"Catalina\", \"Misuki\", \"Pablo\"]\n",
    "print(\"'{first}!' she yelled. 'Come here, {first}! {f_one}, {f_two}, and {f_three} are here!'\".format(first = names[1], f_one = names[0], f_two = names[2], f_three = names[3]))"
   ]
  },
  {
   "cell_type": "code",
   "execution_count": 24,
   "metadata": {},
   "outputs": [],
   "source": [
    "# Define a function called multiply. It should have one required parameter, a string. It should also have one optional parameter, an integer, named mult_int, with a default value of 10. The function should return the string multiplied by the integer. (i.e.: Given inputs “Hello”, mult_int=3, the function should return “HelloHelloHello”)\n",
    "def multiply(a, mult_int = 10):\n",
    "    return a * mult_int"
   ]
  },
  {
   "cell_type": "code",
   "execution_count": 29,
   "metadata": {},
   "outputs": [
    {
     "name": "stdout",
     "output_type": "stream",
     "text": [
      "Water type pokeman\n"
     ]
    }
   ],
   "source": [
    "# Currently the function is supposed to take 1 required parameter, and 2 optional parameters, however the code doesn’t work. Fix the code so that it passes the test. This should only require changing one line of code.\n",
    "def waste( mar, var = \"Water\", marble = \"type\"):\n",
    "    final_string = var + \" \" + marble + \" \" + mar\n",
    "    final_string = str(final_string)\n",
    "    return final_string\n",
    "print(waste(\"pokeman\"))"
   ]
  },
  {
   "cell_type": "markdown",
   "metadata": {},
   "source": [
    "# Anonymous functions with lambda expressions\n",
    "To further drive home the idea that we are passing a function object as a parameter to the sorted object, let’s see an alternative notation for creating a function, a lambda expression. The syntax of a lambda expression is the word “lambda” followed by parameter names, separated by commas but not inside (parentheses), followed by a colon and then an expression. lambda arguments: expression yields a function object. This unnamed object behaves just like the function object constructed below."
   ]
  },
  {
   "cell_type": "code",
   "execution_count": null,
   "metadata": {},
   "outputs": [],
   "source": [
    "def fname(arguments):\n",
    "    return expression\n",
    "lambda arguments: expression"
   ]
  },
  {
   "cell_type": "code",
   "execution_count": 30,
   "metadata": {},
   "outputs": [
    {
     "name": "stdout",
     "output_type": "stream",
     "text": [
      "<function f at 0x000002CAC8E94288>\n",
      "<class 'function'>\n",
      "2\n",
      "<function <lambda> at 0x000002CAC8EB31F8>\n",
      "<class 'function'>\n",
      "4\n"
     ]
    }
   ],
   "source": [
    "# Consider the following code\n",
    "def f(x):\n",
    "    return x - 1\n",
    "\n",
    "print(f)\n",
    "print(type(f))\n",
    "print(f(3))\n",
    "\n",
    "print(lambda x: x-2)\n",
    "print(type(lambda x: x-2))\n",
    "print((lambda x: x-2)(6))"
   ]
  },
  {
   "cell_type": "code",
   "execution_count": 31,
   "metadata": {},
   "outputs": [],
   "source": [
    "# Say we want to create a function that takes a string and returns the last character in that string. What might this look like with the functions you’ve used before?\n",
    "def last_char(s):\n",
    "    return s[-1]"
   ]
  },
  {
   "cell_type": "code",
   "execution_count": 33,
   "metadata": {},
   "outputs": [],
   "source": [
    "#To re-write this using lambda notation, we can do the following:\n",
    "last_char = (lambda s: s[-1])"
   ]
  },
  {
   "cell_type": "code",
   "execution_count": null,
   "metadata": {},
   "outputs": [],
   "source": []
  }
 ],
 "metadata": {
  "kernelspec": {
   "display_name": "Python 3",
   "language": "python",
   "name": "python3"
  },
  "language_info": {
   "codemirror_mode": {
    "name": "ipython",
    "version": 3
   },
   "file_extension": ".py",
   "mimetype": "text/x-python",
   "name": "python",
   "nbconvert_exporter": "python",
   "pygments_lexer": "ipython3",
   "version": "3.7.6"
  }
 },
 "nbformat": 4,
 "nbformat_minor": 4
}
