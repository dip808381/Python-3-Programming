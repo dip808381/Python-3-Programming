{
 "cells": [
  {
   "cell_type": "markdown",
   "metadata": {},
   "source": [
    "# Introduction to Functions\n",
    "\n",
    "In Python, a function is a chunk of code that performs some operation that is meaningful for a person to think about as a whole unit, for example calculating a student’s GPA in a learning system or responding to the jump action in a video game. Once a function has been defined and you are satisfied that it does what it is supposed to do, you will start thinking about it in terms of the larger operation that it performs rather than the specific lines of code that make it work."
   ]
  },
  {
   "cell_type": "markdown",
   "metadata": {},
   "source": [
    "# Function Definition\n",
    "The syntax for creating a named function, a function definition, is:\n",
    "\n",
    "def name( parameters ):\n",
    "\n",
    "    statements\n",
    "    \n",
    "You can make up any names you want for the functions you create, except that you can’t use a name that is a Python keyword, and the names must follow the rules for legal identifiers that were given previously. The parameters specify what information, if any, you have to provide in order to use the new function. Another way to say this is that the parameters specify what the function needs to do its work.\n",
    "\n",
    "There can be any number of statements inside the function, but they have to be indented from the def. In the examples in this book, we will use the standard indentation of four spaces. Function definitions are the third of several compound statements we will see, all of which have the same pattern:\n",
    "\n",
    "A header line which begins with a keyword and ends with a colon.\n",
    "\n",
    "A body consisting of one or more Python statements, each indented the same amount – 4 spaces is the Python standard – from the header line.\n",
    "\n",
    "We’ve already seen the for statement which has the same structure, with an indented block of code, and the if, elif, and else statements that do so as well.\n",
    "\n",
    "In a function definition, the keyword in the header is def, which is followed by the name of the function and some parameter names enclosed in parentheses. The parameter list may be empty, or it may contain any number of parameters separated from one another by commas. In either case, the parentheses are required.\n",
    "\n",
    "We will come back to the parameters in a little while, but first let’s see what happens when a function is executed, using a function without any parameters to illustrate.\n",
    "\n",
    "Here’s the definition of a simple function, hello."
   ]
  },
  {
   "cell_type": "code",
   "execution_count": 1,
   "metadata": {},
   "outputs": [
    {
     "name": "stdout",
     "output_type": "stream",
     "text": [
      "Hello\n",
      "Glad to meet you\n",
      "None\n"
     ]
    }
   ],
   "source": [
    "def hello():\n",
    "    \"\"\"This function says hello and greets you\"\"\"\n",
    "    print(\"Hello\")\n",
    "    print(\"Glad to meet you\")\n",
    "print(hello())"
   ]
  },
  {
   "cell_type": "code",
   "execution_count": null,
   "metadata": {},
   "outputs": [],
   "source": [
    "#We can apply functions to the turtle drawings we’ve done in the past as well.\n",
    "import turtle\n",
    "\n",
    "def drawSquare(t, sz):\n",
    "    \"\"\"Make turtle t draw a square of with side sz.\"\"\"\n",
    "\n",
    "    for i in range(4):\n",
    "        t.forward(sz)\n",
    "        t.left(90)\n",
    "\n",
    "\n",
    "wn = turtle.Screen()      # Set up the window and its attributes\n",
    "wn.bgcolor(\"lightgreen\")\n",
    "\n",
    "alex = turtle.Turtle()    # create alex\n",
    "drawSquare(alex, 50)      # Call the function to draw the square passing the actual turtle and the actual side size\n",
    "\n",
    "wn.exitonclick()\n"
   ]
  },
  {
   "cell_type": "code",
   "execution_count": 7,
   "metadata": {},
   "outputs": [
    {
     "name": "stdout",
     "output_type": "stream",
     "text": [
      "Hello\n",
      "Glad to meet you\n",
      "It works\n",
      "Hello\n",
      "Glad to meet you\n",
      "Hello\n",
      "Glad to meet you\n"
     ]
    }
   ],
   "source": [
    "#How many lines will be output by executing this code?\n",
    "\n",
    "def hello():\n",
    "    print(\"Hello\")\n",
    "    print(\"Glad to meet you\")\n",
    "\n",
    "hello()\n",
    "print(\"It works\")\n",
    "hello()\n",
    "hello()"
   ]
  },
  {
   "cell_type": "markdown",
   "metadata": {},
   "source": [
    "# Function Parameters\n",
    "Named functions are nice because, once they are defined and we understand what they do, we can refer to them by name and not think too much about what they do. With parameters, functions are even more powerful, because they can do pretty much the same thing on each invocation, but not exactly the same thing. The parameters can cause them to do something a little different."
   ]
  },
  {
   "cell_type": "code",
   "execution_count": 8,
   "metadata": {},
   "outputs": [
    {
     "name": "stdout",
     "output_type": "stream",
     "text": [
      "Hello Iman and Jackie\n",
      "Glad to meet you\n",
      "Hello Class Class Class \n",
      "Glad to meet you\n"
     ]
    }
   ],
   "source": [
    "#To get a feel for that, let’s invoke hello2 using some more complicated expressions. Try some of your own, too.\n",
    "def hello2(s):\n",
    "    print(\"Hello \" + s)\n",
    "    print(\"Glad to meet you\")\n",
    "\n",
    "hello2(\"Iman\" + \" and Jackie\")\n",
    "hello2(\"Class \" * 3)"
   ]
  },
  {
   "cell_type": "code",
   "execution_count": 9,
   "metadata": {},
   "outputs": [],
   "source": [
    "#What is the name of the following function?\n",
    "\n",
    "def print_many(x, y):\n",
    "    \"\"\"Print out string x, y times.\"\"\"\n",
    "    for i in range(y):\n",
    "        print(x)"
   ]
  },
  {
   "cell_type": "code",
   "execution_count": 11,
   "metadata": {},
   "outputs": [
    {
     "name": "stdout",
     "output_type": "stream",
     "text": [
      "Goodbye\n"
     ]
    }
   ],
   "source": [
    "#What output will the following code produce?\n",
    "\n",
    "def cyu(s1, s2):\n",
    "    if len(s1) > len(s2):\n",
    "        print(s1)\n",
    "    else:\n",
    "        print(s2)\n",
    "\n",
    "cyu(\"Hello\", \"Goodbye\")"
   ]
  },
  {
   "cell_type": "markdown",
   "metadata": {},
   "source": [
    "# Returning a value from a function\n"
   ]
  },
  {
   "cell_type": "code",
   "execution_count": 12,
   "metadata": {},
   "outputs": [
    {
     "name": "stdout",
     "output_type": "stream",
     "text": [
      "The result of 10 squared is 100.\n"
     ]
    }
   ],
   "source": [
    "def square(x):\n",
    "    y = x * x\n",
    "    return y\n",
    "\n",
    "toSquare = 10\n",
    "result = square(toSquare)\n",
    "print(\"The result of {} squared is {}.\".format(toSquare, result))"
   ]
  },
  {
   "cell_type": "code",
   "execution_count": 13,
   "metadata": {},
   "outputs": [
    {
     "name": "stdout",
     "output_type": "stream",
     "text": [
      "here\n",
      "5\n"
     ]
    }
   ],
   "source": [
    "def weird():\n",
    "    print(\"here\")\n",
    "    return 5\n",
    "    print(\"there\")\n",
    "    return 10\n",
    "\n",
    "x = weird()\n",
    "print(x)"
   ]
  },
  {
   "cell_type": "markdown",
   "metadata": {},
   "source": [
    "The fact that a return statement immediately ends execution of the code block inside a function is important to understand for writing complex programs, and it can also be very useful. The following example is a situation where you can use this to your advantage – and understanding this will help you understand other people’s code better, and be able to walk through code more confidently.\n",
    "\n",
    "Consider a situation where you want to write a function to find out, from a class attendance list, whether anyone’s first name is longer than five letters, called longer_than_five. If there is anyone in class whose first name is longer than 5 letters, the function should return True. Otherwise, it should return False.\n",
    "\n",
    "In this case, you’ll be using conditional statements in the code that exists in the function body, the code block indented underneath the function definition statement (just like the code that starts with the line print(\"here\") in the example above – that’s the body of the function weird, above).\n",
    "\n",
    "Bonus challenge for studying: After you look at the explanation below, stop looking at the code – just the description of the function above it, and try to write the code yourself! Then test it on different lists and make sure that it works. But read the explanation first, so you can be sure you have a solid grasp on these function mechanics.\n",
    "\n",
    "First, an English plan for this new function to define called longer_than_five:\n",
    "\n",
    "You’ll want to pass in a list of strings (representing people’s first names) to the function.\n",
    "\n",
    "You’ll want to iterate over all the items in the list, each of the strings.\n",
    "\n",
    "As soon as you get to one name that is longer than five letters, you know the function should return True – yes, there is at least one name longer than five letters!\n",
    "\n",
    "And if you go through the whole list and there was no name longer than five letters, then the function should return False.\n",
    "\n",
    "Now, the code:"
   ]
  },
  {
   "cell_type": "code",
   "execution_count": 14,
   "metadata": {},
   "outputs": [
    {
     "name": "stdout",
     "output_type": "stream",
     "text": [
      "False\n",
      "True\n"
     ]
    }
   ],
   "source": [
    "def longer_than_five(list_of_names):\n",
    "    for name in list_of_names: # iterate over the list to look at each name\n",
    "        if len(name) > 5: # as soon as you see a name longer than 5 letters,\n",
    "            return True # then return True!\n",
    "            # If Python executes that return statement, the function is over and the rest of the code will not run -- you already have your answer!\n",
    "    return False # You will only get to this line if you\n",
    "    # iterated over the whole list and did not get a name where\n",
    "    # the if expression evaluated to True, so at this point, it's correct to return False!\n",
    "\n",
    "# Here are a couple sample calls to the function with different lists of names. Try running this code in Codelens a few times and make sure you understand exactly what is happening.\n",
    "\n",
    "list1 = [\"Sam\",\"Tera\",\"Sal\",\"Amita\"]\n",
    "list2 = [\"Rey\",\"Ayo\",\"Lauren\",\"Natalie\"]\n",
    "\n",
    "print(longer_than_five(list1))\n",
    "print(longer_than_five(list2))\n"
   ]
  },
  {
   "cell_type": "code",
   "execution_count": 15,
   "metadata": {},
   "outputs": [
    {
     "name": "stdout",
     "output_type": "stream",
     "text": [
      "50\n"
     ]
    }
   ],
   "source": [
    "#What will the following code output?\n",
    "\n",
    "def square(x):\n",
    "    y = x * x\n",
    "    return y\n",
    "\n",
    "print(square(5) + square(5))"
   ]
  },
  {
   "cell_type": "code",
   "execution_count": 16,
   "metadata": {},
   "outputs": [
    {
     "name": "stdout",
     "output_type": "stream",
     "text": [
      "16\n"
     ]
    }
   ],
   "source": [
    "# What will the following code output?\n",
    "\n",
    "def square(x):\n",
    "    y = x * x\n",
    "    return y\n",
    "\n",
    "print(square(square(2)))"
   ]
  },
  {
   "cell_type": "code",
   "execution_count": 17,
   "metadata": {},
   "outputs": [
    {
     "name": "stdout",
     "output_type": "stream",
     "text": [
      "First one was longer\n"
     ]
    }
   ],
   "source": [
    "#What will the following code output?\n",
    "\n",
    "def cyu2(s1, s2):\n",
    "    x = len(s1)\n",
    "    y = len(s2)\n",
    "    return x-y\n",
    "\n",
    "z = cyu2(\"Yes\", \"no\")\n",
    "if z > 0:\n",
    "    print(\"First one was longer\")\n",
    "else:\n",
    "    print(\"Second one was at least as long\")"
   ]
  },
  {
   "cell_type": "code",
   "execution_count": 18,
   "metadata": {},
   "outputs": [
    {
     "name": "stdout",
     "output_type": "stream",
     "text": [
      "g\n",
      "square\n",
      "25\n"
     ]
    }
   ],
   "source": [
    "#Which will print out first, square, g, or a number?\n",
    "\n",
    "def square(x):\n",
    "    print(\"square\")\n",
    "    return x*x\n",
    "\n",
    "def g(y):\n",
    "    print(\"g\")\n",
    "    return y + 3\n",
    "\n",
    "print(square(g(2)))"
   ]
  },
  {
   "cell_type": "code",
   "execution_count": 19,
   "metadata": {},
   "outputs": [
    {
     "name": "stdout",
     "output_type": "stream",
     "text": [
      "10\n",
      "Next we'll accumulate the sum\n"
     ]
    },
    {
     "data": {
      "text/plain": [
       "9"
      ]
     },
     "execution_count": 19,
     "metadata": {},
     "output_type": "execute_result"
    }
   ],
   "source": [
    "#How many lines will the following code print?\n",
    "\n",
    "def show_me_numbers(list_of_ints):\n",
    "    print(10)\n",
    "    print(\"Next we'll accumulate the sum\")\n",
    "    accum = 0\n",
    "    for num in list_of_ints:\n",
    "        accum = accum + num\n",
    "    return accum\n",
    "    print(\"All done with accumulation!\")\n",
    "\n",
    "show_me_numbers([4,2,3])"
   ]
  },
  {
   "cell_type": "code",
   "execution_count": 20,
   "metadata": {},
   "outputs": [
    {
     "name": "stdout",
     "output_type": "stream",
     "text": [
      "hello\n"
     ]
    }
   ],
   "source": [
    "#Write a function named same that takes a string as input, and simply returns that string.\n",
    "def same(x):\n",
    "    return str(x)\n",
    "print(same('hello'))"
   ]
  },
  {
   "cell_type": "code",
   "execution_count": 21,
   "metadata": {},
   "outputs": [],
   "source": [
    "#Write a function called same_thing that returns the parameter, unchanged.\n",
    "def same_thing(x):\n",
    "    return x"
   ]
  },
  {
   "cell_type": "code",
   "execution_count": 22,
   "metadata": {},
   "outputs": [],
   "source": [
    "#Write a function called subtract_three that takes an integer or any number as input, and returns that number minus three.\n",
    "def subtract_three(x):\n",
    "    return x-3"
   ]
  },
  {
   "cell_type": "code",
   "execution_count": 23,
   "metadata": {},
   "outputs": [],
   "source": [
    "# Write a function called change that takes one number as its input and returns that number, plus 7.\n",
    "def change(x):\n",
    "    return x+7"
   ]
  },
  {
   "cell_type": "code",
   "execution_count": 24,
   "metadata": {},
   "outputs": [
    {
     "name": "stdout",
     "output_type": "stream",
     "text": [
      "Hello, my name is Becky and I love SI 106.\n"
     ]
    }
   ],
   "source": [
    "# Write a function named intro that takes a string as input. Given the string “Becky” as input, the function should return: “Hello, my name is Becky and I love SI 106.”\n",
    "def intro(x):\n",
    "    y = \"Hello, my name is {} and I love SI 106.\".format(x)\n",
    "    return y\n",
    "x = \"Becky\"\n",
    "\n",
    "print(intro(x))"
   ]
  },
  {
   "cell_type": "code",
   "execution_count": 25,
   "metadata": {},
   "outputs": [
    {
     "name": "stdout",
     "output_type": "stream",
     "text": [
      "We go to the beach for fun.\n"
     ]
    }
   ],
   "source": [
    "#Write a function called s_change that takes one string as input and returns that string, concatenated with the string ” for fun.”.\n",
    "def s_change(x):\n",
    "    y = x + \" for fun.\"\n",
    "    return y\n",
    "x = \"We go to the beach\"\n",
    "\n",
    "print(s_change(x))"
   ]
  },
  {
   "cell_type": "code",
   "execution_count": 26,
   "metadata": {},
   "outputs": [],
   "source": [
    "#Write a function called decision that takes a string as input, and then checks the number of characters. If it has over 17 characters, return “This is a long string”, if it is shorter or has 17 characters, return “This is a short string”.\n",
    "def decision(x):\n",
    "    if len(x) > 17:\n",
    "        return \"This is a long string\"\n",
    "    return \"This is a short string\"\n",
    "        #print(\"This is a short string\")"
   ]
  },
  {
   "cell_type": "markdown",
   "metadata": {},
   "source": [
    "# Decoding a Function\n",
    "In general, when you see a function definition you will try figure out what the function does, but, unless you are writing the function, you won’t care how it does it.\n",
    "\n",
    "For example, here is a summary of some functions we have seen already.\n",
    "\n",
    "input takes one parameter, a string. It is displayed to the user. Whatever the user types is returned, as a string.\n",
    "\n",
    "int takes one parameter. It can be of any type that can be converted into an integer, such as a floating point number or a string whose characters are all digits.\n",
    "\n",
    "Sometimes, you will be presented with a function definition whose operation is not so neatly summarized as above. Sometimes you will need to look at the code, either the function definition or code that invokes the function, in order to figure out what it does.\n",
    "\n",
    "To build your understanding of any function, you should aim to answer the following questions:\n",
    "\n",
    "How many parameters does it have?\n",
    "\n",
    "What is the type of values that will be passed when the function is invoked?\n",
    "\n",
    "What is the type of the return value that the function produces when it executes?\n",
    "\n",
    "If you try to make use of functions, ones you write or that others write, without being able to answer these questions, you will find that your debugging sessions are long and painful.\n",
    "\n",
    "The first question is always easy to answer. Look at the line with the function definition, look inside the parentheses, and count how many variable names there are.\n",
    "\n",
    "The second and third questions are not always so easy to answer. In Python, unlike some other programming languages, variables are not declared to have fixed types, and the same holds true for the variable names that appear as formal parameters of functions. You have to figure it out from context.\n",
    "\n",
    "To figure out the types of values that a function expects to receive as parameters, you can look at the function invocations or you can look at the operations that are performed on the parameters inside the function.\n",
    "\n",
    "Here are some clues that can help you determine the type of object associated with any variable, including a function parameter. If you see…\n",
    "\n",
    "len(x), then x must be a string or a list. (Actually, it can also be a dictionary, in which case it is equivalent to the expression len(x.keys()). Later in the course, we will also see some other sequence types that it could be). x can’t be a number or a Boolean.\n",
    "\n",
    "x - y, x and y must be numbers (integer or float)\n",
    "\n",
    "x + y, x and y must both be numbers, both be strings, or both be lists\n",
    "\n",
    "x[3], x must be a string or a list containing at least four items, or x must be a dictionary that includes 3 as a key.\n",
    "\n",
    "x['3'], x must be a dictionary, with ‘3’ as a key.\n",
    "\n",
    "x[y:z], x must be a sequence (string or list), and y and z must be integers\n",
    "\n",
    "x and y, x and y must be Boolean\n",
    "\n",
    "for x in y, y must be a sequence (string or list) or a dictionary (in which case it’s really the dictionary’s keys); x must be a character if y is a string; if y is a list, x could be of any type."
   ]
  },
  {
   "cell_type": "code",
   "execution_count": 27,
   "metadata": {},
   "outputs": [],
   "source": [
    "#  How many parameters does function cyu3 take?\n",
    "\n",
    "def cyu3(x, y, z):\n",
    "    if x - y > 0:\n",
    "        return y -2\n",
    "    else:\n",
    "        z.append(y)\n",
    "    return x + 3\n"
   ]
  },
  {
   "cell_type": "code",
   "execution_count": 28,
   "metadata": {},
   "outputs": [],
   "source": [
    "#What are the possible types of variables x and y?\n",
    "\n",
    "def cyu3(x, y, z):\n",
    "    if x - y > 0:\n",
    "        return y -2\n",
    "    else:\n",
    "        z.append(y)\n",
    "    return x + 3"
   ]
  },
  {
   "cell_type": "markdown",
   "metadata": {},
   "source": [
    "# A function that accumulates\n",
    "We have used the len function a lot already. If it weren’t part of python, our lives as programmers would have been a lot harder.\n",
    "\n",
    "Well, actually, not that much harder. Now that we know how to define functions, we could define len ourselves if it did not exist. Previously, we have used the accumlator pattern to count the number of lines in a file. Let’s use that same idea and just wrap it in a function definition. We’ll call it mylen to distinguish it from the real len which already exists. We actually could call it len, but that wouldn’t be a very good idea, because it would replace the original len function, and our implementation may not be a very good one."
   ]
  },
  {
   "cell_type": "code",
   "execution_count": 29,
   "metadata": {},
   "outputs": [
    {
     "name": "stdout",
     "output_type": "stream",
     "text": [
      "5\n",
      "3\n"
     ]
    }
   ],
   "source": [
    "def mylen(seq):\n",
    "    c = 0 # initialize count variable to 0\n",
    "    for _ in seq:\n",
    "        c = c + 1   # increment the counter for each item in seq\n",
    "    return c\n",
    "\n",
    "print(mylen(\"hello\"))\n",
    "print(mylen([1, 2, 7]))"
   ]
  },
  {
   "cell_type": "code",
   "execution_count": 30,
   "metadata": {},
   "outputs": [],
   "source": [
    "#Write a function named total that takes a list of integers as input, and returns the total value of all those integers added together\n",
    "def total(lst):\n",
    "    total = 0\n",
    "    for num in lst:\n",
    "        total += num\n",
    "    return total"
   ]
  },
  {
   "cell_type": "code",
   "execution_count": 31,
   "metadata": {},
   "outputs": [],
   "source": [
    "#Write a function called count that takes a list of numbers as input and returns a count of the number of elements in the list.\n",
    "def count(lst):\n",
    "    total = 0\n",
    "    for num in lst:\n",
    "        total += 1\n",
    "        \n",
    "    return total"
   ]
  },
  {
   "cell_type": "code",
   "execution_count": null,
   "metadata": {},
   "outputs": [],
   "source": []
  }
 ],
 "metadata": {
  "kernelspec": {
   "display_name": "Python 3",
   "language": "python",
   "name": "python3"
  },
  "language_info": {
   "codemirror_mode": {
    "name": "ipython",
    "version": 3
   },
   "file_extension": ".py",
   "mimetype": "text/x-python",
   "name": "python",
   "nbconvert_exporter": "python",
   "pygments_lexer": "ipython3",
   "version": "3.7.6"
  }
 },
 "nbformat": 4,
 "nbformat_minor": 4
}
