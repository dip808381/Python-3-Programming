{
 "cells": [
  {
   "cell_type": "markdown",
   "metadata": {},
   "source": [
    "# Assignment_1"
   ]
  },
  {
   "cell_type": "code",
   "execution_count": 1,
   "metadata": {},
   "outputs": [],
   "source": [
    "# At the halfway point during the Rio Olympics, the United States had 70 medals, Great Britain had 38 medals, China had 45 medals, Russia had 30 medals, and Germany had 17 medals. Create a dictionary assigned to the variable medal_count with the country names as the keys and the number of medals the country had as each key’s value.\n",
    "medal_count = {'United States':70, 'Great Britain':38, 'China':45, 'Russia':30,'Germany':17}\n"
   ]
  },
  {
   "cell_type": "code",
   "execution_count": 4,
   "metadata": {},
   "outputs": [
    {
     "name": "stdout",
     "output_type": "stream",
     "text": [
      "{'Manuel': 4, 'Lochte': 12, 'Adrian': 7, 'Ledecky': 5, 'Dirado': 4, 'Phelps': 23}\n"
     ]
    }
   ],
   "source": [
    "#Given the dictionary swimmers, add an additional key-value pair to the dictionary with \"Phelps\" as the key and the integer 23 as the value. Do not rewrite the entire dictionary.\n",
    "swimmers = {'Manuel':4, 'Lochte':12, 'Adrian':7, 'Ledecky':5, 'Dirado':4}\n",
    "swimmers['Phelps'] = 23\n",
    "print(swimmers)"
   ]
  },
  {
   "cell_type": "code",
   "execution_count": 5,
   "metadata": {},
   "outputs": [
    {
     "name": "stdout",
     "output_type": "stream",
     "text": [
      "{'baseball': 9, 'basketball': 4, 'soccer': 4, 'cricket': 2, 'hockey': 3}\n"
     ]
    }
   ],
   "source": [
    "# Add the string “hockey” as a key to the dictionary sports_periods and assign it the value of 3. Do not rewrite the entire dictionary.\n",
    "sports_periods = {'baseball': 9, 'basketball': 4, 'soccer': 4, 'cricket': 2}\n",
    "sports_periods['hockey'] = 3\n",
    "print(sports_periods)"
   ]
  },
  {
   "cell_type": "code",
   "execution_count": 6,
   "metadata": {},
   "outputs": [
    {
     "name": "stdout",
     "output_type": "stream",
     "text": [
      "{'Italy': 12, 'USA': 33, 'Brazil': 15, 'China': 27, 'Spain': 21, 'Canada': 22, 'Argentina': 8, 'England': 29}\n"
     ]
    }
   ],
   "source": [
    "# The dictionary golds contains information about how many gold medals each country won in the 2016 Olympics. But today, Spain won 2 more gold medals. Update golds to reflect this information.\n",
    "golds = {\"Italy\": 12, \"USA\": 33, \"Brazil\": 15, \"China\": 27, \"Spain\": 19, \"Canada\": 22, \"Argentina\": 8, \"England\": 29}\n",
    "golds['Spain'] = golds['Spain'] + 2\n",
    "print(golds)"
   ]
  },
  {
   "cell_type": "code",
   "execution_count": 8,
   "metadata": {},
   "outputs": [
    {
     "name": "stdout",
     "output_type": "stream",
     "text": [
      "{'Italy': 12, 'USA': 33, 'Brazil': 15, 'China': 27, 'Spain': 19, 'Canada': 22, 'Argentina': 8, 'England': 29}\n"
     ]
    }
   ],
   "source": [
    "# Create a list of the countries that are in the dictionary golds, and assign that list to the variable name countries. Do not hard code this.\n",
    "golds = {\"Italy\": 12, \"USA\": 33, \"Brazil\": 15, \"China\": 27, \"Spain\": 19, \"Canada\": 22, \"Argentina\": 8, \"England\": 29}\n",
    "countries = golds\n",
    "print(countries)"
   ]
  },
  {
   "cell_type": "code",
   "execution_count": 9,
   "metadata": {},
   "outputs": [
    {
     "name": "stdout",
     "output_type": "stream",
     "text": [
      "4\n"
     ]
    }
   ],
   "source": [
    "# Provided is the dictionary, medal_count, which lists countries and their respective medal count at the halfway point in the 2016 Rio Olympics. Using dictionary mechanics, assign the medal count value for \"Belarus\" to the variable belarus. Do not hardcode this.\n",
    "medal_count = {'United States': 70, 'Great Britain':38, 'China':45, 'Russia':30, 'Germany':17, 'Italy':22, 'France': 22, 'Japan':26, 'Australia':22, 'South Korea':14, 'Hungary':12, 'Netherlands':10, 'Spain':5, 'New Zealand':8, 'Canada':13, 'Kazakhstan':8, 'Colombia':4, 'Switzerland':5, 'Belgium':4, 'Thailand':4, 'Croatia':3, 'Iran':3, 'Jamaica':3, 'South Africa':7, 'Sweden':6, 'Denmark':7, 'North Korea':6, 'Kenya':4, 'Brazil':7, 'Belarus':4, 'Cuba':5, 'Poland':4, 'Romania':4, 'Slovenia':3, 'Argentina':2, 'Bahrain':2, 'Slovakia':2, 'Vietnam':2, 'Czech Republic':6, 'Uzbekistan':5}\n",
    "belarus = medal_count[\"Belarus\"]\n",
    "print(belarus)"
   ]
  },
  {
   "cell_type": "code",
   "execution_count": 10,
   "metadata": {},
   "outputs": [
    {
     "name": "stdout",
     "output_type": "stream",
     "text": [
      "13\n"
     ]
    }
   ],
   "source": [
    "# The dictionary total_golds contains the total number of gold medals that countries have won over the course of history. Use dictionary mechanics to find the number of golds Chile has won, and assign that number to the variable name chile_golds. Do not hard code this!\n",
    "total_golds = {\"Italy\": 114, \"Germany\": 782, \"Pakistan\": 10, \"Sweden\": 627, \"USA\": 2681, \"Zimbabwe\": 8, \"Greece\": 111, \"Mongolia\": 24, \"Brazil\": 108, \"Croatia\": 34, \"Algeria\": 15, \"Switzerland\": 323, \"Yugoslavia\": 87, \"China\": 526, \"Egypt\": 26, \"Norway\": 477, \"Spain\": 133, \"Australia\": 480, \"Slovakia\": 29, \"Canada\": 22, \"New Zealand\": 100, \"Denmark\": 180, \"Chile\": 13, \"Argentina\": 70, \"Thailand\": 24, \"Cuba\": 209, \"Uganda\": 7,  \"England\": 806, \"Denmark\": 180, \"Ukraine\": 122, \"Bahamas\": 12}\n",
    "chile_golds = total_golds[\"Chile\"]\n",
    "print(chile_golds)"
   ]
  },
  {
   "cell_type": "code",
   "execution_count": 11,
   "metadata": {},
   "outputs": [
    {
     "name": "stdout",
     "output_type": "stream",
     "text": [
      "4\n"
     ]
    }
   ],
   "source": [
    "# Provided is a dictionary called US_medals which has the first 70 metals that the United States has won in 2016, and in which category they have won it in. Using dictionary mechanics, assign the value of the key \"Fencing\" to a variable fencing_value. Remember, do not hard code this.\n",
    "US_medals = {\"Swimming\": 33, \"Gymnastics\": 6, \"Track & Field\": 6, \"Tennis\": 3, \"Judo\": 2, \"Rowing\": 2, \"Shooting\": 3, \"Cycling - Road\": 1, \"Fencing\": 4, \"Diving\": 2, \"Archery\": 2, \"Cycling - Track\": 1, \"Equestrian\": 2, \"Golf\": 1, \"Weightlifting\": 1}\n",
    "fencing_value = US_medals[\"Fencing\"]\n",
    "print(fencing_value)"
   ]
  },
  {
   "cell_type": "markdown",
   "metadata": {},
   "source": [
    "# Assignment_2"
   ]
  },
  {
   "cell_type": "code",
   "execution_count": 13,
   "metadata": {},
   "outputs": [
    {
     "data": {
      "text/plain": [
       "18"
      ]
     },
     "execution_count": 13,
     "metadata": {},
     "output_type": "execute_result"
    }
   ],
   "source": [
    "# The dictionary Junior shows a schedule for a junior year semester. The key is the course name and the value is the number of credits. Find the total number of credits taken this semester and assign it to the variable credits. Do not hardcode this – use dictionary accumulation!\n",
    "Junior = {'SI 206':4, 'SI 310':4, 'BL 300':3, 'TO 313':3, 'BCOM 350':1, 'MO 300':3}\n",
    "credits = 0\n",
    "\n",
    "for value in Junior:\n",
    "    credits += Junior[value]\n",
    "credits"
   ]
  },
  {
   "cell_type": "code",
   "execution_count": 15,
   "metadata": {},
   "outputs": [
    {
     "name": "stdout",
     "output_type": "stream",
     "text": [
      "{'p': 9, 'e': 8, 't': 1, 'r': 3, ' ': 7, 'i': 3, 'c': 3, 'k': 3, 'd': 2, 'a': 1, 'o': 1, 'f': 1, 'l': 1, 's': 1}\n"
     ]
    }
   ],
   "source": [
    "# Create a dictionary, freq, that displays each character in string str1 as the key and its frequency as the value.\n",
    "str1 = \"peter piper picked a peck of pickled peppers\"\n",
    "freq = {}\n",
    "\n",
    "for k in str1:\n",
    "    if k not in freq:\n",
    "        freq[k] = 0\n",
    "    freq[k] += 1\n",
    "print(freq)"
   ]
  },
  {
   "cell_type": "code",
   "execution_count": 16,
   "metadata": {},
   "outputs": [
    {
     "name": "stdout",
     "output_type": "stream",
     "text": [
      "{'h': 1, 'e': 1, 'l': 2, 'o': 1}\n"
     ]
    }
   ],
   "source": [
    "# Provided is a string saved to the variable name s1. Create a dictionary named counts that contains each letter in s1 and the number of times it occurs.\n",
    "s1 = \"hello\"\n",
    "\n",
    "counts = {}\n",
    "\n",
    "for k in s1:\n",
    "    if k not in counts:\n",
    "        counts[k] = 0\n",
    "    counts[k] += 1\n",
    "print(counts)"
   ]
  },
  {
   "cell_type": "code",
   "execution_count": 18,
   "metadata": {},
   "outputs": [
    {
     "name": "stdout",
     "output_type": "stream",
     "text": [
      "{'I': 2, 'wish': 2, 'with': 2, 'all': 1, 'my': 1, 'heart': 1, 'to': 1, 'fly': 1, 'dragons': 1, 'in': 1, 'a': 1, 'land': 1, 'apart': 1}\n"
     ]
    }
   ],
   "source": [
    "# Create a dictionary, freq_words, that contains each word in string str1 as the key and its frequency as the value.\n",
    "str1 = \"I wish I wish with all my heart to fly with dragons in a land apart\"\n",
    "str1 = str1.split()\n",
    "\n",
    "freq_words = {}\n",
    "\n",
    "for k in str1:\n",
    "    if k not in freq_words:\n",
    "        freq_words[k] = 0\n",
    "    freq_words[k] += 1\n",
    "print(freq_words)"
   ]
  },
  {
   "cell_type": "code",
   "execution_count": 19,
   "metadata": {},
   "outputs": [
    {
     "name": "stdout",
     "output_type": "stream",
     "text": [
      "{'Singing': 1, 'in': 2, 'the': 2, 'rain': 2, 'and': 1, 'playing': 1, 'are': 1, 'two': 1, 'entirely': 1, 'different': 1, 'situations': 1, 'but': 1, 'both': 1, 'can': 1, 'be': 1, 'good': 1}\n"
     ]
    }
   ],
   "source": [
    "# Create a dictionary called wrd_d from the string sent, so that the key is a word and the value is how many times you have seen that word.\n",
    "sent = \"Singing in the rain and playing in the rain are two entirely different situations but both can be good\"\n",
    "sent = sent.split()\n",
    "\n",
    "wrd_d = {}\n",
    "\n",
    "for k in sent:\n",
    "    if k not in wrd_d:\n",
    "        wrd_d[k] = 0\n",
    "    wrd_d[k] += 1\n",
    "print(wrd_d)"
   ]
  },
  {
   "cell_type": "code",
   "execution_count": 20,
   "metadata": {},
   "outputs": [
    {
     "name": "stdout",
     "output_type": "stream",
     "text": [
      "s\n"
     ]
    }
   ],
   "source": [
    "# Create the dictionary characters that shows each character from the string sally and its frequency. Then, find the most frequent letter based on the dictionary. Assign this letter to the variable best_char.\n",
    "sally = \"sally sells sea shells by the sea shore\"\n",
    "characters = {}\n",
    "for k in sally:\n",
    "    if k not in characters:\n",
    "        characters[k] = 0\n",
    "    characters[k] += 1\n",
    "\n",
    "ks = characters.keys()\n",
    "best_char = list(ks)[0]  # Have to turn ks into a real list before using [] to select an item\n",
    "for k in ks:\n",
    "    if characters[k] > characters[best_char]:\n",
    "        best_char = k\n",
    "print(best_char)"
   ]
  },
  {
   "cell_type": "code",
   "execution_count": 21,
   "metadata": {},
   "outputs": [
    {
     "name": "stdout",
     "output_type": "stream",
     "text": [
      "n\n"
     ]
    }
   ],
   "source": [
    "# Find the least frequent letter. Create the dictionary characters that shows each character from string sally and its frequency. Then, find the least frequent letter in the string and assign the letter to the variable worst_char.\n",
    "sally = \"sally sells sea shells by the sea shore and by the road\"\n",
    "characters = {}\n",
    "for k in sally:\n",
    "    if k not in characters:\n",
    "        characters[k] = 0\n",
    "    characters[k] += 1\n",
    "\n",
    "ks = characters.keys()\n",
    "worst_char = list(ks)[0]  # Have to turn ks into a real list before using [] to select an item\n",
    "for k in ks:\n",
    "    if characters[k] < characters[worst_char]:\n",
    "        worst_char = k\n",
    "print(worst_char)\n"
   ]
  },
  {
   "cell_type": "code",
   "execution_count": 22,
   "metadata": {},
   "outputs": [
    {
     "name": "stdout",
     "output_type": "stream",
     "text": [
      "{'t': 19, 'h': 11, 'e': 29, 'r': 12, ' ': 53, 'i': 14, 's': 15, 'a': 17, 'd': 7, 'n': 15, 'f': 9, 'o': 17, 'm': 4, ',': 4, 'w': 6, 'c': 3, 'k': 2, 'l': 11, 'u': 8, '.': 4, 'v': 3, 'y': 1, 'g': 1, 'b': 1}\n"
     ]
    }
   ],
   "source": [
    "# Create a dictionary named letter_counts that contains each letter and the number of times it occurs in string1. Challenge: Letters should not be counted separately as upper-case and lower-case. Intead, all of them should be counted as lower-case.\n",
    "string1 = \"There is a tide in the affairs of men, Which taken at the flood, leads on to fortune. Omitted, all the voyage of their life is bound in shallows and in miseries. On such a full sea are we now afloat. And we must take the current when it serves, or lose our ventures.\"\n",
    "\n",
    "letter_counts = {}\n",
    "\n",
    "for k in string1.lower(): \n",
    "    if k not in letter_counts:\n",
    "        letter_counts[k] = 0\n",
    "    letter_counts[k] += 1\n",
    "print(letter_counts)"
   ]
  },
  {
   "cell_type": "code",
   "execution_count": 23,
   "metadata": {},
   "outputs": [
    {
     "name": "stdout",
     "output_type": "stream",
     "text": [
      "{'s': 5, 'u': 7, 'm': 3, 'e': 12, 'r': 3, ' ': 20, 'i': 3, 'a': 6, 'g': 3, 't': 9, 'o': 8, 'd': 1, '.': 2, 'y': 1, 'h': 6, 'v': 1, 'b': 2, 'c': 2, 'f': 3, 'l': 1, 'n': 1}\n"
     ]
    }
   ],
   "source": [
    "# Create a dictionary called low_d that keeps track of all the characters in the string p and notes how many times each character was seen. Make sure that there are no repeats of characters as keys, such that “T” and “t” are both seen as a “t” for example.\n",
    "p = \"Summer is a great time to go outside. You have to be careful of the sun though because of the heat.\"\n",
    "\n",
    "low_d = {}\n",
    "\n",
    "for k in p.lower(): \n",
    "    if k not in low_d:\n",
    "        low_d[k] = 0\n",
    "    low_d[k] += 1\n",
    "print(low_d)"
   ]
  },
  {
   "cell_type": "code",
   "execution_count": null,
   "metadata": {},
   "outputs": [],
   "source": []
  }
 ],
 "metadata": {
  "kernelspec": {
   "display_name": "Python 3",
   "language": "python",
   "name": "python3"
  },
  "language_info": {
   "codemirror_mode": {
    "name": "ipython",
    "version": 3
   },
   "file_extension": ".py",
   "mimetype": "text/x-python",
   "name": "python",
   "nbconvert_exporter": "python",
   "pygments_lexer": "ipython3",
   "version": "3.7.6"
  }
 },
 "nbformat": 4,
 "nbformat_minor": 4
}
