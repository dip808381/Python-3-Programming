{
 "cells": [
  {
   "cell_type": "markdown",
   "metadata": {},
   "source": [
    "# Assignment_1"
   ]
  },
  {
   "cell_type": "code",
   "execution_count": null,
   "metadata": {},
   "outputs": [],
   "source": [
    "# The textfile, travel_plans.txt, contains the summer travel plans for someone with some commentary. Find the total number of characters in the file and save to the variable num.\n",
    "file = open(\"travel_plans.txt\", 'r')\n",
    "num = len(file.read())\n",
    "print(num)"
   ]
  },
  {
   "cell_type": "markdown",
   "metadata": {},
   "source": [
    "316"
   ]
  },
  {
   "cell_type": "code",
   "execution_count": null,
   "metadata": {},
   "outputs": [],
   "source": [
    "# We have provided a file called emotion_words.txt that contains lines of words that describe emotions. Find the total number of words in the file and assign this value to the variable num_words.\n",
    "file = open(\"emotion_words.txt\", 'r')\n",
    "num_words = len(file.read().split())\n",
    "print(num_words)"
   ]
  },
  {
   "cell_type": "markdown",
   "metadata": {},
   "source": [
    "48"
   ]
  },
  {
   "cell_type": "code",
   "execution_count": null,
   "metadata": {},
   "outputs": [],
   "source": [
    "# Assign to the variable num_lines the number of lines in the file school_prompt.txt.\n",
    "file = open(\"school_prompt.txt\", 'r')\n",
    "num_lines = len(file.readlines())\n",
    "print(num_lines)"
   ]
  },
  {
   "cell_type": "markdown",
   "metadata": {},
   "source": [
    "10"
   ]
  },
  {
   "cell_type": "code",
   "execution_count": null,
   "metadata": {},
   "outputs": [],
   "source": [
    "# Assign the first 30 characters of school_prompt.txt as a string to the variable beginning_chars.\n",
    "file = open(\"school_prompt.txt\", 'r')\n",
    "beginning_chars = file.read()[:30]\n",
    "print(beginning_chars)"
   ]
  },
  {
   "cell_type": "markdown",
   "metadata": {},
   "source": [
    "Writing essays for school can"
   ]
  },
  {
   "cell_type": "code",
   "execution_count": null,
   "metadata": {},
   "outputs": [],
   "source": [
    "# Challenge: Using the file school_prompt.txt, assign the third word of every line to a list called three.\n",
    "file = open(\"school_prompt.txt\", 'r')\n",
    "three = list()\n",
    "num_words = file.readlines()\n",
    "print(num_words)\n",
    "for word in num_words:\n",
    "    word2 = word.split()\n",
    "    three.append(word2[2])\n",
    "print(three)"
   ]
  },
  {
   "cell_type": "markdown",
   "metadata": {},
   "source": [
    "['Writing essays for school can be difficult but\\n', 'many students find that by researching their topic that they\\n', 'have more to say and are better informed. Here are the university\\n', 'we require many undergraduate students to take a first year writing requirement\\n', 'so that they can\\n', 'have a solid foundation for their writing skills. This comes\\n', 'in handy for many students.\\n', 'Different schools have different requirements, but everyone uses\\n', 'writing at some point in their academic career, be it essays, research papers,\\n', 'technical write ups, or scripts.\\n']\n",
    "['for', 'find', 'to', 'many', 'they', 'solid', 'for', 'have', 'some', 'ups,']"
   ]
  },
  {
   "cell_type": "code",
   "execution_count": null,
   "metadata": {},
   "outputs": [],
   "source": [
    "# Create a list called emotions that contains the first word of every line in emotion_words.txt.\n",
    "file = open(\"emotion_words.txt\", 'r')\n",
    "emotions = list()\n",
    "num_words = file.readlines()\n",
    "print(num_words)\n",
    "for word in num_words:\n",
    "    word2 = word.split()\n",
    "    emotions.append(word2[0])\n",
    "print(emotions)\n"
   ]
  },
  {
   "cell_type": "markdown",
   "metadata": {},
   "source": [
    "['Sad upset blue down melancholy somber bitter troubled\\n', 'Angry mad enraged irate irritable wrathful outraged infuriated\\n', 'Happy cheerful content elated joyous delighted lively glad\\n', 'Confused disoriented puzzled perplexed dazed befuddled\\n', 'Excited eager thrilled delighted\\n', 'Scared afraid fearful panicked terrified petrified startled\\n', 'Nervous anxious jittery jumpy tense uneasy apprehensive\\n']\n",
    "['Sad', 'Angry', 'Happy', 'Confused', 'Excited', 'Scared', 'Nervous']"
   ]
  },
  {
   "cell_type": "code",
   "execution_count": null,
   "metadata": {},
   "outputs": [],
   "source": [
    "# Assign the first 33 characters from the textfile, travel_plans.txt to the variable first_chars.\n",
    "file = open(\"travel_plans.txt\", 'r')\n",
    "first_chars = file.read()[:33]\n",
    "print(first_chars)"
   ]
  },
  {
   "cell_type": "markdown",
   "metadata": {},
   "source": [
    "This summer I will be travelling."
   ]
  },
  {
   "cell_type": "code",
   "execution_count": null,
   "metadata": {},
   "outputs": [],
   "source": [
    "# Challenge: Using the file school_prompt.txt, if the character ‘p’ is in a word, then add the word to a list called p_words.\n",
    "file = open(\"school_prompt.txt\", 'r')\n",
    "p_words = list()\n",
    "num_words = file.readlines()\n",
    "#print(num_words)\n",
    "for word in num_words:\n",
    "    word = word.split()\n",
    "    #print(word)\n",
    "    for wr in word:\n",
    "        #print(wr)\n",
    "        if 'p' in wr:\n",
    "            print(wr)\n",
    "            p_words.append(wr)\n",
    "print(p_words"
   ]
  },
  {
   "cell_type": "markdown",
   "metadata": {},
   "source": [
    "\n",
    "topic\n",
    "point\n",
    "papers,\n",
    "ups,\n",
    "scripts.\n",
    "['topic', 'point', 'papers,', 'ups,', 'scripts.']"
   ]
  }
 ],
 "metadata": {
  "kernelspec": {
   "display_name": "Python 3",
   "language": "python",
   "name": "python3"
  },
  "language_info": {
   "codemirror_mode": {
    "name": "ipython",
    "version": 3
   },
   "file_extension": ".py",
   "mimetype": "text/x-python",
   "name": "python",
   "nbconvert_exporter": "python",
   "pygments_lexer": "ipython3",
   "version": "3.7.6"
  }
 },
 "nbformat": 4,
 "nbformat_minor": 4
}
