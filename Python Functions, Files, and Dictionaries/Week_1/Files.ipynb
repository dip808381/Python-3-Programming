{
 "cells": [
  {
   "cell_type": "markdown",
   "metadata": {},
   "source": [
    "# Working with Data Files\n",
    "\n",
    "Video: (filesintrovideo)\n",
    "\n",
    "So far, the data we have used in this book have all been either coded right into the program, or have been entered by the user. In real life data reside in files. For example the images we worked with in the image processing unit ultimately live in files on your hard drive. Web pages, and word processing documents, and music are other examples of data that live in files. In this short chapter we will introduce the Python concepts necessary to use data from files in our programs.\n",
    "\n",
    "For our purposes, we will assume that our data files are text files–that is, files filled with characters. The Python programs that you write are stored as text files. We can create these files in any of a number of ways. For example, we could use a text editor to type in and save the data. We could also download the data from a website and then save it in a file. Regardless of how the file is created, Python will allow us to manipulate the contents.\n",
    "\n",
    "In Python, we must open files before we can use them and close them when we are done with them. As you might expect, once a file is opened it becomes a Python object just like all other data. Table 1 shows the functions and methods that can be used to open and close files.\n",
    "\n",
    "Method Name\n",
    "\n",
    "Use\n",
    "\n",
    "Explanation\n",
    "\n",
    "open\n",
    "\n",
    "open(filename,'r')\n",
    "\n",
    "Open a file called filename and use it for reading. This will return a reference to a file object.\n",
    "\n",
    "open\n",
    "\n",
    "open(filename,'w')\n",
    "\n",
    "Open a file called filename and use it for writing. This will also return a reference to a file object.\n",
    "\n",
    "close\n",
    "\n",
    "filevariable.close()\n",
    "\n",
    "File use is complete."
   ]
  },
  {
   "cell_type": "markdown",
   "metadata": {},
   "source": [
    "# Reading a File\n",
    "As an example, suppose we have a text file called olympics.txt that contains the data representing about olympians across different years. The contents of the file are shown at the bottom of the page.\n",
    "\n",
    "To open this file, we would call the open function. The variable, fileref, now holds a reference to the file object returned by open. When we are finished with the file, we can close it by using the close method. After the file is closed any further attempts to use fileref will result in an error.\n",
    "\n"
   ]
  },
  {
   "cell_type": "code",
   "execution_count": null,
   "metadata": {},
   "outputs": [],
   "source": [
    "fileref = open(\"olympics.txt\", \"r\")\n",
    "## other code here that refers to variable fileref\n",
    "fileref.close()"
   ]
  },
  {
   "cell_type": "markdown",
   "metadata": {},
   "source": [
    "# Alternative File Reading Methods\n",
    "Once you have a file “object”, the thing returned by the open function, Python provides three methods to read data from that object. The read() method returns the entire contents of the file as a single string (or just some characters if you provide a number as an input parameter. The readlines method returns the entire contents of the entire file as a list of strings, where each item in the list is one line of the file. The readline method reads one line from the file and returns it as a string. The strings returned by readlines or readline will contain the newline character at the end. Table 2 summarizes these methods and the following session shows them in action.\n",
    "\n",
    "Method Name\n",
    "\n",
    "Use\n",
    "\n",
    "Explanation\n",
    "\n",
    "write\n",
    "\n",
    "filevar.write(astring)\n",
    "\n",
    "Add a string to the end of the file. filevar must refer to a file that has been opened for writing.\n",
    "\n",
    "read(n)\n",
    "\n",
    "filevar.read()\n",
    "\n",
    "Read and return a string of n characters, or the entire file as a single string if n is not provided.\n",
    "\n",
    "readline(n)\n",
    "\n",
    "filevar.readline()\n",
    "\n",
    "Read and return the next line of the file with all text up to and including the newline character. If n is provided as a parameter, then only n characters will be returned if the line is longer than n. Note the parameter n is not supported in the browser version of Python, and in fact is rarely used in practice, you can safely ignore it.\n",
    "\n",
    "readlines(n)\n",
    "\n",
    "filevar.readlines()\n",
    "\n",
    "Returns a list of strings, each representing a single line of the file. If n is not provided then all lines of the file are returned. If n is provided then n characters are read but n is rounded up so that an entire line is returned. Note Like readline readlines ignores the parameter n in the browser.\n",
    "\n",
    "In this course, we will generally either iterate through the lines returned by readlines() with a for loop, or use read() to get all of the contents as a single string.\n",
    "\n",
    "In other programming languages, where they don’t have the convenient for loop method of going through the lines of the file one by one, they use a different pattern which requires a different kind of loop, the while loop. Fortunately, you don’t need to learn this other pattern, and we will put off consideration of while loops until later in this course. We don’t need them for handling data from files."
   ]
  },
  {
   "cell_type": "code",
   "execution_count": 1,
   "metadata": {},
   "outputs": [],
   "source": [
    "# Using the file school_prompt2.txt, find the number of characters in the file and assign that value to the variable num_char.\n",
    "file_name = open(\"school_prompt2.txt\",\"r\")\n",
    "num_char = len(file_name.read())\n",
    "#print(len(num_char))\n",
    "file_name.close("
   ]
  },
  {
   "cell_type": "code",
   "execution_count": null,
   "metadata": {},
   "outputs": [],
   "source": [
    "# Find the number of lines in the file, travel_plans2.txt, and assign it to the variable num_lines.\n",
    "file_name = open(\"travel_plans2.txt\",\"r\")\n",
    "num_lines = len(file_name.readlines())\n",
    "#print(len(num_lines))"
   ]
  },
  {
   "cell_type": "code",
   "execution_count": null,
   "metadata": {},
   "outputs": [],
   "source": [
    "#Create a string called first_forty that is comprised of the first 40 characters of emotion_words2.txt.\n",
    "file_name = open(\"emotion_words2.txt\",\"r\")\n",
    "first_forty = file_name.read()[:40]\n",
    "#print(first_forty[:45])"
   ]
  },
  {
   "cell_type": "markdown",
   "metadata": {},
   "source": [
    "# Iterating over lines in a file\n",
    "We will now use this file as input in a program that will do some data processing. In the program, we will examine each line of the file and print it with some additional text. Because readlines() returns a list of lines of text, we can use the for loop to iterate through each line of the file.\n",
    "\n",
    "A line of a file is defined to be a sequence of characters up to and including a special character called the newline character. If you evaluate a string that contains a newline character you will see the character represented as \\n. If you print a string that contains a newline you will not see the \\n, you will just see its effects (a carriage return).\n",
    "\n",
    "As the for loop iterates through each line of the file the loop variable will contain the current line of the file as a string of characters. The general pattern for processing each line of a text file is as follows:\n",
    "\n",
    "for line in myFile.readlines():\n",
    "    statement1\n",
    "    statement2\n",
    "    ...\n",
    "To process all of our olypmics data, we will use a for loop to iterate over the lines of the file. Using the split method, we can break each line into a list containing all the fields of interest about the athlete. We can then take the values corresponding to name, team and event to construct a simple sentence.\n",
    "\n"
   ]
  },
  {
   "cell_type": "code",
   "execution_count": null,
   "metadata": {},
   "outputs": [],
   "source": [
    "olypmicsfile = open(\"olypmics.txt\", \"r\")\n",
    "\n",
    "for aline in olypmicsfile.readlines():\n",
    "    values = aline.split(\",\")\n",
    "    print(values[0], \"is from\", values[3], \"and is on the roster for\", values[4])\n",
    "\n",
    "olypmicsfile.close()"
   ]
  },
  {
   "cell_type": "markdown",
   "metadata": {},
   "source": [
    "To make the code a little simpler, and to allow for more efficient processing, Python provides a built-in way to iterate through the contents of a file one line at a time, without first reading them all into a list. Some students find this confusing initially, so we don’t recommend doing it this way, until you get a little more comfortable with Python. But this idiom is preferred by Python programmers, so you should be prepared to read it. And when you start dealing with big files, you may notice the efficiency gains of using it."
   ]
  },
  {
   "cell_type": "code",
   "execution_count": null,
   "metadata": {},
   "outputs": [],
   "source": [
    "olypmicsfile = open(\"olypmics.txt\", \"r\")\n",
    "\n",
    "for aline in olypmicsfile:\n",
    "    values = aline.split(\",\")\n",
    "    print(values[0], \"is from\", values[3], \"and is on the roster for\", values[4])\n",
    "\n",
    "olypmicsfile.close()"
   ]
  },
  {
   "cell_type": "code",
   "execution_count": null,
   "metadata": {},
   "outputs": [],
   "source": [
    "#Write code to find out how many lines are in the file emotion_words.txt as shown above. Save this value to the variable num_lines. Do not use the len method.\n",
    "lines = open(\"emotion_words.txt\", \"r\")\n",
    "count = 0\n",
    "for aline in lines.readlines():\n",
    "    count += 1\n",
    "    print(aline)\n",
    "num_lines = count\n",
    "lines.close()"
   ]
  },
  {
   "cell_type": "markdown",
   "metadata": {},
   "source": [
    "# Using with for Files\n",
    "Note\n",
    "\n",
    "This section is a bit of an advanced topic and can be easily skipped. But with statements are becoming very common and it doesn’t hurt to know about them in case you run into one in the wild.\n",
    "\n",
    "Now that you have seen and practiced a bit with opening and closing files, there is another mechanism that Python provides for us that cleans up the often forgotten close. Forgetting to close a file does not necessarily cause a runtime error in the kinds of programs you typically write in an introductory programing course. However if you are writing a program that may run for days or weeks at a time that does a lot of file reading and writing you may run into trouble.\n",
    "\n",
    "Python has the notion of a context manager that automates the process of doing common operations at the start of some task, as well as automating certain operations at the end of some task. For reading and writing a file, the normal operation is to open the file and assign it to a variable. At the end of working with a file the common operation is to make sure that file is closed.\n",
    "\n",
    "The Python with statement makes using context managers easy. The general form of a with statement is:\n",
    "\n",
    "with /create some object that understands context/ as /some name/:\n",
    "\n",
    "    do some stuff with the object\n",
    "    ...\n",
    "    \n",
    "    \n",
    "When the program exits the with block, the context manager handles the common stuff that normally happens at the end, in our case closing a file. A simple example will clear up all of this abstract discussion of contexts. Here are the contents of a file called “mydata.txt”."
   ]
  },
  {
   "cell_type": "code",
   "execution_count": null,
   "metadata": {},
   "outputs": [],
   "source": [
    "with open('mydata.txt', 'r') as md:\n",
    "    for line in md:\n",
    "        print(line)\n",
    "# continue on with other code"
   ]
  },
  {
   "cell_type": "markdown",
   "metadata": {},
   "source": [
    "The first line of the with statement opens the file and assigns it to the variable md. Then we can iterate over the file in any of the usual ways. When we are done we simply stop indenting and let Python take care of closing the file and cleaning up. The final line print(md)\n",
    "\n",
    "This is equivalent to code that specifically closes the file at the end, but neatly marks the set of code that can make use of the open file as an indented block, and ensures that the programmer won’t forget to include the .close() invocation."
   ]
  },
  {
   "cell_type": "code",
   "execution_count": null,
   "metadata": {},
   "outputs": [],
   "source": [
    "md = open('mydata.txt', 'r')\n",
    "for line in md:\n",
    "    print(line)\n",
    "md.close()\n",
    "# continue with other code"
   ]
  },
  {
   "cell_type": "markdown",
   "metadata": {},
   "source": [
    "# Recipe for Reading and Processing a File\n",
    "Here’s a foolproof recipe for processing the contents of a text file. If you’ve fully digested the previous sections, you’ll understand that there are other options as well. Some of those options are preferable for some situations, and some are preferred by python programmers for efficiency reasons. In this course, though, you can always succeed by following this recipe.\n",
    "\n",
    "#1. Open the file using with and open.\n",
    "\n",
    "#2. Use .readlines() to get a list of the lines of text in the file.\n",
    "\n",
    "#3. Use a for loop to iterate through the strings in the list, each being one line from the file. On each iteration, process that line of text\n",
    "\n",
    "#4. When you are done extracting data from the file, continue writing your code outside of the indentation. Using with will automatically close the file once the program exits the with block.\n",
    "\n",
    "fname = \"yourfile.txt\"\n",
    "\n",
    "with open(fname, 'r') as fileref:         # step 1\n",
    "\n",
    "    lines = fileref.readlines()           # step 2\n",
    "    \n",
    "    for lin in lines:                     # step 3\n",
    "    \n",
    "        #some code that references the variable line\n",
    "        \n",
    "#some other code not relying on fileref   # step 4\n",
    "\n",
    "\n",
    "\n",
    "However, this will not be good to use when you are working with large data. Imagine working with a datafile that has 1000 rows of data. It would take a long time to read in all the data and then if you had to iterate over it, even more time would be necessary. This would be a case where programmers prefer another option for efficiency reasons.\n",
    "\n",
    "This option involves iterating over the file itself while still iterating over each line in the file:\n",
    "\n",
    "\n",
    "fname = \"yourfile.txt\"\n",
    "\n",
    "with open(fname, 'r') as fileref:         # step 1\n",
    "\n",
    "    for lin in fileref:                   # step 2\n",
    "    \n",
    "        ## some code that reference the variable lin\n",
    "        \n",
    "#some other code not relying on fileref   # step 3"
   ]
  },
  {
   "cell_type": "markdown",
   "metadata": {},
   "source": [
    "# Writing Text Files\n",
    "One of the most commonly performed data processing tasks is to read data from a file, manipulate it in some way, and then write the resulting data out to a new data file to be used for other purposes later. To accomplish this, the open function discussed above can also be used to create a new file prepared for writing. Note in Table 1 that the only difference between opening a file for writing and opening a file for reading is the use of the 'w' flag instead of the 'r' flag as the second parameter. When we open a file for writing, a new, empty file with that name is created and made ready to accept our data. If an existing file has the same name, its contents are overwritten. As before, the function returns a reference to the new file object.\n",
    "\n",
    "Table 2 shows one additional method on file objects that we have not used thus far. The write method allows us to add data to a text file. Recall that text files contain sequences of characters. We usually think of these character sequences as being the lines of the file where each line ends with the newline \\n character. Be very careful to notice that the write method takes one parameter, a string. When invoked, the characters of the string will be added to the end of the file. This means that it is the programmer’s job to include the newline characters as part of the string if desired.\n",
    "\n",
    "Assume that we have been asked to provide a file consisting of all the squared numbers from 1 to 12.\n",
    "\n",
    "First, we will need to open the file. Afterwards, we will iterate through the numbers 1 through 12, and square each one of them. This new number will need to be converted to a string, and then it can be written into the file.\n",
    "\n",
    "The program below solves part of the problem. We first want to make sure that we’ve written the correct code to calculate the square of each number.\n",
    "\n"
   ]
  },
  {
   "cell_type": "code",
   "execution_count": 2,
   "metadata": {},
   "outputs": [
    {
     "name": "stdout",
     "output_type": "stream",
     "text": [
      "1\n",
      "4\n",
      "9\n",
      "16\n",
      "25\n",
      "36\n",
      "49\n",
      "64\n",
      "81\n",
      "100\n",
      "121\n",
      "144\n"
     ]
    }
   ],
   "source": [
    "for number in range(1, 13):\n",
    "    square = number * number\n",
    "    print(square)"
   ]
  },
  {
   "cell_type": "markdown",
   "metadata": {},
   "source": [
    "When we run this program, we see the lines of output on the screen. Once we are satisfied that it is creating the appropriate output, the next step is to add the necessary pieces to produce an output file and write the data lines to it. To start, we need to open a new output file by calling the open function, outfile = open(\"squared_numbers.txt\",'w'), using the 'w' flag. We can choose any file name we like. If the file does not exist, it will be created. However, if the file does exist, it will be reinitialized as empty and you will lose any previous contents.\n",
    "\n",
    "Once the file has been created, we just need to call the write method passing the string that we wish to add to the file. In this case, the string is already being printed so we will just change the print into a call to the write method. However, there is an additional step to take, since the write method can only accept a string as input. We’ll need to convert the number to a string. Then, we just need to add one extra character to the string. The newline character needs to be concatenated to the end of the line. The entire line now becomes outfile.write(str(square)+ '\\n'). The print statement automatically outputs a newline character after whatever text it outputs, but the write method does not do that automatically. We also need to close the file when we are done."
   ]
  },
  {
   "cell_type": "code",
   "execution_count": 3,
   "metadata": {},
   "outputs": [
    {
     "name": "stdout",
     "output_type": "stream",
     "text": [
      "1\n",
      "4\n",
      "9\n",
      "16\n",
      "2\n"
     ]
    }
   ],
   "source": [
    "filename = \"squared_numbers.txt\"\n",
    "outfile = open(filename, \"w\")\n",
    "\n",
    "for number in range(1, 13):\n",
    "    square = number * number\n",
    "    outfile.write(str(square) + \"\\n\")\n",
    "\n",
    "outfile.close()\n",
    "\n",
    "infile = open(filename, \"r\")\n",
    "print(infile.read()[:10])\n",
    "infile.close()"
   ]
  },
  {
   "cell_type": "markdown",
   "metadata": {},
   "source": [
    "# CSV Format\n",
    "CSV stands for Comma Separated Values. If you print out tabular data in CSV format, it can be easily imported into other programs like Excel, Google spreadsheets, or a statistics package (R, stata, SPSS, etc.).\n",
    "\n",
    "For example, we can make a file with the following contents. If you save it as a file name grades.csv, then you could import it into one of those programs. The first line gives the column names and the later lines each give the data for one row.\n",
    "\n",
    "Name,score,grade\n",
    "Jamal,98,A+\n",
    "Eloise,87,B+\n",
    "Madeline,99,A+\n",
    "Wei,94,A"
   ]
  },
  {
   "cell_type": "markdown",
   "metadata": {},
   "source": [
    "# Reading in data from a CSV File\n",
    "We are able to read in CSV files the same way we have with other text files. Because of the standardized structure of the data, there is a common pattern for processing it. To practice this, we will be using data about olympic events.\n",
    "\n",
    "Typically, CSV files will have a header as the first line, which contains column names. Then, each following row in the file will contain data that corresponds to the appropriate columns.\n",
    "\n",
    "All file methods that we have mentioned - read, readline, and readlines, and simply iterating over the file object itself - will work on CSV files. In our examples, we will iterate over the lines. Because the values on each line are separated with commas, we can use the .split() method to parse each line into a collection of separate value."
   ]
  },
  {
   "cell_type": "code",
   "execution_count": null,
   "metadata": {},
   "outputs": [],
   "source": [
    "fileconnection = open(\"olympics.txt\", 'r')\n",
    "lines = fileconnection.readlines()\n",
    "header = lines[0]\n",
    "field_names = header.strip().split(',')\n",
    "print(field_names)\n",
    "for row in lines[1:]:\n",
    "    vals = row.strip().split(',')\n",
    "    if vals[5] != \"NA\":\n",
    "        print(\"{}: {}; {}\".format(\n",
    "                vals[0],\n",
    "                vals[4],\n",
    "                vals[5]))\n"
   ]
  },
  {
   "cell_type": "code",
   "execution_count": null,
   "metadata": {},
   "outputs": [],
   "source": [
    "['Name', 'Sex', 'Age', 'Team', 'Event', 'Medal']\n",
    "Edgar Lindenau Aabye: Tug-Of-War; Gold\n",
    "Arvo Ossian Aaltonen: Swimming; Bronze\n",
    "Arvo Ossian Aaltonen: Swimming; Bronze\n",
    "Juhamatti Tapio Aaltonen: Ice Hockey; Bronze\n",
    "Paavo Johannes Aaltonen: Gymnastics; Bronze\n",
    "Paavo Johannes Aaltonen: Gymnastics; Gold\n",
    "Paavo Johannes Aaltonen: Gymnastics; Gold\n",
    "Paavo Johannes Aaltonen: Gymnastics; Gold\n",
    "Paavo Johannes Aaltonen: Gymnastics; Bronze"
   ]
  },
  {
   "cell_type": "markdown",
   "metadata": {},
   "source": [
    "# Writing data to a CSV File\n",
    "The typical pattern for writing data to a CSV file will be to write a header row and loop through the items in a list, outputting one row for each. Here we a have a list of tuples, each representing one Olympian, a subset of the rows and columns from the file we have been reading from."
   ]
  },
  {
   "cell_type": "code",
   "execution_count": 5,
   "metadata": {},
   "outputs": [],
   "source": [
    "olympians = [(\"John Aalberg\", 31, \"Cross Country Skiing\"),\n",
    "             (\"Minna Maarit Aalto\", 30, \"Sailing\"),\n",
    "             (\"Win Valdemar Aaltonen\", 54, \"Art Competitions\"),\n",
    "             (\"Wakako Abe\", 18, \"Cycling\")]\n",
    "\n",
    "outfile = open(\"reduced_olympics.csv\", \"w\")\n",
    "# output the header row\n",
    "outfile.write('Name,Age,Sport')\n",
    "outfile.write('\\n')\n",
    "# output each of the rows:\n",
    "for olympian in olympians:\n",
    "    row_string = '{},{},{}'.format(olympian[0], olympian[1], olympian[2])\n",
    "    outfile.write(row_string)\n",
    "    outfile.write('\\n')\n",
    "outfile.close()"
   ]
  },
  {
   "cell_type": "markdown",
   "metadata": {},
   "source": [
    "There are a few things worth noting in the code above.\n",
    "\n",
    "First, using .format() makes it really clear what we’re doing when we create the variable row_string. We are making a comma separated set of values; the {} curly braces indicated where to substitute in the actual values. The equivalent string concatenation would be very hard to read. An alternative, also clear way to do it would be with the .join method: row_string = ','.join(olympian[0], olympian[1], olympian[2]).\n",
    "\n",
    "Second, unlike the print statement, remember that the .write() method on a file object does not automatically insert a newline. Instead, we have to explicitly add the character \\n at the end of each line.\n",
    "\n",
    "Third, we have to explicitly refer to each of the elements of olympian when building the string to write. Note that just putting .format(olympian) wouldn’t work because the interpreter would see only one value (a tuple) when it was expecting three values to try to substitute into the string template. Later in the book we will see that python provides an advanced technique for automatically unpacking the three values from the tuple, with .format(*olympian).\n",
    "\n",
    "As described previously, if one or more columns contain text, and that text could contain commas, we need to do something to distinguish a comma in the text from a comma that is separating different values (cells in the table). If we want to enclose each value in double quotes, it can start to get a little tricky, because we will need to have the double quote character inside the string output. But it is doable. Indeed, one reason Python allows strings to be delimited with either single quotes or double quotes is so that one can be used to delimit the string and the other can be a character in the string. If you get to the point where you need to quote all of the values, we recommend learning to use python’s csv module."
   ]
  },
  {
   "cell_type": "code",
   "execution_count": 6,
   "metadata": {},
   "outputs": [],
   "source": [
    "olympians = [(\"John Aalberg\", 31, \"Cross Country Skiing, 15KM\"),\n",
    "             (\"Minna Maarit Aalto\", 30, \"Sailing\"),\n",
    "             (\"Win Valdemar Aaltonen\", 54, \"Art Competitions\"),\n",
    "             (\"Wakako Abe\", 18, \"Cycling\")]\n",
    "\n",
    "outfile = open(\"reduced_olympics2.csv\", \"w\")\n",
    "# output the header row\n",
    "outfile.write('\"Name\",\"Age\",\"Sport\"')\n",
    "outfile.write('\\n')\n",
    "# output each of the rows:\n",
    "for olympian in olympians:\n",
    "    row_string = '\"{}\", \"{}\", \"{}\"'.format(olympian[0], olympian[1], olympian[2])\n",
    "    outfile.write(row_string)\n",
    "    outfile.write('\\n')\n",
    "outfile.close()"
   ]
  },
  {
   "cell_type": "markdown",
   "metadata": {},
   "source": [
    "The following sample file called studentdata.txt contains one line for each student in an imaginary class. The students name is the first thing on each line, followed by some exam scores. The number of scores might be different for each student.\n",
    "\n",
    "joe 10 15 20 30 40\n",
    "bill 23 16 19 22\n",
    "sue 8 22 17 14 32 17 24 21 2 9 11 17\n",
    "grace 12 28 21 45 26 10\n",
    "john 14 32 25 16 89\n",
    "Using the text file studentdata.txt write a program that prints out the names of students that have more than six quiz scores."
   ]
  },
  {
   "cell_type": "code",
   "execution_count": null,
   "metadata": {},
   "outputs": [],
   "source": [
    "f = open(\"studentdata.txt\", \"r\")\n",
    "\n",
    "for aline in f:\n",
    "    items = aline.split()\n",
    "    if len(items[1:]) > 6:\n",
    "        print(items[0])\n",
    "\n",
    "f.close()"
   ]
  }
 ],
 "metadata": {
  "kernelspec": {
   "display_name": "Python 3",
   "language": "python",
   "name": "python3"
  },
  "language_info": {
   "codemirror_mode": {
    "name": "ipython",
    "version": 3
   },
   "file_extension": ".py",
   "mimetype": "text/x-python",
   "name": "python",
   "nbconvert_exporter": "python",
   "pygments_lexer": "ipython3",
   "version": "3.7.6"
  }
 },
 "nbformat": 4,
 "nbformat_minor": 4
}
